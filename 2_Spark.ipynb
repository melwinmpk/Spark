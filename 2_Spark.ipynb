{
 "cells": [
  {
   "cell_type": "markdown",
   "id": "97bc414c",
   "metadata": {},
   "source": [
    "<h3>What is SparkContext in Spark?</h3>\n",
    "<ul>\n",
    "    <li>SparkContext is the entry point of Apache Spark functionality. </li>\n",
    "    <li>The most important step of any driver application is to generate <b>SparkContext</b></li>\n",
    "    <li>It allows your application to access <b>cluster</b> with the help of <b>Resource Manager</b>. </li>\n",
    "    <li>To create <b>SparkContext</b>, first <b>SparkConf</b> should be made. </li>\n",
    "    <li>The <b>SparkConf</b> has a configuration parameter that our driver application will pass\n",
    "to SparkContext</li>\n",
    "</ul>\n",
    "<img src=\"https://cdn.educba.com/academy/wp-content/uploads/2020/10/How-Apache-Spark-Context-is-created.png\"></img>"
   ]
  },
  {
   "cell_type": "markdown",
   "id": "230e3b21",
   "metadata": {},
   "source": [
    "<h3>what are RDD's ?</h3>\n",
    "<ul>\n",
    "<li><b>Resilient Distributed Dataset (aka RDD)</b> is the primary data abstraction in\n",
    "Apache Spark and the core of Spark i.e. referred as \"Spark Core\".</li>\n",
    "<li>It is immutable collection of objects & <b>lazily evaluated</b>. </li>\n",
    "<li>Each dataset in RDD is divided into logical partitions, which may be computed\n",
    "on different nodes of the cluster.</li>\n",
    "</ul>"
   ]
  },
  {
   "cell_type": "markdown",
   "id": "7ad3a173",
   "metadata": {},
   "source": [
    "<h3>RDD Benefits</h3>"
   ]
  },
  {
   "cell_type": "code",
   "execution_count": null,
   "id": "d90a51f7",
   "metadata": {},
   "outputs": [],
   "source": []
  }
 ],
 "metadata": {
  "kernelspec": {
   "display_name": "Python 3 (ipykernel)",
   "language": "python",
   "name": "python3"
  },
  "language_info": {
   "codemirror_mode": {
    "name": "ipython",
    "version": 3
   },
   "file_extension": ".py",
   "mimetype": "text/x-python",
   "name": "python",
   "nbconvert_exporter": "python",
   "pygments_lexer": "ipython3",
   "version": "3.9.7"
  }
 },
 "nbformat": 4,
 "nbformat_minor": 5
}
