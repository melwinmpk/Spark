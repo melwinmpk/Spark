{
 "cells": [
  {
   "cell_type": "markdown",
   "id": "f9dc3357",
   "metadata": {},
   "source": [
    "### Predicate and Projection Pushdown in Spark"
   ]
  },
  {
   "cell_type": "markdown",
   "id": "3c216bcf",
   "metadata": {},
   "source": [
    "### Predicate vs Projection Pushdown in Spark 3 \n",
    "\n",
    "\n",
    "https://towardsdatascience.com/predicate-vs-projection-pushdown-in-spark-3-ac24c4d11855#:~:text=Projection%20Pushdown%20stands%20for%20the,those%20columns%20will%20be%20returned."
   ]
  },
  {
   "cell_type": "code",
   "execution_count": null,
   "id": "d1c7ea6a",
   "metadata": {},
   "outputs": [],
   "source": []
  }
 ],
 "metadata": {
  "kernelspec": {
   "display_name": "Python 3 (ipykernel)",
   "language": "python",
   "name": "python3"
  },
  "language_info": {
   "codemirror_mode": {
    "name": "ipython",
    "version": 3
   },
   "file_extension": ".py",
   "mimetype": "text/x-python",
   "name": "python",
   "nbconvert_exporter": "python",
   "pygments_lexer": "ipython3",
   "version": "3.9.7"
  }
 },
 "nbformat": 4,
 "nbformat_minor": 5
}
