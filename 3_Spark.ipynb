{
 "cells": [
  {
   "cell_type": "markdown",
   "id": "e92b8dda",
   "metadata": {},
   "source": [
    "### Accumulators\n",
    "<ul>\n",
    "    <li>Accumulators are updateable variables that are added through an associative &\n",
    "commutative operation on all nodes. </li>\n",
    "    <li>They are used to implement counters or sums</li>\n",
    "    <li>Spark natively supports numeric accumulators. </li>\n",
    "</ul>"
   ]
  },
  {
   "cell_type": "markdown",
   "id": "fa8c5c96",
   "metadata": {},
   "source": [
    "### Spark AQE (Adaptive Query Execution)\n",
    "<p><b>Adaptive Query Execution (AQE)</b> is an optimization technique in Spark SQL that makes\n",
    "use of the runtime statistics to choose the most efficient query execution plan. </p>\n",
    "<p>In Spark 3.0, the AQE framework is shipped with three features:</p>\n",
    "<ul>\n",
    "    <li>Dynamically coalescing shuffle partitions</li>\n",
    "    <li>Dynamically switching join strategies</li>\n",
    "    <li>Dynamically optimizing skew joins</li>\n",
    "</ul>"
   ]
  },
  {
   "cell_type": "markdown",
   "id": "dad2a3ea",
   "metadata": {},
   "source": [
    "### Catalyst Optimization\n",
    "<ul>\n",
    "    <li>Spark SQL is an Apache Spark module for structured data processing</li>\n",
    "    <li>One of the big differences with the Spark API RDD is that its interfaces provide\n",
    "additional information to perform more efficient processes.</li>\n",
    "    <li>This information is also useful for Spark SQL to benefit internally from using its\n",
    "Catalyst optimizer and improve performance in data processing.</li>\n",
    "</ul>\n",
    "\n",
    "#### What is Catalyst?\n",
    "<ul>\n",
    "    <li>Spark SQL was designed with an optimizer called Catalyst based on the functional\n",
    "programming of Scala. </li>\n",
    "    <li>Its two main purposes are: <br>\n",
    "        <b>first</b>, to add new optimization techniques to solve some problems with “big data” <br>\n",
    "        <b>second</b>, to allow developers to expand and customize the functions of the optimizer.\n",
    "    </li>\n",
    "</ul>\n",
    "\n",
    "#### Using Catalyst in Spark SQL\n",
    "<p>The Catalyst Optimizer in Spark offers <b>rule-based</b> and <b>cost-based</b> optimization.<br> \n",
    "    <b>Rule-based optimization</b> indicates how to execute the query from a set of defined rules. Meanwhile,<br>\n",
    "    <b>Cost-based optimization</b> generates multiple execution plans and compares them to choose the lowest cost one. \n",
    "</p>\n",
    "\n",
    "#### The four phases of the transformation that Catalyst performs\n",
    "<ul>\n",
    "    <li>Analysis</li>\n",
    "    <li>Logic Optimization Plan</li>\n",
    "    <li>Physical plan</li>\n",
    "    <li>Code generation</li>\n",
    "</ul>"
   ]
  },
  {
   "cell_type": "markdown",
   "id": "f799f64b",
   "metadata": {},
   "source": [
    "## Memory Calculation\n",
    "\n",
    "Melwin go throught the docs"
   ]
  },
  {
   "cell_type": "markdown",
   "id": "561c7baa",
   "metadata": {},
   "source": [
    "### Types of Partitioning in Spark\n",
    "<ul>\n",
    "    <li>Hash Partitioning</li>\n",
    "    <li>Range Partitioning</li>\n",
    "</ul>\n",
    "\n",
    "#### Hash Partitioning\n",
    "<ul>\n",
    "    <li>Hash Partitioning attempts to spread the data evenly across various partitions based\n",
    "on the key.</li>\n",
    "    <li> Object.hashCode method is used to determine the partition in Spark as\n",
    "partition = key.hashCode ( ) % numPartitions.</li>\n",
    "</ul>\n",
    "\n",
    "#### Range Partitioning\n",
    "<ul>\n",
    "    <li>Some Spark RDDs have keys that follow a particular ordering for such RDDs range\n",
    "partitioning is an efficient partitioning technique.</li>\n",
    "    <li>In range partitioning method, tuples having keys within the same range will appear on\n",
    "the same machine.</li>\n",
    "    <li>Keys in a range partitioner are partitioned based on the set of sorted range of keys and\n",
    "ordering of keys.</li>\n",
    "</ul>"
   ]
  },
  {
   "cell_type": "code",
   "execution_count": null,
   "id": "bc1122d2",
   "metadata": {},
   "outputs": [],
   "source": []
  },
  {
   "cell_type": "code",
   "execution_count": null,
   "id": "afc3d32e",
   "metadata": {},
   "outputs": [],
   "source": []
  },
  {
   "cell_type": "code",
   "execution_count": null,
   "id": "f2920174",
   "metadata": {},
   "outputs": [],
   "source": []
  },
  {
   "cell_type": "code",
   "execution_count": null,
   "id": "c5f6254d",
   "metadata": {},
   "outputs": [],
   "source": []
  },
  {
   "cell_type": "markdown",
   "id": "f9dc3357",
   "metadata": {},
   "source": [
    "### Predicate and Projection Pushdown in Spark"
   ]
  },
  {
   "cell_type": "markdown",
   "id": "3c216bcf",
   "metadata": {},
   "source": [
    "### Predicate vs Projection Pushdown in Spark 3 \n",
    "\n",
    "\n",
    "https://towardsdatascience.com/predicate-vs-projection-pushdown-in-spark-3-ac24c4d11855#:~:text=Projection%20Pushdown%20stands%20for%20the,those%20columns%20will%20be%20returned."
   ]
  },
  {
   "cell_type": "markdown",
   "id": "81797cf5",
   "metadata": {},
   "source": [
    "### What is a predicate pushdown?\n",
    "<p>The basic idea of predicate pushdown is that certain parts of SQL queries (the predicates) can be “pushed” to where the data lives. <br>This optimization can drastically reduce query/processing time by filtering out data earlier rather than later.</p>"
   ]
  },
  {
   "cell_type": "code",
   "execution_count": null,
   "id": "529eab66",
   "metadata": {},
   "outputs": [],
   "source": []
  }
 ],
 "metadata": {
  "kernelspec": {
   "display_name": "Python 3 (ipykernel)",
   "language": "python",
   "name": "python3"
  },
  "language_info": {
   "codemirror_mode": {
    "name": "ipython",
    "version": 3
   },
   "file_extension": ".py",
   "mimetype": "text/x-python",
   "name": "python",
   "nbconvert_exporter": "python",
   "pygments_lexer": "ipython3",
   "version": "3.9.7"
  }
 },
 "nbformat": 4,
 "nbformat_minor": 5
}
