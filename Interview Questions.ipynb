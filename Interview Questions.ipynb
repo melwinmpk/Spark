{
 "cells": [
  {
   "cell_type": "markdown",
   "id": "784b805c",
   "metadata": {},
   "source": [
    "### When to use Avro and when Parquet and Why ?"
   ]
  },
  {
   "cell_type": "markdown",
   "id": "4db31137",
   "metadata": {},
   "source": [
    "<p><b>AVRO</b> is a row-based storage format whereas PARQUET is a columnar based storage format.</p>\n",
    "<p><b>PARQUET</b> is a columnar based storage format.</p>\n",
    "<p><b>PARQUET</b> is much better for analytical querying i.e. reads and querying are much more efficient than writing.<br> Write operations in <b>AVRO</b> are better than in <b>PARQUET</b>.</p>"
   ]
  },
  {
   "cell_type": "markdown",
   "id": "4fb71f32",
   "metadata": {},
   "source": [
    "### Do you have any idea Hadoop Erasure in coding?\n",
    "<p>Erasure coding, a new feature in HDFS, <b>can reduce storage overhead by approximately 50% compared to replication</b> while maintaining the same durability guarantees. This post explains how it works.</p>\n",
    "\n",
    "link : https://blog.cloudera.com/introduction-to-hdfs-erasure-coding-in-apache-hadoop/\n",
    "\n",
    "In Hadoop3 we can enable Erasure coding policy to any folder in HDFS. By default erasure coding is not enabled in Hadoop3\n",
    "\n",
    "### How to Configure it ?\n",
    "link https://stackoverflow.com/questions/51475712/hadoop-3-how-to-configure-enable-erasure-coding"
   ]
  },
  {
   "cell_type": "code",
   "execution_count": null,
   "id": "b6dda230",
   "metadata": {},
   "outputs": [],
   "source": [
    "### What is Spark driver?\n"
   ]
  }
 ],
 "metadata": {
  "kernelspec": {
   "display_name": "Python 3 (ipykernel)",
   "language": "python",
   "name": "python3"
  },
  "language_info": {
   "codemirror_mode": {
    "name": "ipython",
    "version": 3
   },
   "file_extension": ".py",
   "mimetype": "text/x-python",
   "name": "python",
   "nbconvert_exporter": "python",
   "pygments_lexer": "ipython3",
   "version": "3.9.7"
  }
 },
 "nbformat": 4,
 "nbformat_minor": 5
}
