{
 "cells": [
  {
   "cell_type": "markdown",
   "id": "15aebe9f-69cf-4830-8a48-bb7359453baf",
   "metadata": {},
   "source": [
    "<pre>\n",
    "Each action has one job\n",
    "Each Job has one Stage\n",
    "Each Stage has one or more Tasks running parallely based on Partition \n",
    "in the above example as soon as tasks has the Partition tasks increases\n",
    "</pre>"
   ]
  },
  {
   "cell_type": "code",
   "execution_count": 1,
   "id": "fef9c10a-7e6b-4d7d-b20b-5178b5ecd5a4",
   "metadata": {
    "scrolled": true
   },
   "outputs": [
    {
     "name": "stderr",
     "output_type": "stream",
     "text": [
      "WARNING: Using incubator modules: jdk.incubator.vector\n",
      "Using Spark's default log4j profile: org/apache/spark/log4j2-defaults.properties\n",
      "25/07/24 04:24:48 WARN Utils: Your hostname, de24, resolves to a loopback address: 127.0.1.1; using 192.168.0.102 instead (on interface enp0s3)\n",
      "25/07/24 04:24:48 WARN Utils: Set SPARK_LOCAL_IP if you need to bind to another address\n",
      "Using Spark's default log4j profile: org/apache/spark/log4j2-defaults.properties\n",
      "Setting default log level to \"WARN\".\n",
      "To adjust logging level use sc.setLogLevel(newLevel). For SparkR, use setLogLevel(newLevel).\n",
      "25/07/24 04:24:49 WARN NativeCodeLoader: Unable to load native-hadoop library for your platform... using builtin-java classes where applicable\n"
     ]
    },
    {
     "name": "stdout",
     "output_type": "stream",
     "text": [
      "[Row(name='Mitali  ', count=2), Row(name='sohail  ', count=2), Row(name='Manas   ', count=2), Row(name='Saif    ', count=2), Row(name='Ram     ', count=1)]\n"
     ]
    },
    {
     "name": "stdin",
     "output_type": "stream",
     "text": [
      "press Enter hellow\n"
     ]
    },
    {
     "name": "stdout",
     "output_type": "stream",
     "text": [
      "completed\n"
     ]
    }
   ],
   "source": [
    "import findspark\n",
    "findspark.init()\n",
    "\n",
    "from pyspark.sql import SparkSession \n",
    "from pyspark.conf import SparkConf\n",
    "import pyspark.sql.functions as F\n",
    "\n",
    "# Create a SparkConf object\n",
    "conf = SparkConf().setAppName(\"learning\")\\\n",
    "            .setMaster(\"local[4]\")\\\n",
    "            .set(\"spark.sql.shuffle.partitions\", \"2\")\n",
    "\n",
    "spark = SparkSession.builder.config(conf=conf).getOrCreate()\n",
    "\n",
    "# reading and infering are 2 different actions so its having 2 Jobs 1 stage each stage and 1 task each\n",
    "df = spark.read\\\n",
    "          .option(\"header\",\"true\")\\\n",
    "          .option(\"inferSchema\",\"true\")\\\n",
    "          .csv(\"emp_all.txt\")\n",
    "\n",
    "\n",
    "\n",
    " \n",
    "partitioned_survey_df = df.repartition(2)   # repartition and write to exchange  one Stage in one partition 1 task  \n",
    "\n",
    "\n",
    "count_df = partitioned_survey_df.where(F.col(\"country\") > 10)\\                   # read exchange  runs in 2 partitions (2 task) wright back to exchange \n",
    "                        .select( F.col(\"name\"), F.col(\"id\"), F.col(\"country\"))\\  \n",
    "                        .groupBy(F.col(\"name\"))\\\n",
    "                        .count()\n",
    "\n",
    "# collect is one Action so having  1 Jobs having  3 stages (1 repartition, 1 count, 1 collect )\n",
    "print(count_df.collect())            # reads the exhange runs in 2 partition return the results 2 task\n",
    "\n",
    "input(\"press Enter\")\n",
    "\n",
    "print(\"completed\")"
   ]
  },
  {
   "cell_type": "code",
   "execution_count": 2,
   "id": "cdc2ebff-5ed7-447e-ac29-d8e2ceee001a",
   "metadata": {},
   "outputs": [],
   "source": [
    "\n",
    "<pre>\n",
    "the above program has\n",
    "    3 Jobs    ([reading and infering]   => 2,  [collect] => 1 )\n",
    "    5 Satages ([reading and infering] ) => 2, [collect] => 3 (1 repartition, 1 count, 1 collect )\n",
    "    7 Tasks   ([reading and infering] ) => 2, [collect] => 5 (1 repartition, 2 count, 2 collect )\n",
    "\n",
    "</pre>\n"
   ]
  },
  {
   "cell_type": "code",
   "execution_count": 3,
   "id": "5f2410d5-06b6-45d1-b4e6-9a59f1f1b54b",
   "metadata": {},
   "outputs": [
    {
     "name": "stdout",
     "output_type": "stream",
     "text": [
      "+---+--------+-------+\n",
      "| id|    name|country|\n",
      "+---+--------+-------+\n",
      "|101|sohail  | 1000.0|\n",
      "|102|Saif    | 2000.0|\n",
      "|103|Mitali  | 3000.0|\n",
      "|104|Manas   | 4000.0|\n",
      "|105|Ram     | 5000.0|\n",
      "|106|sohail  | 1000.0|\n",
      "|107|Saif    | 2000.0|\n",
      "|108|Mitali  | 3000.0|\n",
      "|109|Manas   | 4000.0|\n",
      "+---+--------+-------+\n",
      "\n"
     ]
    }
   ],
   "source": []
  },
  {
   "cell_type": "code",
   "execution_count": null,
   "id": "aeb54dc7-dc59-49d7-aa0d-3579c9c25d36",
   "metadata": {},
   "outputs": [],
   "source": []
  }
 ],
 "metadata": {
  "kernelspec": {
   "display_name": "Python 3 (ipykernel)",
   "language": "python",
   "name": "python3"
  },
  "language_info": {
   "codemirror_mode": {
    "name": "ipython",
    "version": 3
   },
   "file_extension": ".py",
   "mimetype": "text/x-python",
   "name": "python",
   "nbconvert_exporter": "python",
   "pygments_lexer": "ipython3",
   "version": "3.12.3"
  }
 },
 "nbformat": 4,
 "nbformat_minor": 5
}
