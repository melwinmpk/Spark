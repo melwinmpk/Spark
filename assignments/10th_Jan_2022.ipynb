{
 "cells": [
  {
   "cell_type": "markdown",
   "id": "c98f53c5",
   "metadata": {},
   "source": [
    "<pre>\n",
    "*****PySpark DF Question*****\n",
    "Filenames: txns\n",
    "1) Filter category by gymnastics and  Team Sports in one Df.\n",
    "2) Filter spendby by credit and save in another Df.\n",
    "3) Join these two DF using DSL.\n",
    "4) Write the data to hdfs in XML format with roottag as txn and row tag as records\n",
    "</pre>"
   ]
  },
  {
   "cell_type": "code",
   "execution_count": 1,
   "id": "e3766fa7",
   "metadata": {},
   "outputs": [],
   "source": [
    "from pyspark.sql import SparkSession"
   ]
  },
  {
   "cell_type": "code",
   "execution_count": 2,
   "id": "02076381",
   "metadata": {},
   "outputs": [],
   "source": [
    "spark = SparkSession.builder.appName(\"yettodecide\").master(\"local\").getOrCreate()"
   ]
  },
  {
   "cell_type": "code",
   "execution_count": 3,
   "id": "ab3f30a0",
   "metadata": {},
   "outputs": [],
   "source": [
    "df = spark.read.format(\"csv\")\\\n",
    "          .option(\"header\",True)\\\n",
    "          .option(\"InferSchema\",True)\\\n",
    "          .load(\"C:\\\\Personal\\\\Projects\\\\Spark\\\\dataset\\\\txns\")"
   ]
  },
  {
   "cell_type": "code",
   "execution_count": 6,
   "id": "e47c6a03",
   "metadata": {},
   "outputs": [
    {
     "name": "stdout",
     "output_type": "stream",
     "text": [
      "+-----+----------+-------+------+----------------------+---------------------------------+--------------+--------------+-------+\n",
      "|txnno|txndate   |custno |amount|category              |product                          |city          |state         |spendby|\n",
      "+-----+----------+-------+------+----------------------+---------------------------------+--------------+--------------+-------+\n",
      "|0    |06-26-2011|4007024|40.33 |Exercise & Fitness    |Cardio Machine Accessories       |Clarksville   |Tennessee     |credit |\n",
      "|1    |05-26-2011|4006742|198.44|Exercise & Fitness    |Weightlifting Gloves             |Long Beach    |California    |credit |\n",
      "|2    |06-01-2011|4009775|5.58  |Exercise & Fitness    |Weightlifting Machine Accessories|Anaheim       |California    |credit |\n",
      "|3    |06-05-2011|4002199|198.19|Gymnastics            |Gymnastics Rings                 |Milwaukee     |Wisconsin     |credit |\n",
      "|4    |12-17-2011|4002613|98.81 |Team Sports           |Field Hockey                     |Nashville     |Tennessee     |credit |\n",
      "|5    |02-14-2011|4007591|193.63|Outdoor Recreation    |Camping & Backpacking & Hiking   |Chicago       |Illinois      |credit |\n",
      "|6    |10-28-2011|4002190|27.89 |Puzzles               |Jigsaw Puzzles                   |Charleston    |South Carolina|credit |\n",
      "|7    |07-14-2011|4002964|96.01 |Outdoor Play Equipment|Sandboxes                        |Columbus      |Ohio          |credit |\n",
      "|8    |01-17-2011|4007361|10.44 |Winter Sports         |Snowmobiling                     |Des Moines    |Iowa          |credit |\n",
      "|9    |05-17-2011|4004798|152.46|Jumping               |Bungee Jumping                   |St. Petersburg|Florida       |credit |\n",
      "+-----+----------+-------+------+----------------------+---------------------------------+--------------+--------------+-------+\n",
      "only showing top 10 rows\n",
      "\n"
     ]
    }
   ],
   "source": [
    "df.show(10,truncate=False)"
   ]
  },
  {
   "cell_type": "code",
   "execution_count": 5,
   "id": "6cdf8758",
   "metadata": {},
   "outputs": [],
   "source": [
    "from pyspark.sql.functions import col"
   ]
  },
  {
   "cell_type": "code",
   "execution_count": 11,
   "id": "f0f1ae19",
   "metadata": {},
   "outputs": [
    {
     "name": "stdout",
     "output_type": "stream",
     "text": [
      "+-----+----------+-------+------+-----------+-----------------+--------------+----------+-------+\n",
      "|txnno|txndate   |custno |amount|category   |product          |city          |state     |spendby|\n",
      "+-----+----------+-------+------+-----------+-----------------+--------------+----------+-------+\n",
      "|3    |06-05-2011|4002199|198.19|Gymnastics |Gymnastics Rings |Milwaukee     |Wisconsin |credit |\n",
      "|4    |12-17-2011|4002613|98.81 |Team Sports|Field Hockey     |Nashville     |Tennessee |credit |\n",
      "|13   |03-13-2011|4003268|107.8 |Team Sports|Field Hockey     |Honolulu      |Hawaii    |credit |\n",
      "|14   |02-25-2011|4004613|36.81 |Gymnastics |Vaulting Horses  |Los Angeles   |California|credit |\n",
      "|18   |11-18-2011|4002444|88.65 |Team Sports|Baseball         |Salt Lake City|Utah      |credit |\n",
      "|23   |05-02-2011|4007596|99.5  |Gymnastics |Gymnastics Rings |Springfield   |Illinois  |credit |\n",
      "|28   |05-12-2011|4001864|79.78 |Team Sports|Cricket          |Lexington     |Kentucky  |credit |\n",
      "|32   |01-29-2011|4007790|20.13 |Team Sports|Soccer           |Springfield   |Illinois  |credit |\n",
      "|34   |05-06-2011|4000663|98.96 |Team Sports|Indoor Volleyball|Atlanta       |Georgia   |credit |\n",
      "|36   |10-13-2011|4009055|35.66 |Team Sports|Football         |Saint Paul    |Minnesota |credit |\n",
      "+-----+----------+-------+------+-----------+-----------------+--------------+----------+-------+\n",
      "only showing top 10 rows\n",
      "\n"
     ]
    }
   ],
   "source": [
    "df1 = df.where( (col(\"category\") == \"Gymnastics\") | (col(\"category\") == \"Team Sports\"))  \n",
    "df1.show(10,truncate=False)"
   ]
  },
  {
   "cell_type": "code",
   "execution_count": 12,
   "id": "7daf2e7c",
   "metadata": {},
   "outputs": [
    {
     "name": "stdout",
     "output_type": "stream",
     "text": [
      "+-----+----------+-------+------+----------------------+---------------------------------+--------------+--------------+-------+\n",
      "|txnno|txndate   |custno |amount|category              |product                          |city          |state         |spendby|\n",
      "+-----+----------+-------+------+----------------------+---------------------------------+--------------+--------------+-------+\n",
      "|0    |06-26-2011|4007024|40.33 |Exercise & Fitness    |Cardio Machine Accessories       |Clarksville   |Tennessee     |credit |\n",
      "|1    |05-26-2011|4006742|198.44|Exercise & Fitness    |Weightlifting Gloves             |Long Beach    |California    |credit |\n",
      "|2    |06-01-2011|4009775|5.58  |Exercise & Fitness    |Weightlifting Machine Accessories|Anaheim       |California    |credit |\n",
      "|3    |06-05-2011|4002199|198.19|Gymnastics            |Gymnastics Rings                 |Milwaukee     |Wisconsin     |credit |\n",
      "|4    |12-17-2011|4002613|98.81 |Team Sports           |Field Hockey                     |Nashville     |Tennessee     |credit |\n",
      "|5    |02-14-2011|4007591|193.63|Outdoor Recreation    |Camping & Backpacking & Hiking   |Chicago       |Illinois      |credit |\n",
      "|6    |10-28-2011|4002190|27.89 |Puzzles               |Jigsaw Puzzles                   |Charleston    |South Carolina|credit |\n",
      "|7    |07-14-2011|4002964|96.01 |Outdoor Play Equipment|Sandboxes                        |Columbus      |Ohio          |credit |\n",
      "|8    |01-17-2011|4007361|10.44 |Winter Sports         |Snowmobiling                     |Des Moines    |Iowa          |credit |\n",
      "|9    |05-17-2011|4004798|152.46|Jumping               |Bungee Jumping                   |St. Petersburg|Florida       |credit |\n",
      "+-----+----------+-------+------+----------------------+---------------------------------+--------------+--------------+-------+\n",
      "only showing top 10 rows\n",
      "\n"
     ]
    }
   ],
   "source": [
    "df2 = df.where( (col(\"spendby\") == \"credit\"))\n",
    "df2.show(10,truncate=False)"
   ]
  },
  {
   "cell_type": "code",
   "execution_count": 13,
   "id": "a5a77898",
   "metadata": {},
   "outputs": [
    {
     "name": "stdout",
     "output_type": "stream",
     "text": [
      "+-----+----------+-------+------+-----------+-----------------+--------------+----------+-------+-----+----------+-------+------+-----------+-----------------+--------------+----------+-------+\n",
      "|txnno|txndate   |custno |amount|category   |product          |city          |state     |spendby|txnno|txndate   |custno |amount|category   |product          |city          |state     |spendby|\n",
      "+-----+----------+-------+------+-----------+-----------------+--------------+----------+-------+-----+----------+-------+------+-----------+-----------------+--------------+----------+-------+\n",
      "|3    |06-05-2011|4002199|198.19|Gymnastics |Gymnastics Rings |Milwaukee     |Wisconsin |credit |3    |06-05-2011|4002199|198.19|Gymnastics |Gymnastics Rings |Milwaukee     |Wisconsin |credit |\n",
      "|4    |12-17-2011|4002613|98.81 |Team Sports|Field Hockey     |Nashville     |Tennessee |credit |4    |12-17-2011|4002613|98.81 |Team Sports|Field Hockey     |Nashville     |Tennessee |credit |\n",
      "|13   |03-13-2011|4003268|107.8 |Team Sports|Field Hockey     |Honolulu      |Hawaii    |credit |13   |03-13-2011|4003268|107.8 |Team Sports|Field Hockey     |Honolulu      |Hawaii    |credit |\n",
      "|14   |02-25-2011|4004613|36.81 |Gymnastics |Vaulting Horses  |Los Angeles   |California|credit |14   |02-25-2011|4004613|36.81 |Gymnastics |Vaulting Horses  |Los Angeles   |California|credit |\n",
      "|18   |11-18-2011|4002444|88.65 |Team Sports|Baseball         |Salt Lake City|Utah      |credit |18   |11-18-2011|4002444|88.65 |Team Sports|Baseball         |Salt Lake City|Utah      |credit |\n",
      "|23   |05-02-2011|4007596|99.5  |Gymnastics |Gymnastics Rings |Springfield   |Illinois  |credit |23   |05-02-2011|4007596|99.5  |Gymnastics |Gymnastics Rings |Springfield   |Illinois  |credit |\n",
      "|28   |05-12-2011|4001864|79.78 |Team Sports|Cricket          |Lexington     |Kentucky  |credit |28   |05-12-2011|4001864|79.78 |Team Sports|Cricket          |Lexington     |Kentucky  |credit |\n",
      "|32   |01-29-2011|4007790|20.13 |Team Sports|Soccer           |Springfield   |Illinois  |credit |32   |01-29-2011|4007790|20.13 |Team Sports|Soccer           |Springfield   |Illinois  |credit |\n",
      "|34   |05-06-2011|4000663|98.96 |Team Sports|Indoor Volleyball|Atlanta       |Georgia   |credit |34   |05-06-2011|4000663|98.96 |Team Sports|Indoor Volleyball|Atlanta       |Georgia   |credit |\n",
      "|36   |10-13-2011|4009055|35.66 |Team Sports|Football         |Saint Paul    |Minnesota |credit |36   |10-13-2011|4009055|35.66 |Team Sports|Football         |Saint Paul    |Minnesota |credit |\n",
      "+-----+----------+-------+------+-----------+-----------------+--------------+----------+-------+-----+----------+-------+------+-----------+-----------------+--------------+----------+-------+\n",
      "only showing top 10 rows\n",
      "\n"
     ]
    }
   ],
   "source": [
    "df3 = df1.join(df2, df1.txnno == df2.txnno, \"inner\")\n",
    "df3.show(10,truncate=False)"
   ]
  },
  {
   "cell_type": "code",
   "execution_count": null,
   "id": "c1dbf790",
   "metadata": {},
   "outputs": [],
   "source": [
    "df3 "
   ]
  }
 ],
 "metadata": {
  "kernelspec": {
   "display_name": "Python 3 (ipykernel)",
   "language": "python",
   "name": "python3"
  },
  "language_info": {
   "codemirror_mode": {
    "name": "ipython",
    "version": 3
   },
   "file_extension": ".py",
   "mimetype": "text/x-python",
   "name": "python",
   "nbconvert_exporter": "python",
   "pygments_lexer": "ipython3",
   "version": "3.9.7"
  }
 },
 "nbformat": 4,
 "nbformat_minor": 5
}
