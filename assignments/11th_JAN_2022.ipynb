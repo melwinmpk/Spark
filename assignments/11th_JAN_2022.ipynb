{
 "cells": [
  {
   "cell_type": "markdown",
   "id": "9e6454ac",
   "metadata": {},
   "source": [
    "<pre>\n",
    "*****PySpark DF Question*****\n",
    "1) From the below file please display the data like below:\n",
    "FileName: usdata.csv\n",
    "first_name,last_name,\n",
    "company_name,address -->  co_address [ Data should look like: ('|')  xyz|mumbai ]\n",
    "city,county,state --> geo_loc ('~') [ Data should look like: Powai~Ind~MH ]\n",
    "zip,age,phone1,phone2,email,web\n",
    "Note: \n",
    "Impose Schema using StructType & StructField.\n",
    "Create a DAG with spark-submit for execution & schedule this DAG to run after 5 mins.</pre>"
   ]
  },
  {
   "cell_type": "code",
   "execution_count": 1,
   "id": "f6c586fa",
   "metadata": {},
   "outputs": [],
   "source": [
    "from pyspark.sql import SparkSession"
   ]
  },
  {
   "cell_type": "code",
   "execution_count": 2,
   "id": "2bee3dae",
   "metadata": {},
   "outputs": [],
   "source": [
    "spark = SparkSession.builder.appName(\"yettodecide\").master(\"local\").getOrCreate()"
   ]
  },
  {
   "cell_type": "code",
   "execution_count": 5,
   "id": "6b11d6aa",
   "metadata": {},
   "outputs": [],
   "source": [
    "df = spark.read.format('csv')\\\n",
    "            .option('header','True')\\\n",
    "            .option('inferSchema','True')\\\n",
    "            .load(\"C:\\\\Personal\\\\Projects\\\\Spark\\\\dataset\\\\usdata.csv\")"
   ]
  },
  {
   "cell_type": "code",
   "execution_count": 6,
   "id": "027d9e77",
   "metadata": {
    "scrolled": true
   },
   "outputs": [
    {
     "name": "stdout",
     "output_type": "stream",
     "text": [
      "+----------+---------+----------------------+--------------------+-----------+----------+-----+-----+---+------------+------------+-----------------------------+-----------------------------------+\n",
      "|first_name|last_name|company_name          |address             |city       |county    |state|zip  |age|phone1      |phone2      |email                        |web                                |\n",
      "+----------+---------+----------------------+--------------------+-----------+----------+-----+-----+---+------------+------------+-----------------------------+-----------------------------------+\n",
      "|James     |durai    |Benton, John B        |6649 N Blue Gum St  |New Orleans|Orleans   |LA   |70116|9  |504-621-8927|504-845-1427|jbutt@gmail.com              |http://www.bentonjohnbjr.com       |\n",
      "|Josephine |Darakjy  |Chanay, Jeffrey A Esq |4 B Blue Ridge Blvd |Brighton   |Livingston|MI   |48116|8  |810-292-9388|810-374-9840|josephine_darakjy@darakjy.org|http://www.chanayjeffreyaesq.com   |\n",
      "|Art       |Venere   |Chemel, James L Cpa   |8 W Cerritos Ave #54|Bridgeport |Gloucester|NJ   |8014 |7  |856-636-8749|856-264-4130|art@venere.org               |http://www.chemeljameslcpa.com     |\n",
      "|Lenna     |Paprocki |Feltz Printing Service|639 Main St         |Anchorage  |Anchorage |AK   |99501|10 |907-385-4412|907-921-2010|lpaprocki@hotmail.com        |http://www.feltzprintingservice.com|\n",
      "|Donette   |Foller   |Printing Dimensions   |34 Center St        |Hamilton   |Butler    |OH   |45011|11 |513-570-1893|513-549-4561|donette.foller@cox.net       |http://www.printingdimensions.com  |\n",
      "+----------+---------+----------------------+--------------------+-----------+----------+-----+-----+---+------------+------------+-----------------------------+-----------------------------------+\n",
      "only showing top 5 rows\n",
      "\n"
     ]
    }
   ],
   "source": [
    "df.show(5,truncate=False)"
   ]
  },
  {
   "cell_type": "code",
   "execution_count": 10,
   "id": "d0199272",
   "metadata": {},
   "outputs": [],
   "source": [
    "from pyspark.sql.functions import col,concat,lit"
   ]
  },
  {
   "cell_type": "code",
   "execution_count": 12,
   "id": "8268f0f9",
   "metadata": {},
   "outputs": [
    {
     "name": "stdout",
     "output_type": "stream",
     "text": [
      "+----------+---------+--------------+---------------------------------+----------------------+-----+---+------------+---------------+----------------------------+\n",
      "|first_name|last_name|company_name  |co_address                       |geo_loc               |zip  |age|phone1      |email          |web                         |\n",
      "+----------+---------+--------------+---------------------------------+----------------------+-----+---+------------+---------------+----------------------------+\n",
      "|James     |durai    |Benton, John B|Benton, John B|6649 N Blue Gum St|New Orleans~Orleans~LA|70116|9  |504-621-8927|jbutt@gmail.com|http://www.bentonjohnbjr.com|\n",
      "+----------+---------+--------------+---------------------------------+----------------------+-----+---+------------+---------------+----------------------------+\n",
      "only showing top 1 row\n",
      "\n"
     ]
    }
   ],
   "source": [
    "df.select(  col(\"first_name\").alias(\"first_name\"),\n",
    "            col(\"last_name\").alias(\"last_name\"),\n",
    "            col(\"company_name\").alias(\"company_name\"),\n",
    "            concat(col(\"company_name\"),lit(\"|\"),col(\"address\")).alias(\"co_address\"),\n",
    "            concat(col(\"city\"),lit(\"~\"),col(\"county\"),lit(\"~\"),col(\"state\")).alias(\"geo_loc\"),\n",
    "            col(\"zip\").alias(\"zip\"),\n",
    "            col(\"age\").alias(\"age\"),\n",
    "            col(\"phone1\").alias(\"phone1\"),\n",
    "            col(\"email\").alias(\"email\"),\n",
    "            col(\"web\").alias(\"web\")\n",
    "         ).show(1,truncate=False)"
   ]
  },
  {
   "cell_type": "code",
   "execution_count": null,
   "id": "85a6af8f",
   "metadata": {},
   "outputs": [],
   "source": []
  }
 ],
 "metadata": {
  "kernelspec": {
   "display_name": "Python 3 (ipykernel)",
   "language": "python",
   "name": "python3"
  },
  "language_info": {
   "codemirror_mode": {
    "name": "ipython",
    "version": 3
   },
   "file_extension": ".py",
   "mimetype": "text/x-python",
   "name": "python",
   "nbconvert_exporter": "python",
   "pygments_lexer": "ipython3",
   "version": "3.9.7"
  }
 },
 "nbformat": 4,
 "nbformat_minor": 5
}
