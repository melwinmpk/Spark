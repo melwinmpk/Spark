{
 "cells": [
  {
   "cell_type": "markdown",
   "id": "7881f125",
   "metadata": {},
   "source": [
    "<pre>\n",
    "*****PySpark DF Question*****\n",
    "Filename: txns\n",
    "Metadata: txnno: String, txndate: String, custno: String, amount: String, category: String, product: String, city: String, state: String, spendby: String\n",
    "1) Read the file & show 5 records.\n",
    "2) Separate txndate in date, month, year Column. Convert date column into words (e.g. 01 --> Sunday, 02 --> Monday).\n",
    "3) Find the sum of amount daywise.\n",
    "4) Write the output data in json format.\n",
    "Output Columns:\n",
    "Date(Words),Sum(Amount)\n",
    "\n",
    "Create a DAG in Airflow & with spark-submit execute it.\n",
    "</pre>"
   ]
  },
  {
   "cell_type": "code",
   "execution_count": 1,
   "id": "a06f680d",
   "metadata": {},
   "outputs": [],
   "source": [
    "from pyspark.sql import SparkSession"
   ]
  },
  {
   "cell_type": "code",
   "execution_count": 2,
   "id": "c08731bb",
   "metadata": {},
   "outputs": [],
   "source": [
    "spark = SparkSession.builder.appName(\"yettodecide\").master(\"local\").getOrCreate()"
   ]
  },
  {
   "cell_type": "code",
   "execution_count": 15,
   "id": "fbdb1de4",
   "metadata": {
    "scrolled": true
   },
   "outputs": [
    {
     "name": "stdout",
     "output_type": "stream",
     "text": [
      "+-----+----------+-------+------+------------------+---------------------------------+-----------+----------+-------+\n",
      "|txnno|txndate   |custno |amount|category          |product                          |city       |state     |spendby|\n",
      "+-----+----------+-------+------+------------------+---------------------------------+-----------+----------+-------+\n",
      "|0    |06-26-2011|4007024|40.33 |Exercise & Fitness|Cardio Machine Accessories       |Clarksville|Tennessee |credit |\n",
      "|1    |05-26-2011|4006742|198.44|Exercise & Fitness|Weightlifting Gloves             |Long Beach |California|credit |\n",
      "|2    |06-01-2011|4009775|5.58  |Exercise & Fitness|Weightlifting Machine Accessories|Anaheim    |California|credit |\n",
      "|3    |06-05-2011|4002199|198.19|Gymnastics        |Gymnastics Rings                 |Milwaukee  |Wisconsin |credit |\n",
      "|4    |12-17-2011|4002613|98.81 |Team Sports       |Field Hockey                     |Nashville  |Tennessee |credit |\n",
      "+-----+----------+-------+------+------------------+---------------------------------+-----------+----------+-------+\n",
      "only showing top 5 rows\n",
      "\n"
     ]
    }
   ],
   "source": [
    "df = spark.read.format(\"csv\")\\\n",
    "                .option(\"header\",True)\\\n",
    "                .option(\"InferSchema\",True)\\\n",
    "                .load(\"C:\\\\Personal\\\\Projects\\\\Spark\\\\dataset\\\\txns\")\n",
    "df.show(5,truncate=False)"
   ]
  },
  {
   "cell_type": "code",
   "execution_count": 16,
   "id": "5cde78da",
   "metadata": {},
   "outputs": [],
   "source": [
    "from pyspark.sql.functions import col, year, month, date_format, to_timestamp"
   ]
  },
  {
   "cell_type": "code",
   "execution_count": 17,
   "id": "d04fb1f2",
   "metadata": {},
   "outputs": [],
   "source": [
    "df = df.select(col(\"*\"),\n",
    "      year(to_timestamp(col(\"txndate\"),\"MM-dd-yyyy\")).alias(\"Year\"),\n",
    "      month(to_timestamp(col(\"txndate\"),\"MM-dd-yyyy\")).alias(\"Year\"),\n",
    "      date_format(to_timestamp(col(\"txndate\"),\"MM-dd-yyyy\"),\"EEEE\").alias(\"Day\")\n",
    ")"
   ]
  },
  {
   "cell_type": "code",
   "execution_count": 18,
   "id": "a63a8b1c",
   "metadata": {},
   "outputs": [
    {
     "name": "stdout",
     "output_type": "stream",
     "text": [
      "+-----+----------+-------+------+------------------+--------------------+-----------+----------+-------+----+----+---------+\n",
      "|txnno|   txndate| custno|amount|          category|             product|       city|     state|spendby|Year|Year|      Day|\n",
      "+-----+----------+-------+------+------------------+--------------------+-----------+----------+-------+----+----+---------+\n",
      "|    0|06-26-2011|4007024| 40.33|Exercise & Fitness|Cardio Machine Ac...|Clarksville| Tennessee| credit|2011|   6|   Sunday|\n",
      "|    1|05-26-2011|4006742|198.44|Exercise & Fitness|Weightlifting Gloves| Long Beach|California| credit|2011|   5| Thursday|\n",
      "|    2|06-01-2011|4009775|  5.58|Exercise & Fitness|Weightlifting Mac...|    Anaheim|California| credit|2011|   6|Wednesday|\n",
      "|    3|06-05-2011|4002199|198.19|        Gymnastics|    Gymnastics Rings|  Milwaukee| Wisconsin| credit|2011|   6|   Sunday|\n",
      "|    4|12-17-2011|4002613| 98.81|       Team Sports|        Field Hockey|Nashville  | Tennessee| credit|2011|  12| Saturday|\n",
      "+-----+----------+-------+------+------------------+--------------------+-----------+----------+-------+----+----+---------+\n",
      "only showing top 5 rows\n",
      "\n"
     ]
    }
   ],
   "source": [
    "df.show(5)"
   ]
  },
  {
   "cell_type": "code",
   "execution_count": 23,
   "id": "710ec7f2",
   "metadata": {},
   "outputs": [],
   "source": [
    "df2 = df[\"txndate\",\"amount\"].groupby(\"txndate\").sum()"
   ]
  },
  {
   "cell_type": "code",
   "execution_count": 24,
   "id": "b9239b37",
   "metadata": {},
   "outputs": [],
   "source": [
    "df2.write.format('csv')\\\n",
    "         .option(\"header\",True)\\\n",
    "         .mode(\"overwrite\")\\\n",
    "         .save(\"C:\\\\Personal\\\\Projects\\\\Spark\\\\dataset\\\\6th_assignment.csv\")"
   ]
  },
  {
   "cell_type": "code",
   "execution_count": null,
   "id": "0d40ba75",
   "metadata": {},
   "outputs": [],
   "source": []
  }
 ],
 "metadata": {
  "kernelspec": {
   "display_name": "Python 3 (ipykernel)",
   "language": "python",
   "name": "python3"
  },
  "language_info": {
   "codemirror_mode": {
    "name": "ipython",
    "version": 3
   },
   "file_extension": ".py",
   "mimetype": "text/x-python",
   "name": "python",
   "nbconvert_exporter": "python",
   "pygments_lexer": "ipython3",
   "version": "3.9.7"
  }
 },
 "nbformat": 4,
 "nbformat_minor": 5
}
