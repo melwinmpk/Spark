{
 "cells": [
  {
   "cell_type": "code",
   "execution_count": 1,
   "metadata": {},
   "outputs": [],
   "source": [
    "from pyspark.sql import SparkSession\n",
    "from pyspark.sql.functions import col"
   ]
  },
  {
   "cell_type": "code",
   "execution_count": 2,
   "metadata": {},
   "outputs": [],
   "source": [
    "spark = SparkSession.builder\\\n",
    "        .appName(\"learning\")\\\n",
    "        .master(\"local\")\\\n",
    "        .config('spark.jars','/home/saif/LFS/jars/spark-xml_2.12-0.5.0.jar')\\\n",
    "        .getOrCreate()\n",
    "    #        \n",
    "        \n",
    "sc = spark.sparkContext"
   ]
  },
  {
   "cell_type": "markdown",
   "metadata": {},
   "source": [
    "## *****PySpark DF Question*****\n",
    "## 1) Find the employee count & cost to company for each group consisting of dept, cadre, and state?\n",
    "## Filename: sales.txt"
   ]
  },
  {
   "cell_type": "code",
   "execution_count": 3,
   "metadata": {},
   "outputs": [
    {
     "name": "stdout",
     "output_type": "stream",
     "text": [
      "root\n",
      " |-- dept: string (nullable = true)\n",
      " |-- cadre: string (nullable = true)\n",
      " |-- costToCompany: integer (nullable = true)\n",
      " |-- state: string (nullable = true)\n",
      "\n",
      "+-----+-------+-------------+-----+\n",
      "|dept |cadre  |costToCompany|state|\n",
      "+-----+-------+-------------+-----+\n",
      "|Sales|Trainee|12000        |UK   |\n",
      "|Sales|Lead   |32000        |AUS  |\n",
      "|Sales|Lead   |32000        |NY   |\n",
      "|Sales|Lead   |32000        |IND  |\n",
      "|Sales|Lead   |32000        |AUS  |\n",
      "+-----+-------+-------------+-----+\n",
      "only showing top 5 rows\n",
      "\n"
     ]
    }
   ],
   "source": [
    "sales_df = spark.read.format(\"csv\")\\\n",
    "                     .option('delimiter',',')\\\n",
    "                     .option('header','True') \\\n",
    "                     .option('inferSchema','True') \\\n",
    "                     .load('file:///home/saif/LFS/datasets/sales.txt')\n",
    "\n",
    "sales_df.printSchema()\n",
    "sales_df.show(5,truncate=False)"
   ]
  },
  {
   "cell_type": "code",
   "execution_count": 4,
   "metadata": {},
   "outputs": [],
   "source": [
    "from pyspark.sql.window import Window\n",
    "from pyspark.sql.functions import sum"
   ]
  },
  {
   "cell_type": "code",
   "execution_count": 5,
   "metadata": {},
   "outputs": [
    {
     "data": {
      "text/plain": [
       "11"
      ]
     },
     "execution_count": 5,
     "metadata": {},
     "output_type": "execute_result"
    }
   ],
   "source": [
    "sales_df.count()"
   ]
  },
  {
   "cell_type": "code",
   "execution_count": 6,
   "metadata": {},
   "outputs": [
    {
     "name": "stdout",
     "output_type": "stream",
     "text": [
      "+---------+---------+-----+-----+\n",
      "|     dept|    cadre|state|count|\n",
      "+---------+---------+-----+-----+\n",
      "|Marketing|Associate|  IND|    2|\n",
      "|    Sales|  Trainee|   UK|    1|\n",
      "|    Sales|     Lead|   NY|    3|\n",
      "|    Sales|     Lead|  IND|    2|\n",
      "|       HR|  Manager|  IND|    1|\n",
      "|    Sales|     Lead|  AUS|    2|\n",
      "+---------+---------+-----+-----+\n",
      "\n",
      "+---------+---------+-----+----------------+\n",
      "|     dept|    cadre|state|sumCostToCompany|\n",
      "+---------+---------+-----+----------------+\n",
      "|Marketing|Associate|  IND|           36000|\n",
      "|    Sales|  Trainee|   UK|           12000|\n",
      "|    Sales|     Lead|   NY|           96000|\n",
      "|    Sales|     Lead|  IND|           64000|\n",
      "|       HR|  Manager|  IND|           58000|\n",
      "|    Sales|     Lead|  AUS|           64000|\n",
      "+---------+---------+-----+----------------+\n",
      "\n"
     ]
    }
   ],
   "source": [
    "sales_df.groupby('dept','cadre','state').count().show()\n",
    "\n",
    "sales_df.groupby('dept','cadre','state').sum(\"costToCompany\")\\\n",
    "      .withColumnRenamed(\"sum(costToCompany)\", \"sumCostToCompany\").show()"
   ]
  },
  {
   "cell_type": "markdown",
   "metadata": {},
   "source": [
    "<h2>\n",
    "*****PySpark DF Question*****<br>\n",
    "Filenames: txns<br>\n",
    "1) Filter category by gymnastics and  Team Sports in one Df.<br>\n",
    "2) Filter spendby by credit and save in another Df.<br>\n",
    "3) Join these two DF using DSL.<br.\n",
    "4) Write the data to hdfs in XML format with roottag and txn and row tag and records</br>\n",
    "</h2>"
   ]
  },
  {
   "cell_type": "code",
   "execution_count": 7,
   "metadata": {},
   "outputs": [
    {
     "name": "stdout",
     "output_type": "stream",
     "text": [
      "root\n",
      " |-- txnno: integer (nullable = true)\n",
      " |-- txndate: string (nullable = true)\n",
      " |-- custno: integer (nullable = true)\n",
      " |-- amount: double (nullable = true)\n",
      " |-- category: string (nullable = true)\n",
      " |-- product: string (nullable = true)\n",
      " |-- city: string (nullable = true)\n",
      " |-- state: string (nullable = true)\n",
      " |-- spendby: string (nullable = true)\n",
      "\n",
      "+-----+----------+-------+------+------------------+--------------------+-----------+----------+-------+\n",
      "|txnno|   txndate| custno|amount|          category|             product|       city|     state|spendby|\n",
      "+-----+----------+-------+------+------------------+--------------------+-----------+----------+-------+\n",
      "|    0|06-26-2011|4007024| 40.33|Exercise & Fitness|Cardio Machine Ac...|Clarksville| Tennessee| credit|\n",
      "|    1|05-26-2011|4006742|198.44|Exercise & Fitness|Weightlifting Gloves| Long Beach|California| credit|\n",
      "|    2|06-01-2011|4009775|  5.58|Exercise & Fitness|Weightlifting Mac...|    Anaheim|California| credit|\n",
      "|    3|06-05-2011|4002199|198.19|        Gymnastics|    Gymnastics Rings|  Milwaukee| Wisconsin| credit|\n",
      "|    4|12-17-2011|4002613| 98.81|       Team Sports|        Field Hockey|Nashville  | Tennessee| credit|\n",
      "+-----+----------+-------+------+------------------+--------------------+-----------+----------+-------+\n",
      "only showing top 5 rows\n",
      "\n"
     ]
    }
   ],
   "source": [
    "txns_df = spark.read.format(\"csv\")\\\n",
    "               .option(\"header\",'True')\\\n",
    "               .option(\"inferSchema\",'True')\\\n",
    "               .option(\"delimiter\",',')\\\n",
    "               .load('file:///home/saif/LFS/datasets/txns')\n",
    "\n",
    "txns_df.printSchema()\n",
    "txns_df.show(5)"
   ]
  },
  {
   "cell_type": "code",
   "execution_count": 8,
   "metadata": {},
   "outputs": [
    {
     "name": "stdout",
     "output_type": "stream",
     "text": [
      "+-----+----------+-------+------+-----------+----------------+--------------+----------+-------+\n",
      "|txnno|   txndate| custno|amount|   category|         product|          city|     state|spendby|\n",
      "+-----+----------+-------+------+-----------+----------------+--------------+----------+-------+\n",
      "|    3|06-05-2011|4002199|198.19| Gymnastics|Gymnastics Rings|     Milwaukee| Wisconsin| credit|\n",
      "|    4|12-17-2011|4002613| 98.81|Team Sports|    Field Hockey|   Nashville  | Tennessee| credit|\n",
      "|   13|03-13-2011|4003268| 107.8|Team Sports|    Field Hockey|    Honolulu  |    Hawaii| credit|\n",
      "|   14|02-25-2011|4004613| 36.81| Gymnastics| Vaulting Horses|   Los Angeles|California| credit|\n",
      "|   18|11-18-2011|4002444| 88.65|Team Sports|        Baseball|Salt Lake City|      Utah| credit|\n",
      "+-----+----------+-------+------+-----------+----------------+--------------+----------+-------+\n",
      "only showing top 5 rows\n",
      "\n"
     ]
    }
   ],
   "source": [
    "df1 = txns_df.where( (col(\"category\") == 'Gymnastics') | (col(\"category\") == 'Team Sports'))\n",
    "txns_df.where( (col(\"category\") == 'Gymnastics') | (col(\"category\") == 'Team Sports')).show(5)"
   ]
  },
  {
   "cell_type": "code",
   "execution_count": 9,
   "metadata": {},
   "outputs": [],
   "source": [
    "# Melwin Note we need to give \"( )\" to all the condition \n",
    "\n",
    "# the below example will not work\n",
    "# txns_df.where( col(\"category\") == 'Gymnastics' | col(\"category\") == 'Team Sports')   will throw error\n",
    "\n",
    "# so its mandatory to give \"( )\"\n",
    "#  txns_df.where( (col(\"category\") == 'Gymnastics') | (col(\"category\") == 'Team Sports'))"
   ]
  },
  {
   "cell_type": "code",
   "execution_count": 10,
   "metadata": {},
   "outputs": [
    {
     "name": "stdout",
     "output_type": "stream",
     "text": [
      "+-----+----------+-------+------+------------------+--------------------+-----------+----------+-------+\n",
      "|txnno|   txndate| custno|amount|          category|             product|       city|     state|spendby|\n",
      "+-----+----------+-------+------+------------------+--------------------+-----------+----------+-------+\n",
      "|    0|06-26-2011|4007024| 40.33|Exercise & Fitness|Cardio Machine Ac...|Clarksville| Tennessee| credit|\n",
      "|    1|05-26-2011|4006742|198.44|Exercise & Fitness|Weightlifting Gloves| Long Beach|California| credit|\n",
      "|    2|06-01-2011|4009775|  5.58|Exercise & Fitness|Weightlifting Mac...|    Anaheim|California| credit|\n",
      "|    3|06-05-2011|4002199|198.19|        Gymnastics|    Gymnastics Rings|  Milwaukee| Wisconsin| credit|\n",
      "|    4|12-17-2011|4002613| 98.81|       Team Sports|        Field Hockey|Nashville  | Tennessee| credit|\n",
      "+-----+----------+-------+------+------------------+--------------------+-----------+----------+-------+\n",
      "only showing top 5 rows\n",
      "\n"
     ]
    }
   ],
   "source": [
    "df2 = txns_df.where( (col(\"spendby\") == 'credit'))\n",
    "txns_df.where( (col(\"spendby\") == 'credit')).show(5)"
   ]
  },
  {
   "cell_type": "code",
   "execution_count": 11,
   "metadata": {},
   "outputs": [
    {
     "name": "stdout",
     "output_type": "stream",
     "text": [
      "+-----+----------+-------+------+-----------+----------------+--------------+----------+-------+\n",
      "|txnno|   txndate| custno|amount|   category|         product|          city|     state|spendby|\n",
      "+-----+----------+-------+------+-----------+----------------+--------------+----------+-------+\n",
      "|    3|06-05-2011|4002199|198.19| Gymnastics|Gymnastics Rings|     Milwaukee| Wisconsin| credit|\n",
      "|    4|12-17-2011|4002613| 98.81|Team Sports|    Field Hockey|   Nashville  | Tennessee| credit|\n",
      "|   13|03-13-2011|4003268| 107.8|Team Sports|    Field Hockey|    Honolulu  |    Hawaii| credit|\n",
      "|   14|02-25-2011|4004613| 36.81| Gymnastics| Vaulting Horses|   Los Angeles|California| credit|\n",
      "|   18|11-18-2011|4002444| 88.65|Team Sports|        Baseball|Salt Lake City|      Utah| credit|\n",
      "+-----+----------+-------+------+-----------+----------------+--------------+----------+-------+\n",
      "only showing top 5 rows\n",
      "\n"
     ]
    }
   ],
   "source": [
    "condition = (df1.txnno == df2.txnno)\n",
    "df3 = df1.join(df2, condition, \"inner\").select(\n",
    "    df1[\"txnno\"],df1[\"txndate\"],df1[\"custno\"],df1[\"amount\"],df1[\"category\"],\n",
    "    df1[\"product\"],df1[\"city\"],df1[\"state\"],df1[\"spendby\"]\n",
    "                                              )\n",
    "df3.show(5)"
   ]
  },
  {
   "cell_type": "code",
   "execution_count": 12,
   "metadata": {},
   "outputs": [],
   "source": [
    "    df3.write.format(\"com.databricks.spark.xml\") \\\n",
    "        .mode('overwrite') \\\n",
    "        .option(\"rootTag\", \"txn\") \\\n",
    "        .option(\"rowTag\", \"records\") \\\n",
    "        .save(\"hdfs://localhost:9000/user/saif/HFS/Input/txns_xml\")"
   ]
  },
  {
   "cell_type": "code",
   "execution_count": null,
   "metadata": {},
   "outputs": [],
   "source": []
  }
 ],
 "metadata": {
  "kernelspec": {
   "display_name": "Python 3",
   "language": "python",
   "name": "python3"
  },
  "language_info": {
   "codemirror_mode": {
    "name": "ipython",
    "version": 3
   },
   "file_extension": ".py",
   "mimetype": "text/x-python",
   "name": "python",
   "nbconvert_exporter": "python",
   "pygments_lexer": "ipython3",
   "version": "3.8.10"
  }
 },
 "nbformat": 4,
 "nbformat_minor": 4
}
