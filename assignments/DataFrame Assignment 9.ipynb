{
 "cells": [
  {
   "cell_type": "code",
   "execution_count": 11,
   "metadata": {},
   "outputs": [],
   "source": [
    "from pyspark.sql import SparkSession\n",
    "from pyspark.sql.functions import col,concat_ws"
   ]
  },
  {
   "cell_type": "markdown",
   "metadata": {},
   "source": [
    "## *****PySpark DF Question*****\n",
    "## 1) From the below file please display the data like below:\n",
    "## FileName: usdata.csv\n",
    "## first_name,last_name,\n",
    "## company_name,address -->  co_address [ Data should look like: ('|')  xyz|mumbai ]\n",
    "## city,county,state --> geo_loc ('~') [ Data should look like: Powai~Ind~MH ]\n",
    "## zip,age,phone1,phone2,email,web\n",
    "## Note: \n",
    "## Impose Schema using StructType & StructField."
   ]
  },
  {
   "cell_type": "code",
   "execution_count": 2,
   "metadata": {},
   "outputs": [],
   "source": [
    "spark = SparkSession.builder.appName('learning').master('local').getOrCreate()\n",
    "sc = spark.sparkContext"
   ]
  },
  {
   "cell_type": "code",
   "execution_count": 5,
   "metadata": {},
   "outputs": [
    {
     "name": "stdout",
     "output_type": "stream",
     "text": [
      "root\n",
      " |-- first_name: string (nullable = true)\n",
      " |-- last_name: string (nullable = true)\n",
      " |-- company_name: string (nullable = true)\n",
      " |-- address: string (nullable = true)\n",
      " |-- city: string (nullable = true)\n",
      " |-- county: string (nullable = true)\n",
      " |-- state: string (nullable = true)\n",
      " |-- zip: integer (nullable = true)\n",
      " |-- age: integer (nullable = true)\n",
      " |-- phone1: string (nullable = true)\n",
      " |-- phone2: string (nullable = true)\n",
      " |-- email: string (nullable = true)\n",
      " |-- web: string (nullable = true)\n",
      "\n"
     ]
    }
   ],
   "source": [
    "usdata_df = spark.read.format('csv')\\\n",
    "                      .option('delimiteer',',')\\\n",
    "                      .option('header','True')\\\n",
    "                      .option('inferSchema','True')\\\n",
    "                      .load('file:///home/saif/LFS/datasets/usdata.csv')\n",
    "\n",
    "usdata_df.printSchema()\n",
    "#usdata_df.show(5)"
   ]
  },
  {
   "cell_type": "code",
   "execution_count": 4,
   "metadata": {},
   "outputs": [],
   "source": [
    "from pyspark.sql.types import StructType, StringType, StructField,IntegerType"
   ]
  },
  {
   "cell_type": "code",
   "execution_count": 8,
   "metadata": {},
   "outputs": [],
   "source": [
    "data_schema = StructType([\n",
    "           StructField('first_name',StringType(),True),\n",
    "           StructField('last_name',StringType(),True),\n",
    "           StructField('company_name',StringType(),True),\n",
    "           StructField('address',StringType(),True),\n",
    "           StructField('city',StringType(),True),\n",
    "           StructField('county',StringType(),True),\n",
    "           StructField('state',StringType(),True),\n",
    "           StructField('zip',IntegerType(),True),\n",
    "           StructField('age',IntegerType(),True),\n",
    "           StructField('phone1',StringType(),True),\n",
    "           StructField('phone2',StringType(),True),\n",
    "           StructField('email',StringType(),True),\n",
    "           StructField('web',StringType(),True)\n",
    "])\n"
   ]
  },
  {
   "cell_type": "code",
   "execution_count": 9,
   "metadata": {},
   "outputs": [
    {
     "name": "stdout",
     "output_type": "stream",
     "text": [
      "root\n",
      " |-- first_name: string (nullable = true)\n",
      " |-- last_name: string (nullable = true)\n",
      " |-- company_name: string (nullable = true)\n",
      " |-- address: string (nullable = true)\n",
      " |-- city: string (nullable = true)\n",
      " |-- county: string (nullable = true)\n",
      " |-- state: string (nullable = true)\n",
      " |-- zip: integer (nullable = true)\n",
      " |-- age: integer (nullable = true)\n",
      " |-- phone1: string (nullable = true)\n",
      " |-- phone2: string (nullable = true)\n",
      " |-- email: string (nullable = true)\n",
      " |-- web: string (nullable = true)\n",
      "\n",
      "+----------+---------+--------------------+--------------------+-----------+----------+-----+-----+---+------------+------------+--------------------+--------------------+\n",
      "|first_name|last_name|        company_name|             address|       city|    county|state|  zip|age|      phone1|      phone2|               email|                 web|\n",
      "+----------+---------+--------------------+--------------------+-----------+----------+-----+-----+---+------------+------------+--------------------+--------------------+\n",
      "|     James|    durai|      Benton, John B|  6649 N Blue Gum St|New Orleans|   Orleans|   LA|70116|  9|504-621-8927|504-845-1427|     jbutt@gmail.com|http://www.benton...|\n",
      "| Josephine|  Darakjy|Chanay, Jeffrey A...| 4 B Blue Ridge Blvd|   Brighton|Livingston|   MI|48116|  8|810-292-9388|810-374-9840|josephine_darakjy...|http://www.chanay...|\n",
      "|       Art|   Venere| Chemel, James L Cpa|8 W Cerritos Ave #54| Bridgeport|Gloucester|   NJ| 8014|  7|856-636-8749|856-264-4130|      art@venere.org|http://www.chemel...|\n",
      "|     Lenna| Paprocki|Feltz Printing Se...|         639 Main St|  Anchorage| Anchorage|   AK|99501| 10|907-385-4412|907-921-2010|lpaprocki@hotmail...|http://www.feltzp...|\n",
      "|   Donette|   Foller| Printing Dimensions|        34 Center St|   Hamilton|    Butler|   OH|45011| 11|513-570-1893|513-549-4561|donette.foller@co...|http://www.printi...|\n",
      "+----------+---------+--------------------+--------------------+-----------+----------+-----+-----+---+------------+------------+--------------------+--------------------+\n",
      "only showing top 5 rows\n",
      "\n"
     ]
    }
   ],
   "source": [
    "usdata_sc_df = spark.read.format('csv')\\\n",
    "                      .option('delimiteer',',')\\\n",
    "                      .option('header','True')\\\n",
    "                      .schema(data_schema)\\\n",
    "                      .load('file:///home/saif/LFS/datasets/usdata.csv')\n",
    "\n",
    "usdata_sc_df.printSchema()\n",
    "usdata_sc_df.show(5)"
   ]
  },
  {
   "cell_type": "code",
   "execution_count": 16,
   "metadata": {},
   "outputs": [
    {
     "name": "stdout",
     "output_type": "stream",
     "text": [
      "+----------+---------+--------------------+--------------------+-----+---+------------+------------+--------------------+--------------------+\n",
      "|first_name|last_name|company_name,address|   city,county,state|  zip|age|      phone1|      phone2|               email|                 web|\n",
      "+----------+---------+--------------------+--------------------+-----+---+------------+------------+--------------------+--------------------+\n",
      "|     James|    durai|Benton, John B|66...|New Orleans~Orlea...|70116|  9|504-621-8927|504-845-1427|     jbutt@gmail.com|http://www.benton...|\n",
      "| Josephine|  Darakjy|Chanay, Jeffrey A...|Brighton~Livingst...|48116|  8|810-292-9388|810-374-9840|josephine_darakjy...|http://www.chanay...|\n",
      "|       Art|   Venere|Chemel, James L C...|Bridgeport~Glouce...| 8014|  7|856-636-8749|856-264-4130|      art@venere.org|http://www.chemel...|\n",
      "|     Lenna| Paprocki|Feltz Printing Se...|Anchorage~Anchora...|99501| 10|907-385-4412|907-921-2010|lpaprocki@hotmail...|http://www.feltzp...|\n",
      "|   Donette|   Foller|Printing Dimensio...|  Hamilton~Butler~OH|45011| 11|513-570-1893|513-549-4561|donette.foller@co...|http://www.printi...|\n",
      "+----------+---------+--------------------+--------------------+-----+---+------------+------------+--------------------+--------------------+\n",
      "only showing top 5 rows\n",
      "\n",
      "root\n",
      " |-- first_name: string (nullable = true)\n",
      " |-- last_name: string (nullable = true)\n",
      " |-- company_name,address: string (nullable = false)\n",
      " |-- city,county,state: string (nullable = false)\n",
      " |-- zip: integer (nullable = true)\n",
      " |-- age: integer (nullable = true)\n",
      " |-- phone1: string (nullable = true)\n",
      " |-- phone2: string (nullable = true)\n",
      " |-- email: string (nullable = true)\n",
      " |-- web: string (nullable = true)\n",
      "\n"
     ]
    }
   ],
   "source": [
    "result_df = usdata_sc_df.select(\n",
    "        col('first_name'),col(\"last_name\"),\n",
    "        concat_ws('|',col(\"company_name\"),col(\"address\")).alias('company_name,address'),\n",
    "        concat_ws('~',col(\"city\"),col(\"county\"),col(\"state\")).alias('city,county,state'),\n",
    "        col('zip'),col('age'),col('phone1'),col('phone2'),col('email'),col('web')\n",
    ")\n",
    "result_df.show(5)\n",
    "result_df.printSchema()"
   ]
  },
  {
   "cell_type": "code",
   "execution_count": 18,
   "metadata": {},
   "outputs": [],
   "source": [
    "result_schema = StructType([\n",
    "    StructField('first_name',StringType(),True),\n",
    "    StructField('last_name',StringType(),True),\n",
    "    StructField('company_name,address',StringType(),True),\n",
    "    StructField('city,county,state',StringType(),True),\n",
    "    StructField('zip',IntegerType(),True),\n",
    "    StructField('age',IntegerType(),True),\n",
    "    StructField('phone1',StringType(),True),\n",
    "    StructField('phone2',StringType(),True),\n",
    "    StructField('email',StringType(),True),\n",
    "    StructField('web',StringType(),True) \n",
    "])"
   ]
  },
  {
   "cell_type": "code",
   "execution_count": 19,
   "metadata": {},
   "outputs": [],
   "source": [
    "newDF = spark.createDataFrame(result_df.rdd, schema=result_schema)"
   ]
  },
  {
   "cell_type": "code",
   "execution_count": 20,
   "metadata": {},
   "outputs": [
    {
     "name": "stdout",
     "output_type": "stream",
     "text": [
      "root\n",
      " |-- first_name: string (nullable = true)\n",
      " |-- last_name: string (nullable = true)\n",
      " |-- company_name,address: string (nullable = true)\n",
      " |-- city,county,state: string (nullable = true)\n",
      " |-- zip: integer (nullable = true)\n",
      " |-- age: integer (nullable = true)\n",
      " |-- phone1: string (nullable = true)\n",
      " |-- phone2: string (nullable = true)\n",
      " |-- email: string (nullable = true)\n",
      " |-- web: string (nullable = true)\n",
      "\n",
      "+----------+---------+--------------------+--------------------+-----+---+------------+------------+--------------------+--------------------+\n",
      "|first_name|last_name|company_name,address|   city,county,state|  zip|age|      phone1|      phone2|               email|                 web|\n",
      "+----------+---------+--------------------+--------------------+-----+---+------------+------------+--------------------+--------------------+\n",
      "|     James|    durai|Benton, John B|66...|New Orleans~Orlea...|70116|  9|504-621-8927|504-845-1427|     jbutt@gmail.com|http://www.benton...|\n",
      "| Josephine|  Darakjy|Chanay, Jeffrey A...|Brighton~Livingst...|48116|  8|810-292-9388|810-374-9840|josephine_darakjy...|http://www.chanay...|\n",
      "|       Art|   Venere|Chemel, James L C...|Bridgeport~Glouce...| 8014|  7|856-636-8749|856-264-4130|      art@venere.org|http://www.chemel...|\n",
      "|     Lenna| Paprocki|Feltz Printing Se...|Anchorage~Anchora...|99501| 10|907-385-4412|907-921-2010|lpaprocki@hotmail...|http://www.feltzp...|\n",
      "|   Donette|   Foller|Printing Dimensio...|  Hamilton~Butler~OH|45011| 11|513-570-1893|513-549-4561|donette.foller@co...|http://www.printi...|\n",
      "+----------+---------+--------------------+--------------------+-----+---+------------+------------+--------------------+--------------------+\n",
      "only showing top 5 rows\n",
      "\n"
     ]
    }
   ],
   "source": [
    "newDF.printSchema()\n",
    "newDF.show(5)"
   ]
  },
  {
   "cell_type": "code",
   "execution_count": null,
   "metadata": {},
   "outputs": [],
   "source": []
  }
 ],
 "metadata": {
  "kernelspec": {
   "display_name": "Python 3 (ipykernel)",
   "language": "python",
   "name": "python3"
  },
  "language_info": {
   "codemirror_mode": {
    "name": "ipython",
    "version": 3
   },
   "file_extension": ".py",
   "mimetype": "text/x-python",
   "name": "python",
   "nbconvert_exporter": "python",
   "pygments_lexer": "ipython3",
   "version": "3.10.6"
  }
 },
 "nbformat": 4,
 "nbformat_minor": 4
}
