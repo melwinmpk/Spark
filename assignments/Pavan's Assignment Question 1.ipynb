{
 "cells": [
  {
   "cell_type": "code",
   "execution_count": 1,
   "id": "9456f4d8",
   "metadata": {},
   "outputs": [],
   "source": [
    "from pyspark.sql import SparkSession\n",
    "from pyspark.sql.functions import col,to_timestamp, month, year,concat_ws"
   ]
  },
  {
   "cell_type": "code",
   "execution_count": 2,
   "id": "86156607",
   "metadata": {},
   "outputs": [],
   "source": [
    "spark = SparkSession.builder.appName('learning').master('local').getOrCreate()\n",
    "sc = spark.sparkContext"
   ]
  },
  {
   "cell_type": "markdown",
   "id": "d70074d1",
   "metadata": {},
   "source": [
    "**PROBLEM 1**: Fetch the product(s) - with product description consisting of \"Universal fit, well-vented\" and meet the condition c1\n",
    "\n",
    "------\n",
    "condition c1 - product had been ordered more than five times within a month \"continously\" over months\n",
    "\n",
    "continously means \"month after month\" this condition c1 had been met\n",
    "\n",
    "Eg. IF (in jan 2016 that particular product had been ordered more than five times, in feb 2016 too, in mar 2016 too, however, in apr 2016 this product had not been ordered more than five times, no matter again in may 2016 it had been again ordered more than five times) --- condition c1 stands failed "
   ]
  },
  {
   "cell_type": "code",
   "execution_count": 3,
   "id": "43362155",
   "metadata": {},
   "outputs": [],
   "source": [
    "sales_df = spark.read.format('csv')\\\n",
    "          .option('header', 'True') \\\n",
    "          .option('inferSchema', 'True') \\\n",
    "          .load('file:///home/saif/LFS/datasets/datasets_pavan/sales/sales.csv')\n",
    "products_df = spark.read.format('csv')\\\n",
    "          .option('header', 'True') \\\n",
    "          .option('inferSchema', 'True') \\\n",
    "          .load('file:///home/saif/LFS/datasets/datasets_pavan/sales/products.csv')"
   ]
  },
  {
   "cell_type": "code",
   "execution_count": 4,
   "id": "cc4db6c9",
   "metadata": {
    "scrolled": false
   },
   "outputs": [
    {
     "name": "stdout",
     "output_type": "stream",
     "text": [
      "+----------+----------+-----------+----------+-----------+------------+-------------+-------------+\n",
      "| OrderDate| StockDate|OrderNumber|ProductKey|CustomerKey|TerritoryKey|OrderLineItem|OrderQuantity|\n",
      "+----------+----------+-----------+----------+-----------+------------+-------------+-------------+\n",
      "|01-01-2015| 9/21/2001|    SO45080|       332|      14657|           1|            1|            1|\n",
      "|01-01-2015|12-05-2001|    SO45079|       312|      29255|           4|            1|            1|\n",
      "|01-01-2015|10/29/2001|    SO45082|       350|      11455|           9|            1|            1|\n",
      "|01-01-2015|11/16/2001|    SO45081|       338|      26782|           6|            1|            1|\n",
      "|01-02-2015|12/15/2001|    SO45083|       312|      14947|          10|            1|            1|\n",
      "+----------+----------+-----------+----------+-----------+------------+-------------+-------------+\n",
      "only showing top 5 rows\n",
      "\n"
     ]
    }
   ],
   "source": [
    "sales_df.show(5)"
   ]
  },
  {
   "cell_type": "code",
   "execution_count": 5,
   "id": "f671ff7a",
   "metadata": {},
   "outputs": [
    {
     "name": "stdout",
     "output_type": "stream",
     "text": [
      "+----------+---------------------+----------+--------------------+-------------------+--------------------+------------+-----------+------------+-----------+------------+\n",
      "|ProductKey|ProductSubcategoryKey|ProductSKU|         ProductName|          ModelName|  ProductDescription|ProductColor|ProductSize|ProductStyle|ProductCost|ProductPrice|\n",
      "+----------+---------------------+----------+--------------------+-------------------+--------------------+------------+-----------+------------+-----------+------------+\n",
      "|       214|                   31| HL-U509-R|Sport-100 Helmet,...|          Sport-100|Universal fit, we...|         Red|          0|           0|    13.0863|       34.99|\n",
      "|       215|                   31|   HL-U509|Sport-100 Helmet,...|          Sport-100|Universal fit, we...|       Black|          0|           0|    12.0278|     33.6442|\n",
      "|       218|                   23| SO-B909-M|Mountain Bike Soc...|Mountain Bike Socks|Combination of na...|       White|          M|           U|     3.3963|         9.5|\n",
      "|       219|                   23| SO-B909-L|Mountain Bike Soc...|Mountain Bike Socks|Combination of na...|       White|          L|           U|     3.3963|         9.5|\n",
      "|       220|                   31| HL-U509-B|Sport-100 Helmet,...|          Sport-100|Universal fit, we...|        Blue|          0|           0|    12.0278|     33.6442|\n",
      "+----------+---------------------+----------+--------------------+-------------------+--------------------+------------+-----------+------------+-----------+------------+\n",
      "only showing top 5 rows\n",
      "\n"
     ]
    }
   ],
   "source": [
    "products_df.show(5)"
   ]
  },
  {
   "cell_type": "code",
   "execution_count": 20,
   "id": "9de9511b",
   "metadata": {},
   "outputs": [
    {
     "data": {
      "text/plain": [
       "56046"
      ]
     },
     "execution_count": 20,
     "metadata": {},
     "output_type": "execute_result"
    }
   ],
   "source": [
    "sales_df.count()"
   ]
  },
  {
   "cell_type": "code",
   "execution_count": null,
   "id": "8b59808b",
   "metadata": {},
   "outputs": [],
   "source": [
    "from pyspark.sql.functions import to_timestamp,month,year"
   ]
  },
  {
   "cell_type": "code",
   "execution_count": 36,
   "id": "70781ab0",
   "metadata": {},
   "outputs": [],
   "source": [
    "## the Logic which I am trying to Implement\n",
    "\n",
    "## WITH ordered_monthly AS (\n",
    "##   SELECT \n",
    "##     product_id,\n",
    "##     DATE_TRUNC('month', order_date) AS month,\n",
    "##     COUNT(*) AS order_count\n",
    "##   FROM orders\n",
    "##   GROUP BY product_id, DATE_TRUNC('month', order_date)\n",
    "##   HAVING COUNT(*) > 5\n",
    "## ),\n",
    "## continuous_orders AS (\n",
    "##   SELECT \n",
    "##     product_id,\n",
    "##     month,\n",
    "##     LAG(month) OVER (PARTITION BY product_id ORDER BY month) AS prev_month\n",
    "##   FROM ordered_monthly\n",
    "## )\n",
    "## SELECT DISTINCT o.product_id\n",
    "## FROM ordered_monthly o\n",
    "## JOIN continuous_orders co ON o.product_id = co.product_id\n",
    "##                          AND o.month = co.prev_month;"
   ]
  },
  {
   "cell_type": "code",
   "execution_count": 18,
   "id": "796c340c",
   "metadata": {
    "scrolled": true
   },
   "outputs": [
    {
     "name": "stdout",
     "output_type": "stream",
     "text": [
      "+---------+----------+----------+-----+\n",
      "|OrderYear|OrderMonth|ProductKey|count|\n",
      "+---------+----------+----------+-----+\n",
      "|     2015|         1|       311|    7|\n",
      "|     2017|         3|       489|   12|\n",
      "|     2017|         4|       606|   22|\n",
      "|     null|      null|       471|   87|\n",
      "|     2016|        11|       358|   10|\n",
      "+---------+----------+----------+-----+\n",
      "only showing top 5 rows\n",
      "\n"
     ]
    }
   ],
   "source": [
    "ordered_monthly = sales_df.select( col(\"ProductKey\"), \n",
    "                 year(to_timestamp(col('OrderDate'),'MM-dd-yyyy')).alias('OrderYear'),\n",
    "                 month(to_timestamp(col('OrderDate'),'MM-dd-yyyy')).alias('OrderMonth')\n",
    "               ).groupby(col('OrderYear'),col('OrderMonth'),col('ProductKey'))\\\n",
    "               .count()\\\n",
    "               .where(col('count')>5)# .sort(col('OrderYear').asc(),col('OrderMonth').asc())\\\n",
    "               \n",
    "\n",
    "\n",
    "ordered_monthly.show(5)"
   ]
  },
  {
   "cell_type": "code",
   "execution_count": 21,
   "id": "92e59495",
   "metadata": {},
   "outputs": [],
   "source": [
    "from pyspark.sql.window import Window\n",
    "from pyspark.sql.functions import lag\n",
    "\n",
    "windowSpec = Window.partitionBy(\"ProductKey\").orderBy(col('OrderYear'),col('OrderMonth'))"
   ]
  },
  {
   "cell_type": "code",
   "execution_count": 23,
   "id": "e996d9d3",
   "metadata": {},
   "outputs": [
    {
     "name": "stdout",
     "output_type": "stream",
     "text": [
      "+----------+---------+----------+----------+\n",
      "|ProductKey|OrderYear|OrderMonth|prev_month|\n",
      "+----------+---------+----------+----------+\n",
      "|       471|     null|      null|      null|\n",
      "|       471|     2016|        11|      null|\n",
      "|       471|     2016|        12|        11|\n",
      "|       471|     2017|         2|        12|\n",
      "|       471|     2017|         4|         2|\n",
      "+----------+---------+----------+----------+\n",
      "only showing top 5 rows\n",
      "\n"
     ]
    }
   ],
   "source": [
    "continuous_orders = ordered_monthly.select(\n",
    "                        col(\"ProductKey\"),\n",
    "                        col(\"OrderYear\"),\n",
    "                        col(\"OrderMonth\"),\n",
    "                        lag(col(\"OrderMonth\")).over(windowSpec).alias(\"prev_month\")\n",
    "                    )\n",
    "continuous_orders.show(5)"
   ]
  },
  {
   "cell_type": "code",
   "execution_count": 33,
   "id": "65913708",
   "metadata": {},
   "outputs": [
    {
     "name": "stdout",
     "output_type": "stream",
     "text": [
      "+----------+\n",
      "|ProductKey|\n",
      "+----------+\n",
      "|       311|\n",
      "|       489|\n",
      "|       606|\n",
      "|       358|\n",
      "|       313|\n",
      "+----------+\n",
      "only showing top 5 rows\n",
      "\n"
     ]
    }
   ],
   "source": [
    "c1_df = ordered_monthly.join(continuous_orders, (ordered_monthly.ProductKey == continuous_orders.ProductKey) & \n",
    "                                        (ordered_monthly.OrderMonth == continuous_orders.prev_month)   ,'inner')\\\n",
    "                        .select(ordered_monthly.ProductKey)\n",
    "c1_df.show(5)"
   ]
  },
  {
   "cell_type": "code",
   "execution_count": 34,
   "id": "b61cdd42",
   "metadata": {},
   "outputs": [
    {
     "name": "stdout",
     "output_type": "stream",
     "text": [
      "+----------+---------------------+----------+--------------------+---------+--------------------+------------+-----------+------------+-----------+------------+\n",
      "|ProductKey|ProductSubcategoryKey|ProductSKU|         ProductName|ModelName|  ProductDescription|ProductColor|ProductSize|ProductStyle|ProductCost|ProductPrice|\n",
      "+----------+---------------------+----------+--------------------+---------+--------------------+------------+-----------+------------+-----------+------------+\n",
      "|       214|                   31| HL-U509-R|Sport-100 Helmet,...|Sport-100|Universal fit, we...|         Red|          0|           0|    13.0863|       34.99|\n",
      "|       215|                   31|   HL-U509|Sport-100 Helmet,...|Sport-100|Universal fit, we...|       Black|          0|           0|    12.0278|     33.6442|\n",
      "|       220|                   31| HL-U509-B|Sport-100 Helmet,...|Sport-100|Universal fit, we...|        Blue|          0|           0|    12.0278|     33.6442|\n",
      "+----------+---------------------+----------+--------------------+---------+--------------------+------------+-----------+------------+-----------+------------+\n",
      "\n"
     ]
    }
   ],
   "source": [
    "a1_df = products_df.where(col('ProductDescription').like('%Universal fit, well-vented%'))\n",
    "a1_df.show(5)"
   ]
  },
  {
   "cell_type": "code",
   "execution_count": 35,
   "id": "19e8acf8",
   "metadata": {},
   "outputs": [
    {
     "name": "stdout",
     "output_type": "stream",
     "text": [
      "+----------+---------------------+--------------------+---------+\n",
      "|ProductKey|ProductSubcategoryKey|         ProductName|ModelName|\n",
      "+----------+---------------------+--------------------+---------+\n",
      "|       220|                   31|Sport-100 Helmet,...|Sport-100|\n",
      "|       220|                   31|Sport-100 Helmet,...|Sport-100|\n",
      "|       220|                   31|Sport-100 Helmet,...|Sport-100|\n",
      "|       220|                   31|Sport-100 Helmet,...|Sport-100|\n",
      "|       220|                   31|Sport-100 Helmet,...|Sport-100|\n",
      "+----------+---------------------+--------------------+---------+\n",
      "only showing top 5 rows\n",
      "\n"
     ]
    }
   ],
   "source": [
    "result_df = c1_df.alias(\"t1\").join(a1_df.alias(\"t2\"), col(\"t2.ProductKey\") == col(\"t1.ProductKey\"), 'inner')\\\n",
    "                             .select(col(\"t2.ProductKey\"),col(\"t2.ProductSubcategoryKey\"),\n",
    "                                     col(\"t2.ProductName\"),col(\"t2.ModelName\"))\n",
    "result_df.show(5)"
   ]
  },
  {
   "cell_type": "code",
   "execution_count": null,
   "id": "b32bfed6",
   "metadata": {},
   "outputs": [],
   "source": []
  }
 ],
 "metadata": {
  "kernelspec": {
   "display_name": "Python 3 (ipykernel)",
   "language": "python",
   "name": "python3"
  },
  "language_info": {
   "codemirror_mode": {
    "name": "ipython",
    "version": 3
   },
   "file_extension": ".py",
   "mimetype": "text/x-python",
   "name": "python",
   "nbconvert_exporter": "python",
   "pygments_lexer": "ipython3",
   "version": "3.10.6"
  }
 },
 "nbformat": 4,
 "nbformat_minor": 5
}
