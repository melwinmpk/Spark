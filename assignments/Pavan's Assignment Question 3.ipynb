{
 "cells": [
  {
   "cell_type": "code",
   "execution_count": 1,
   "metadata": {},
   "outputs": [],
   "source": [
    "from pyspark.sql import SparkSession\n",
    "from pyspark.sql.functions import col, year, month, to_timestamp"
   ]
  },
  {
   "cell_type": "markdown",
   "metadata": {},
   "source": [
    "**PROBLEM 3**: List customers who ordered same product more than once in a month "
   ]
  },
  {
   "cell_type": "code",
   "execution_count": 2,
   "metadata": {},
   "outputs": [],
   "source": [
    "spark = SparkSession.builder.appName('learning').master('local').getOrCreate()\n",
    "sc = spark.sparkContext"
   ]
  },
  {
   "cell_type": "code",
   "execution_count": 3,
   "metadata": {},
   "outputs": [
    {
     "name": "stdout",
     "output_type": "stream",
     "text": [
      "root\n",
      " |-- CustomerKey: float (nullable = true)\n",
      " |-- Prefix: string (nullable = true)\n",
      " |-- FirstName: string (nullable = true)\n",
      " |-- LastName: string (nullable = true)\n",
      " |-- BirthDate: date (nullable = true)\n",
      " |-- MaritalStatus: string (nullable = true)\n",
      " |-- Gender: string (nullable = true)\n",
      " |-- AnnualIncome: float (nullable = true)\n",
      " |-- TotalChildren: float (nullable = true)\n",
      " |-- EducationLevel: string (nullable = true)\n",
      " |-- Occupation: string (nullable = true)\n",
      " |-- HomeOwner: string (nullable = true)\n",
      "\n",
      "+-----------+------+---------+--------+----------+-------------+------+------------+-------------+--------------+------------+---------+\n",
      "|CustomerKey|Prefix|FirstName|LastName| BirthDate|MaritalStatus|Gender|AnnualIncome|TotalChildren|EducationLevel|  Occupation|HomeOwner|\n",
      "+-----------+------+---------+--------+----------+-------------+------+------------+-------------+--------------+------------+---------+\n",
      "|    11000.0|   MR.|      JON|    YANG|1966-04-08|            M|     M|     90000.0|          2.0|     Bachelors|Professional|        Y|\n",
      "|    11001.0|   MR.|   EUGENE|   HUANG|1965-05-14|            S|     M|     60000.0|          3.0|     Bachelors|Professional|        N|\n",
      "|    11002.0|   MR.|    RUBEN|  TORRES|1965-08-12|            M|     M|     60000.0|          3.0|     Bachelors|Professional|        Y|\n",
      "|    11003.0|   MS.|  CHRISTY|     ZHU|1968-02-15|            S|     F|     70000.0|          0.0|     Bachelors|Professional|        N|\n",
      "|    11004.0|  MRS.|ELIZABETH| JOHNSON|1968-08-08|            S|     F|     80000.0|          5.0|     Bachelors|Professional|        Y|\n",
      "+-----------+------+---------+--------+----------+-------------+------+------------+-------------+--------------+------------+---------+\n",
      "only showing top 5 rows\n",
      "\n"
     ]
    }
   ],
   "source": [
    "import pandas as pd\n",
    "from pyspark.sql.types import StructType, StringType, StructField,IntegerType,FloatType, DateType\n",
    "customer_pd_df = pd.read_excel('file:///home/saif/LFS/datasets/datasets_pavan/sales/customers.xlsx')\n",
    "\n",
    "data_schema = StructType([\n",
    "            StructField('CustomerKey',FloatType(),True ),\n",
    "            StructField('Prefix',StringType(),True ),\n",
    "            StructField('FirstName',StringType(),True ),\n",
    "            StructField('LastName',StringType(),True ),\n",
    "            StructField('BirthDate',DateType(),True ),\n",
    "            StructField('MaritalStatus',StringType(),True ),\n",
    "            StructField('Gender',StringType(),True ),\n",
    "            StructField('AnnualIncome',FloatType(),True ),\n",
    "            StructField('TotalChildren',FloatType(),True ),\n",
    "            StructField('EducationLevel',StringType(),True ),\n",
    "            StructField('Occupation',StringType(),True ),\n",
    "            StructField('HomeOwner',StringType(),True )  \n",
    "])\n",
    "\n",
    "\n",
    "customer_df = spark.createDataFrame(customer_pd_df,data_schema)\n",
    "customer_df.printSchema()\n",
    "customer_df.show(5)"
   ]
  },
  {
   "cell_type": "code",
   "execution_count": 4,
   "metadata": {},
   "outputs": [
    {
     "name": "stdout",
     "output_type": "stream",
     "text": [
      "root\n",
      " |-- OrderDate: string (nullable = true)\n",
      " |-- StockDate: string (nullable = true)\n",
      " |-- OrderNumber: string (nullable = true)\n",
      " |-- ProductKey: integer (nullable = true)\n",
      " |-- CustomerKey: integer (nullable = true)\n",
      " |-- TerritoryKey: integer (nullable = true)\n",
      " |-- OrderLineItem: integer (nullable = true)\n",
      " |-- OrderQuantity: integer (nullable = true)\n",
      "\n",
      "+----------+----------+-----------+----------+-----------+------------+-------------+-------------+\n",
      "| OrderDate| StockDate|OrderNumber|ProductKey|CustomerKey|TerritoryKey|OrderLineItem|OrderQuantity|\n",
      "+----------+----------+-----------+----------+-----------+------------+-------------+-------------+\n",
      "|01-01-2015| 9/21/2001|    SO45080|       332|      14657|           1|            1|            1|\n",
      "|01-01-2015|12-05-2001|    SO45079|       312|      29255|           4|            1|            1|\n",
      "|01-01-2015|10/29/2001|    SO45082|       350|      11455|           9|            1|            1|\n",
      "|01-01-2015|11/16/2001|    SO45081|       338|      26782|           6|            1|            1|\n",
      "|01-02-2015|12/15/2001|    SO45083|       312|      14947|          10|            1|            1|\n",
      "+----------+----------+-----------+----------+-----------+------------+-------------+-------------+\n",
      "only showing top 5 rows\n",
      "\n"
     ]
    }
   ],
   "source": [
    "sales_df = spark.read.format('csv')\\\n",
    "          .option('header', 'True') \\\n",
    "          .option('inferSchema', 'True') \\\n",
    "          .load('file:///home/saif/LFS/datasets/datasets_pavan/sales/sales.csv')\n",
    "sales_df.printSchema()\n",
    "sales_df.show(5)"
   ]
  },
  {
   "cell_type": "code",
   "execution_count": 5,
   "metadata": {},
   "outputs": [
    {
     "name": "stdout",
     "output_type": "stream",
     "text": [
      "root\n",
      " |-- ProductKey: integer (nullable = true)\n",
      " |-- ProductSubcategoryKey: integer (nullable = true)\n",
      " |-- ProductSKU: string (nullable = true)\n",
      " |-- ProductName: string (nullable = true)\n",
      " |-- ModelName: string (nullable = true)\n",
      " |-- ProductDescription: string (nullable = true)\n",
      " |-- ProductColor: string (nullable = true)\n",
      " |-- ProductSize: string (nullable = true)\n",
      " |-- ProductStyle: string (nullable = true)\n",
      " |-- ProductCost: double (nullable = true)\n",
      " |-- ProductPrice: double (nullable = true)\n",
      "\n",
      "+----------+---------------------+----------+--------------------+-------------------+--------------------+------------+-----------+------------+-----------+------------+\n",
      "|ProductKey|ProductSubcategoryKey|ProductSKU|         ProductName|          ModelName|  ProductDescription|ProductColor|ProductSize|ProductStyle|ProductCost|ProductPrice|\n",
      "+----------+---------------------+----------+--------------------+-------------------+--------------------+------------+-----------+------------+-----------+------------+\n",
      "|       214|                   31| HL-U509-R|Sport-100 Helmet,...|          Sport-100|Universal fit, we...|         Red|          0|           0|    13.0863|       34.99|\n",
      "|       215|                   31|   HL-U509|Sport-100 Helmet,...|          Sport-100|Universal fit, we...|       Black|          0|           0|    12.0278|     33.6442|\n",
      "|       218|                   23| SO-B909-M|Mountain Bike Soc...|Mountain Bike Socks|Combination of na...|       White|          M|           U|     3.3963|         9.5|\n",
      "|       219|                   23| SO-B909-L|Mountain Bike Soc...|Mountain Bike Socks|Combination of na...|       White|          L|           U|     3.3963|         9.5|\n",
      "|       220|                   31| HL-U509-B|Sport-100 Helmet,...|          Sport-100|Universal fit, we...|        Blue|          0|           0|    12.0278|     33.6442|\n",
      "+----------+---------------------+----------+--------------------+-------------------+--------------------+------------+-----------+------------+-----------+------------+\n",
      "only showing top 5 rows\n",
      "\n"
     ]
    }
   ],
   "source": [
    "products_df = spark.read.format('csv')\\\n",
    "          .option('header', 'True') \\\n",
    "          .option('inferSchema', 'True') \\\n",
    "          .load('file:///home/saif/LFS/datasets/datasets_pavan/sales/products.csv')\n",
    "products_df.printSchema()\n",
    "products_df.show(5)"
   ]
  },
  {
   "cell_type": "code",
   "execution_count": null,
   "metadata": {},
   "outputs": [],
   "source": [
    "# PROBLEM 3: List customers who ordered same product more than once in a month"
   ]
  },
  {
   "cell_type": "code",
   "execution_count": 29,
   "metadata": {},
   "outputs": [
    {
     "name": "stdout",
     "output_type": "stream",
     "text": [
      "+---------+----------+-----------+----------+-----+\n",
      "|OrderYear|OrderMonth|CustomerKey|ProductKey|count|\n",
      "+---------+----------+-----------+----------+-----+\n",
      "|     null|      null|      11330|       530|    2|\n",
      "|     null|      null|      11091|       214|    2|\n",
      "|     null|      null|      13179|       477|    2|\n",
      "|     null|      null|      11215|       529|    2|\n",
      "|     null|      null|      11300|       528|    3|\n",
      "+---------+----------+-----------+----------+-----+\n",
      "only showing top 5 rows\n",
      "\n"
     ]
    }
   ],
   "source": [
    "sales_df.select(\n",
    "        year(to_timestamp(col('OrderDate'),'MM-dd-yyyy')).alias('OrderYear'),\n",
    "        month(to_timestamp(col('OrderDate'),'MM-dd-yyyy')).alias('OrderMonth'),\n",
    "        col('CustomerKey'),\n",
    "        col('ProductKey'),\n",
    "        col('OrderNumber')\n",
    "        )\\\n",
    "        .groupby(col('OrderYear'),col('OrderMonth'),col('CustomerKey'),col('ProductKey'))\\\n",
    "        .count()\\\n",
    "        .where(col('count')>1)"
   ]
  },
  {
   "cell_type": "code",
   "execution_count": 34,
   "metadata": {},
   "outputs": [
    {
     "name": "stdout",
     "output_type": "stream",
     "text": [
      "+------+---------+--------+--------------------+\n",
      "|Prefix|FirstName|LastName|         ProductName|\n",
      "+------+---------+--------+--------------------+\n",
      "|  MRS.|     SARA|   BAKER| Patch Kit/8 Patches|\n",
      "|   MR.|FREDERICK|  PRASAD|        AWC Logo Cap|\n",
      "|   MR.|    ETHAN|  BRYANT|    Road Bottle Cage|\n",
      "|   MR.|    ETHAN|  BRYANT|Water Bottle - 30...|\n",
      "|   MR.|    LOUIS|      XU| Patch Kit/8 Patches|\n",
      "+------+---------+--------+--------------------+\n",
      "only showing top 5 rows\n",
      "\n"
     ]
    }
   ],
   "source": [
    "agg_result = sales_df.select(\n",
    "        year(to_timestamp(col('OrderDate'),'MM-dd-yyyy')).alias('OrderYear'),\n",
    "        month(to_timestamp(col('OrderDate'),'MM-dd-yyyy')).alias('OrderMonth'),\n",
    "        col('CustomerKey'),\n",
    "        col('ProductKey'),\n",
    "        col('OrderNumber')\n",
    "        )\\\n",
    "        .groupby(col('OrderYear'),col('OrderMonth'),col('CustomerKey'),col('ProductKey'))\\\n",
    "        .count()\\\n",
    "        .where(col('count')>1)\n",
    "\n",
    "result_df = agg_result.join(customer_df,customer_df.CustomerKey == agg_result.CustomerKey,'left')\\\n",
    "          .join(products_df, agg_result.ProductKey == products_df.ProductKey, 'left')\\\n",
    "          .select(col('Prefix'),col('FirstName'),col('LastName'), col('ProductName'))\n",
    "\n",
    "result_df.show(5)"
   ]
  },
  {
   "cell_type": "code",
   "execution_count": null,
   "metadata": {},
   "outputs": [],
   "source": []
  }
 ],
 "metadata": {
  "kernelspec": {
   "display_name": "Python 3",
   "language": "python",
   "name": "python3"
  },
  "language_info": {
   "codemirror_mode": {
    "name": "ipython",
    "version": 3
   },
   "file_extension": ".py",
   "mimetype": "text/x-python",
   "name": "python",
   "nbconvert_exporter": "python",
   "pygments_lexer": "ipython3",
   "version": "3.8.10"
  }
 },
 "nbformat": 4,
 "nbformat_minor": 4
}
