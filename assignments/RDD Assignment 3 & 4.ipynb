{
 "cells": [
  {
   "cell_type": "code",
   "execution_count": 1,
   "metadata": {},
   "outputs": [],
   "source": [
    "from pyspark import SparkConf, SparkContext"
   ]
  },
  {
   "cell_type": "code",
   "execution_count": 2,
   "metadata": {},
   "outputs": [],
   "source": [
    "config = SparkConf().setAppName(\"learning\").setMaster(\"local\")"
   ]
  },
  {
   "cell_type": "code",
   "execution_count": 3,
   "metadata": {},
   "outputs": [],
   "source": [
    "sc = SparkContext(conf=config)"
   ]
  },
  {
   "cell_type": "markdown",
   "metadata": {},
   "source": [
    "# 3) Find all PENDING_PAYMENT orders & write this output in HDFS named as PENDING_PAYMENT folder. Filename: orders.txt"
   ]
  },
  {
   "cell_type": "code",
   "execution_count": 5,
   "metadata": {},
   "outputs": [],
   "source": [
    "orders_rdd = sc.textFile(\"file:///home/saif/LFS/datasets/orders.txt\")"
   ]
  },
  {
   "cell_type": "code",
   "execution_count": 6,
   "metadata": {},
   "outputs": [
    {
     "data": {
      "text/plain": [
       "['order_id,order_date,order_customer_id,order_status',\n",
       " '1,2013-07-25 00:00:00.0,11599,CLOSED',\n",
       " '2,2013-07-25 00:00:00.0,256,PENDING_PAYMENT',\n",
       " '3,2013-07-25 00:00:00.0,12111,COMPLETE',\n",
       " '4,2013-07-25 00:00:00.0,8827,CLOSED']"
      ]
     },
     "execution_count": 6,
     "metadata": {},
     "output_type": "execute_result"
    }
   ],
   "source": [
    "orders_rdd.take(5)"
   ]
  },
  {
   "cell_type": "code",
   "execution_count": 7,
   "metadata": {},
   "outputs": [],
   "source": [
    "header = orders_rdd.first()"
   ]
  },
  {
   "cell_type": "code",
   "execution_count": 8,
   "metadata": {},
   "outputs": [],
   "source": [
    "filtered_data = orders_rdd.filter(lambda x : x!=header and x.split(\",\")[3] in ['PENDING_PAYMENT'] )"
   ]
  },
  {
   "cell_type": "code",
   "execution_count": 9,
   "metadata": {},
   "outputs": [
    {
     "data": {
      "text/plain": [
       "['2,2013-07-25 00:00:00.0,256,PENDING_PAYMENT',\n",
       " '9,2013-07-25 00:00:00.0,5657,PENDING_PAYMENT',\n",
       " '10,2013-07-25 00:00:00.0,5648,PENDING_PAYMENT',\n",
       " '13,2013-07-25 00:00:00.0,9149,PENDING_PAYMENT',\n",
       " '16,2013-07-25 00:00:00.0,7276,PENDING_PAYMENT']"
      ]
     },
     "execution_count": 9,
     "metadata": {},
     "output_type": "execute_result"
    }
   ],
   "source": [
    "filtered_data.take(5)"
   ]
  },
  {
   "cell_type": "code",
   "execution_count": 11,
   "metadata": {},
   "outputs": [],
   "source": [
    "filtered_data.saveAsTextFile('hdfs://localhost:9000/user/saif/HFS/Output/rdd_op/PENDING_PAYMENT')"
   ]
  },
  {
   "cell_type": "markdown",
   "metadata": {},
   "source": [
    "# 4) Display the records who as order_customer_id as 2568, 256, 9842, 9503? Filename: orders.txt"
   ]
  },
  {
   "cell_type": "code",
   "execution_count": 12,
   "metadata": {},
   "outputs": [],
   "source": [
    "orders_rdd = sc.textFile(\"file:///home/saif/LFS/datasets/orders.txt\")"
   ]
  },
  {
   "cell_type": "code",
   "execution_count": 13,
   "metadata": {},
   "outputs": [
    {
     "data": {
      "text/plain": [
       "['order_id,order_date,order_customer_id,order_status',\n",
       " '1,2013-07-25 00:00:00.0,11599,CLOSED',\n",
       " '2,2013-07-25 00:00:00.0,256,PENDING_PAYMENT',\n",
       " '3,2013-07-25 00:00:00.0,12111,COMPLETE',\n",
       " '4,2013-07-25 00:00:00.0,8827,CLOSED']"
      ]
     },
     "execution_count": 13,
     "metadata": {},
     "output_type": "execute_result"
    }
   ],
   "source": [
    "orders_rdd.take(5)"
   ]
  },
  {
   "cell_type": "code",
   "execution_count": 14,
   "metadata": {},
   "outputs": [],
   "source": [
    "header = orders_rdd.first()"
   ]
  },
  {
   "cell_type": "code",
   "execution_count": 17,
   "metadata": {},
   "outputs": [],
   "source": [
    "filtered_data = orders_rdd.filter(lambda x : x!=header and x.split(\",\")[2] in ['2568', '256', '9842', '9503'] )"
   ]
  },
  {
   "cell_type": "code",
   "execution_count": 18,
   "metadata": {},
   "outputs": [
    {
     "data": {
      "text/plain": [
       "['2,2013-07-25 00:00:00.0,256,PENDING_PAYMENT',\n",
       " '14,2013-07-25 00:00:00.0,9842,PROCESSING',\n",
       " '15,2013-07-25 00:00:00.0,2568,COMPLETE',\n",
       " '25,2013-07-25 00:00:00.0,9503,CLOSED',\n",
       " '1882,2013-08-03 00:00:00.0,9503,PENDING',\n",
       " '9467,2013-09-22 00:00:00.0,256,CLOSED',\n",
       " '10225,2013-09-26 00:00:00.0,9842,CLOSED',\n",
       " '13037,2013-10-13 00:00:00.0,256,PENDING_PAYMENT',\n",
       " '16562,2013-11-06 00:00:00.0,2568,PENDING_PAYMENT',\n",
       " '18616,2013-11-17 00:00:00.0,2568,PENDING',\n",
       " '20892,2013-11-30 00:00:00.0,2568,CLOSED',\n",
       " '23299,2013-12-16 00:00:00.0,9842,CLOSED',\n",
       " '23971,2013-12-21 00:00:00.0,256,PENDING',\n",
       " '24394,2013-12-23 00:00:00.0,256,PENDING_PAYMENT',\n",
       " '26161,2014-01-03 00:00:00.0,256,CLOSED',\n",
       " '31529,2014-02-05 00:00:00.0,9842,PENDING_PAYMENT',\n",
       " '32359,2014-02-10 00:00:00.0,9842,PENDING_PAYMENT',\n",
       " '32781,2014-02-12 00:00:00.0,256,PENDING',\n",
       " '35843,2014-03-02 00:00:00.0,256,PENDING',\n",
       " '38133,2014-03-16 00:00:00.0,9503,PROCESSING',\n",
       " '44844,2014-04-28 00:00:00.0,2568,PENDING',\n",
       " '49850,2014-06-01 00:00:00.0,9842,PENDING',\n",
       " '50804,2014-06-08 00:00:00.0,256,PROCESSING',\n",
       " '52893,2014-06-23 00:00:00.0,256,COMPLETE',\n",
       " '57707,2014-07-24 00:00:00.0,9842,SUSPECTED_FRAUD',\n",
       " '64516,2014-04-09 00:00:00.0,2568,ON_HOLD']"
      ]
     },
     "execution_count": 18,
     "metadata": {},
     "output_type": "execute_result"
    }
   ],
   "source": [
    "filtered_data.collect()"
   ]
  },
  {
   "cell_type": "code",
   "execution_count": null,
   "metadata": {},
   "outputs": [],
   "source": []
  }
 ],
 "metadata": {
  "kernelspec": {
   "display_name": "Python 3",
   "language": "python",
   "name": "python3"
  },
  "language_info": {
   "codemirror_mode": {
    "name": "ipython",
    "version": 3
   },
   "file_extension": ".py",
   "mimetype": "text/x-python",
   "name": "python",
   "nbconvert_exporter": "python",
   "pygments_lexer": "ipython3",
   "version": "3.8.10"
  }
 },
 "nbformat": 4,
 "nbformat_minor": 4
}
