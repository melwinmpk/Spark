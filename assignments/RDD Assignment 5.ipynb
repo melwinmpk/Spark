{
 "cells": [
  {
   "cell_type": "code",
   "execution_count": 4,
   "metadata": {},
   "outputs": [],
   "source": [
    "from pyspark import SparkConf, SparkContext"
   ]
  },
  {
   "cell_type": "code",
   "execution_count": 5,
   "metadata": {},
   "outputs": [],
   "source": [
    "config = SparkConf().setAppName(\"learning\").setMaster(\"local\")"
   ]
  },
  {
   "cell_type": "code",
   "execution_count": 6,
   "metadata": {},
   "outputs": [],
   "source": [
    "sc = SparkContext(conf=config)"
   ]
  },
  {
   "cell_type": "markdown",
   "metadata": {},
   "source": [
    "# 5) Find the employee count & cost to company for each group consisting of dept, cadre, and state? Filename: sales.txt\n",
    "<pre>\n",
    "Output:\n",
    "dept,cadre,sate,TotalEmployeeCount,costToCompany\n",
    "((Sales,Trainee,UK),(1,12000))\n",
    "((Sales,Lead,IND),(2,64000))\n",
    "((Marketing,Associate,IND),(2,36000))\n",
    "((Sales,Lead,AUS),(2,64000))\n",
    "((HR,Manager,IND),(1,58000))\n",
    "((Sales,Lead,NY),(3,96000))\n",
    "</pre>"
   ]
  },
  {
   "cell_type": "code",
   "execution_count": 9,
   "metadata": {},
   "outputs": [],
   "source": [
    "sales_rdd = sc.textFile(\"file:///home/saif/LFS/datasets/sales.txt\")"
   ]
  },
  {
   "cell_type": "code",
   "execution_count": 10,
   "metadata": {},
   "outputs": [
    {
     "data": {
      "text/plain": [
       "['dept,cadre,costToCompany,state',\n",
       " 'Sales,Trainee,12000,UK',\n",
       " 'Sales,Lead,32000,AUS',\n",
       " 'Sales,Lead,32000,NY',\n",
       " 'Sales,Lead,32000,IND']"
      ]
     },
     "execution_count": 10,
     "metadata": {},
     "output_type": "execute_result"
    }
   ],
   "source": [
    "sales_rdd.take(5)"
   ]
  },
  {
   "cell_type": "code",
   "execution_count": 12,
   "metadata": {},
   "outputs": [],
   "source": [
    "header = sales_rdd.first()"
   ]
  },
  {
   "cell_type": "code",
   "execution_count": 13,
   "metadata": {},
   "outputs": [],
   "source": [
    "sales_rdd_without_header = sales_rdd.filter(lambda x : x!=header)"
   ]
  },
  {
   "cell_type": "code",
   "execution_count": 14,
   "metadata": {},
   "outputs": [],
   "source": [
    "sales_rdd_without_header = sales_rdd_without_header.map(lambda x: x.split(\",\"))"
   ]
  },
  {
   "cell_type": "code",
   "execution_count": 15,
   "metadata": {},
   "outputs": [
    {
     "data": {
      "text/plain": [
       "[['Sales', 'Trainee', '12000', 'UK'],\n",
       " ['Sales', 'Lead', '32000', 'AUS'],\n",
       " ['Sales', 'Lead', '32000', 'NY'],\n",
       " ['Sales', 'Lead', '32000', 'IND'],\n",
       " ['Sales', 'Lead', '32000', 'AUS']]"
      ]
     },
     "execution_count": 15,
     "metadata": {},
     "output_type": "execute_result"
    }
   ],
   "source": [
    "sales_rdd_without_header.take(5)"
   ]
  },
  {
   "cell_type": "code",
   "execution_count": 19,
   "metadata": {},
   "outputs": [],
   "source": [
    "sales_rdd_without_header_grouping= sales_rdd_without_header.map(lambda row:((row[0],row[1],row[3]),(1,int(row[2]))))"
   ]
  },
  {
   "cell_type": "code",
   "execution_count": 20,
   "metadata": {},
   "outputs": [
    {
     "data": {
      "text/plain": [
       "[(('Sales', 'Trainee', 'UK'), (1, 12000)),\n",
       " (('Sales', 'Lead', 'AUS'), (1, 32000)),\n",
       " (('Sales', 'Lead', 'NY'), (1, 32000)),\n",
       " (('Sales', 'Lead', 'IND'), (1, 32000)),\n",
       " (('Sales', 'Lead', 'AUS'), (1, 32000))]"
      ]
     },
     "execution_count": 20,
     "metadata": {},
     "output_type": "execute_result"
    }
   ],
   "source": [
    "sales_rdd_without_header_grouping.take(5)"
   ]
  },
  {
   "cell_type": "code",
   "execution_count": 21,
   "metadata": {},
   "outputs": [],
   "source": [
    "sales_rdd_without_header_grouping = sales_rdd_without_header_grouping.reduceByKey(lambda a,b:(a[0]+b[0],a[1]+b[1]))"
   ]
  },
  {
   "cell_type": "code",
   "execution_count": 22,
   "metadata": {},
   "outputs": [
    {
     "data": {
      "text/plain": [
       "[(('Sales', 'Trainee', 'UK'), (1, 12000)),\n",
       " (('Sales', 'Lead', 'AUS'), (2, 64000)),\n",
       " (('Sales', 'Lead', 'NY'), (3, 96000)),\n",
       " (('Sales', 'Lead', 'IND'), (2, 64000)),\n",
       " (('Marketing', 'Associate', 'IND'), (2, 36000))]"
      ]
     },
     "execution_count": 22,
     "metadata": {},
     "output_type": "execute_result"
    }
   ],
   "source": [
    "sales_rdd_without_header_grouping.take(5)"
   ]
  },
  {
   "cell_type": "code",
   "execution_count": 23,
   "metadata": {},
   "outputs": [
    {
     "name": "stdout",
     "output_type": "stream",
     "text": [
      "dept cadre state TotalEmployeeCount costToCompany \n",
      "(('Sales', 'Trainee', 'UK'), (1, 12000))\n",
      "(('Sales', 'Lead', 'AUS'), (2, 64000))\n",
      "(('Sales', 'Lead', 'NY'), (3, 96000))\n",
      "(('Sales', 'Lead', 'IND'), (2, 64000))\n",
      "(('Marketing', 'Associate', 'IND'), (2, 36000))\n",
      "(('HR', 'Manager', 'IND'), (1, 58000))\n"
     ]
    }
   ],
   "source": [
    "headerList = header.split(',')\n",
    "print(f\"{headerList[0]} {headerList[1]} {headerList[3]} TotalEmployeeCount costToCompany \")\n",
    "for i in sales_rdd_without_header_grouping.collect():\n",
    "    print(i)"
   ]
  },
  {
   "cell_type": "code",
   "execution_count": null,
   "metadata": {},
   "outputs": [],
   "source": []
  }
 ],
 "metadata": {
  "kernelspec": {
   "display_name": "Python 3",
   "language": "python",
   "name": "python3"
  },
  "language_info": {
   "codemirror_mode": {
    "name": "ipython",
    "version": 3
   },
   "file_extension": ".py",
   "mimetype": "text/x-python",
   "name": "python",
   "nbconvert_exporter": "python",
   "pygments_lexer": "ipython3",
   "version": "3.8.10"
  }
 },
 "nbformat": 4,
 "nbformat_minor": 4
}
