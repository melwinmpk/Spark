{
 "cells": [
  {
   "cell_type": "code",
   "execution_count": 9,
   "id": "36f3da37-2451-41f0-8800-0368c4213025",
   "metadata": {},
   "outputs": [],
   "source": [
    "import pyspark.sql.functions as F"
   ]
  },
  {
   "cell_type": "code",
   "execution_count": 3,
   "id": "a3aa6a35-6802-4ce9-9fd4-43753cda97e8",
   "metadata": {},
   "outputs": [],
   "source": [
    "from pyspark.sql import SparkSession"
   ]
  },
  {
   "cell_type": "code",
   "execution_count": 1,
   "id": "8c973970-2e22-4963-833e-6b7e55d8e8eb",
   "metadata": {},
   "outputs": [],
   "source": [
    "import findspark\n",
    "findspark.init()"
   ]
  },
  {
   "cell_type": "code",
   "execution_count": 5,
   "id": "e5c8e633-f382-4f97-95d9-91ff90b921e4",
   "metadata": {},
   "outputs": [
    {
     "name": "stderr",
     "output_type": "stream",
     "text": [
      "WARNING: Using incubator modules: jdk.incubator.vector\n",
      "Using Spark's default log4j profile: org/apache/spark/log4j2-defaults.properties\n",
      "25/07/21 04:34:21 WARN Utils: Your hostname, de24, resolves to a loopback address: 127.0.1.1; using 192.168.0.102 instead (on interface enp0s3)\n",
      "25/07/21 04:34:21 WARN Utils: Set SPARK_LOCAL_IP if you need to bind to another address\n",
      "Using Spark's default log4j profile: org/apache/spark/log4j2-defaults.properties\n",
      "Setting default log level to \"WARN\".\n",
      "To adjust logging level use sc.setLogLevel(newLevel). For SparkR, use setLogLevel(newLevel).\n",
      "25/07/21 04:34:22 WARN NativeCodeLoader: Unable to load native-hadoop library for your platform... using builtin-java classes where applicable\n",
      "25/07/21 04:34:23 WARN Utils: Service 'SparkUI' could not bind on port 4040. Attempting port 4041.\n"
     ]
    }
   ],
   "source": [
    "spark = SparkSession.builder.appName(\"1st SQL question\").getOrCreate()"
   ]
  },
  {
   "cell_type": "code",
   "execution_count": 6,
   "id": "a638ead7-d85d-4170-988f-94311e7f91f1",
   "metadata": {},
   "outputs": [
    {
     "data": {
      "text/html": [
       "\n",
       "            <div>\n",
       "                <p><b>SparkSession - in-memory</b></p>\n",
       "                \n",
       "        <div>\n",
       "            <p><b>SparkContext</b></p>\n",
       "\n",
       "            <p><a href=\"http://192.168.0.102:4041\">Spark UI</a></p>\n",
       "\n",
       "            <dl>\n",
       "              <dt>Version</dt>\n",
       "                <dd><code>v4.0.0</code></dd>\n",
       "              <dt>Master</dt>\n",
       "                <dd><code>local[*]</code></dd>\n",
       "              <dt>AppName</dt>\n",
       "                <dd><code>1st SQL question</code></dd>\n",
       "            </dl>\n",
       "        </div>\n",
       "        \n",
       "            </div>\n",
       "        "
      ],
      "text/plain": [
       "<pyspark.sql.session.SparkSession at 0x7230941453d0>"
      ]
     },
     "execution_count": 6,
     "metadata": {},
     "output_type": "execute_result"
    }
   ],
   "source": [
    "spark"
   ]
  },
  {
   "cell_type": "code",
   "execution_count": null,
   "id": "36480280-e009-42b7-b9a7-0d52e50343e3",
   "metadata": {},
   "outputs": [],
   "source": [
    "'''\n",
    "Table: Activity\n",
    "\n",
    "+---------------+---------+\n",
    "| Column Name   | Type    |\n",
    "+---------------+---------+\n",
    "| user_id       | int     |\n",
    "| session_id    | int     |\n",
    "| activity_date | date    |\n",
    "| activity_type | enum    |\n",
    "+---------------+---------+\n",
    "This table may have duplicate rows.\n",
    "The activity_type column is an ENUM (category) of type ('open_session', 'end_session', 'scroll_down', 'send_message').\n",
    "The table shows the user activities for a social media website. \n",
    "Note that each session belongs to exactly one user.\n",
    " \n",
    "\n",
    "Write a solution to find the daily active user count for a period of 30 days ending 2019-07-27 inclusively. \n",
    "A user was active on someday if they made at least one activity on that day.\n",
    "\n",
    "Return the result table in any order.\n",
    "\n",
    "The result format is in the following example.\n",
    "\n",
    " \n",
    "\n",
    "Example 1:\n",
    "\n",
    "Input: \n",
    "Activity table:\n",
    "+---------+------------+---------------+---------------+\n",
    "| user_id | session_id | activity_date | activity_type |\n",
    "+---------+------------+---------------+---------------+\n",
    "| 1       | 1          | 2019-07-20    | open_session  |\n",
    "| 1       | 1          | 2019-07-20    | scroll_down   |\n",
    "| 1       | 1          | 2019-07-20    | end_session   |\n",
    "| 2       | 4          | 2019-07-20    | open_session  |\n",
    "| 2       | 4          | 2019-07-21    | send_message  |\n",
    "| 2       | 4          | 2019-07-21    | end_session   |\n",
    "| 3       | 2          | 2019-07-21    | open_session  |\n",
    "| 3       | 2          | 2019-07-21    | send_message  |\n",
    "| 3       | 2          | 2019-07-21    | end_session   |\n",
    "| 4       | 3          | 2019-06-25    | open_session  |\n",
    "| 4       | 3          | 2019-06-25    | end_session   |\n",
    "+---------+------------+---------------+---------------+\n",
    "Output: \n",
    "+------------+--------------+ \n",
    "| day        | active_users |\n",
    "+------------+--------------+ \n",
    "| 2019-07-20 | 2            |\n",
    "| 2019-07-21 | 2            |\n",
    "+------------+--------------+ \n",
    "Explanation: Note that we do not care about days with zero active users.\n",
    "'''"
   ]
  },
  {
   "cell_type": "code",
   "execution_count": 10,
   "id": "dd02f738-a3c4-4020-9bbf-37b9f49734e9",
   "metadata": {},
   "outputs": [],
   "source": [
    "data = [\n",
    "(1,1,'2019-07-20','open_session'),\n",
    "(1,1,'2019-07-20','scroll_down' ),\n",
    "(1,1,'2019-07-20','end_session' ),\n",
    "(2,4,'2019-07-20','open_session'),\n",
    "(2,4,'2019-07-21','send_message'),\n",
    "(2,4,'2019-07-21','end_session' ),\n",
    "(3,2,'2019-07-21','open_session'),\n",
    "(3,2,'2019-07-21','send_message'),\n",
    "(3,2,'2019-07-21','end_session' ),\n",
    "(4,3,'2019-06-25','open_session'),\n",
    "(4,3,'2019-06-25','end_session' )\n",
    "]\n",
    "schema = ['user_id','session_id','activity_date','activity_type']"
   ]
  },
  {
   "cell_type": "code",
   "execution_count": 11,
   "id": "133d4da3-742f-42f9-afd4-c5f48ff1a3c1",
   "metadata": {
    "scrolled": true
   },
   "outputs": [
    {
     "name": "stderr",
     "output_type": "stream",
     "text": [
      "                                                                                "
     ]
    },
    {
     "name": "stdout",
     "output_type": "stream",
     "text": [
      "+-------+----------+-------------+-------------+\n",
      "|user_id|session_id|activity_date|activity_type|\n",
      "+-------+----------+-------------+-------------+\n",
      "|1      |1         |2019-07-20   |open_session |\n",
      "|1      |1         |2019-07-20   |scroll_down  |\n",
      "|1      |1         |2019-07-20   |end_session  |\n",
      "|2      |4         |2019-07-20   |open_session |\n",
      "|2      |4         |2019-07-21   |send_message |\n",
      "|2      |4         |2019-07-21   |end_session  |\n",
      "|3      |2         |2019-07-21   |open_session |\n",
      "|3      |2         |2019-07-21   |send_message |\n",
      "|3      |2         |2019-07-21   |end_session  |\n",
      "|4      |3         |2019-06-25   |open_session |\n",
      "|4      |3         |2019-06-25   |end_session  |\n",
      "+-------+----------+-------------+-------------+\n",
      "\n"
     ]
    }
   ],
   "source": [
    "t1_df = spark.createDataFrame(data = data,schema=schema)\n",
    "t1_df.show(truncate=False)"
   ]
  },
  {
   "cell_type": "code",
   "execution_count": 17,
   "id": "27504d0f-3345-43b6-8e70-203a17526552",
   "metadata": {
    "scrolled": true
   },
   "outputs": [
    {
     "name": "stdout",
     "output_type": "stream",
     "text": [
      "+-------+----------+-------------+-------------+\n",
      "|user_id|session_id|activity_date|activity_type|\n",
      "+-------+----------+-------------+-------------+\n",
      "|      1|         1|   2019-07-20| open_session|\n",
      "|      1|         1|   2019-07-20|  scroll_down|\n",
      "|      1|         1|   2019-07-20|  end_session|\n",
      "|      2|         4|   2019-07-20| open_session|\n",
      "|      2|         4|   2019-07-21| send_message|\n",
      "|      2|         4|   2019-07-21|  end_session|\n",
      "|      3|         2|   2019-07-21| open_session|\n",
      "|      3|         2|   2019-07-21| send_message|\n",
      "|      3|         2|   2019-07-21|  end_session|\n",
      "+-------+----------+-------------+-------------+\n",
      "\n"
     ]
    }
   ],
   "source": [
    "t1_df.where((F.col(\"activity_date\") > '2019-06-28') & (F.col(\"activity_date\") <= '2019-07-27') ).show()"
   ]
  },
  {
   "cell_type": "code",
   "execution_count": 24,
   "id": "2fcabfed-3f28-44e1-913f-8b8e7fddcaa5",
   "metadata": {},
   "outputs": [
    {
     "name": "stdout",
     "output_type": "stream",
     "text": [
      "+-------------+-------------------+\n",
      "|activity_date|distinct_user_count|\n",
      "+-------------+-------------------+\n",
      "|   2019-07-21|                  2|\n",
      "|   2019-07-20|                  2|\n",
      "+-------------+-------------------+\n",
      "\n"
     ]
    }
   ],
   "source": [
    "t1_df.where((F.col(\"activity_date\") > '2019-06-28') & (F.col(\"activity_date\") <= '2019-07-27') )\\\n",
    "    .groupby(F.col(\"activity_date\"))\\\n",
    "    .agg(F.countDistinct(\"user_id\").alias(\"distinct_user_count\"))\\\n",
    "    .show()\n"
   ]
  },
  {
   "cell_type": "markdown",
   "id": "756d3c63-faaa-487a-a068-18fc18e72c7a",
   "metadata": {},
   "source": [
    "## SQL Solution"
   ]
  },
  {
   "cell_type": "code",
   "execution_count": null,
   "id": "481697b2-3c6b-4da3-adce-ec056d28b2dd",
   "metadata": {},
   "outputs": [],
   "source": [
    "# select activity_date, count(Disitnct user_id)\n",
    "# FROM Activity \n",
    "# WHERE activity_date BETWEEN '2019-06-28' AND '2019-07-27'\n",
    "# GROUP BY activity_date;"
   ]
  },
  {
   "cell_type": "code",
   "execution_count": null,
   "id": "c1764add-3487-493c-abac-466a65b25c80",
   "metadata": {},
   "outputs": [],
   "source": []
  }
 ],
 "metadata": {
  "kernelspec": {
   "display_name": "Python 3 (ipykernel)",
   "language": "python",
   "name": "python3"
  },
  "language_info": {
   "codemirror_mode": {
    "name": "ipython",
    "version": 3
   },
   "file_extension": ".py",
   "mimetype": "text/x-python",
   "name": "python",
   "nbconvert_exporter": "python",
   "pygments_lexer": "ipython3",
   "version": "3.12.3"
  }
 },
 "nbformat": 4,
 "nbformat_minor": 5
}
