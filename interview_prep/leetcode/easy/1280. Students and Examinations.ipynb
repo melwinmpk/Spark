{
 "cells": [
  {
   "cell_type": "code",
   "execution_count": 1,
   "id": "abbad16d-ea42-457b-a8cf-9fc31fd0039e",
   "metadata": {},
   "outputs": [],
   "source": [
    "import findspark\n",
    "findspark.init()"
   ]
  },
  {
   "cell_type": "code",
   "execution_count": 3,
   "id": "9fcf27cc-cc84-402d-bac1-ab25901c3c82",
   "metadata": {},
   "outputs": [],
   "source": [
    "from pyspark.sql import SparkSession\n",
    "import pyspark.sql.functions as F"
   ]
  },
  {
   "cell_type": "code",
   "execution_count": 5,
   "id": "8a775ec3-f1bc-483c-9619-8f44b37cec5a",
   "metadata": {},
   "outputs": [
    {
     "name": "stderr",
     "output_type": "stream",
     "text": [
      "WARNING: Using incubator modules: jdk.incubator.vector\n",
      "Using Spark's default log4j profile: org/apache/spark/log4j2-defaults.properties\n",
      "25/07/23 01:17:17 WARN Utils: Your hostname, de24, resolves to a loopback address: 127.0.1.1; using 192.168.0.103 instead (on interface enp0s3)\n",
      "25/07/23 01:17:17 WARN Utils: Set SPARK_LOCAL_IP if you need to bind to another address\n",
      "Using Spark's default log4j profile: org/apache/spark/log4j2-defaults.properties\n",
      "Setting default log level to \"WARN\".\n",
      "To adjust logging level use sc.setLogLevel(newLevel). For SparkR, use setLogLevel(newLevel).\n",
      "25/07/23 01:17:18 WARN NativeCodeLoader: Unable to load native-hadoop library for your platform... using builtin-java classes where applicable\n"
     ]
    },
    {
     "data": {
      "text/html": [
       "\n",
       "            <div>\n",
       "                <p><b>SparkSession - in-memory</b></p>\n",
       "                \n",
       "        <div>\n",
       "            <p><b>SparkContext</b></p>\n",
       "\n",
       "            <p><a href=\"http://192.168.0.103:4040\">Spark UI</a></p>\n",
       "\n",
       "            <dl>\n",
       "              <dt>Version</dt>\n",
       "                <dd><code>v4.0.0</code></dd>\n",
       "              <dt>Master</dt>\n",
       "                <dd><code>local[4]</code></dd>\n",
       "              <dt>AppName</dt>\n",
       "                <dd><code>1280</code></dd>\n",
       "            </dl>\n",
       "        </div>\n",
       "        \n",
       "            </div>\n",
       "        "
      ],
      "text/plain": [
       "<pyspark.sql.session.SparkSession at 0x7c38857afbf0>"
      ]
     },
     "execution_count": 5,
     "metadata": {},
     "output_type": "execute_result"
    }
   ],
   "source": [
    "spark = SparkSession.builder.master(\"local[4]\").appName(\"1280\").getOrCreate()\n",
    "spark"
   ]
  },
  {
   "cell_type": "code",
   "execution_count": null,
   "id": "b9b8b69c-a2b7-41db-9ac9-77ecca9b909b",
   "metadata": {},
   "outputs": [],
   "source": [
    "'''\n",
    "Table: Students\n",
    "\n",
    "+---------------+---------+\n",
    "| Column Name   | Type    |\n",
    "+---------------+---------+\n",
    "| student_id    | int     |\n",
    "| student_name  | varchar |\n",
    "+---------------+---------+\n",
    "student_id is the primary key (column with unique values) for this table.\n",
    "Each row of this table contains the ID and the name of one student in the school.\n",
    " \n",
    "\n",
    "Table: Subjects\n",
    "\n",
    "+--------------+---------+\n",
    "| Column Name  | Type    |\n",
    "+--------------+---------+\n",
    "| subject_name | varchar |\n",
    "+--------------+---------+\n",
    "subject_name is the primary key (column with unique values) for this table.\n",
    "Each row of this table contains the name of one subject in the school.\n",
    " \n",
    "\n",
    "Table: Examinations\n",
    "\n",
    "+--------------+---------+\n",
    "| Column Name  | Type    |\n",
    "+--------------+---------+\n",
    "| student_id   | int     |\n",
    "| subject_name | varchar |\n",
    "+--------------+---------+\n",
    "There is no primary key (column with unique values) for this table. It may contain duplicates.\n",
    "Each student from the Students table takes every course from the Subjects table.\n",
    "Each row of this table indicates that a student with ID student_id attended the exam of subject_name.\n",
    " \n",
    "\n",
    "Write a solution to find the number of times each student attended each exam.\n",
    "\n",
    "Return the result table ordered by student_id and subject_name.\n",
    "\n",
    "The result format is in the following example.\n",
    "\n",
    " \n",
    "\n",
    "Example 1:\n",
    "\n",
    "Input: \n",
    "Students table:\n",
    "+------------+--------------+\n",
    "| student_id | student_name |\n",
    "+------------+--------------+\n",
    "| 1          | Alice        |\n",
    "| 2          | Bob          |\n",
    "| 13         | John         |\n",
    "| 6          | Alex         |\n",
    "+------------+--------------+\n",
    "Subjects table:\n",
    "+--------------+\n",
    "| subject_name |\n",
    "+--------------+\n",
    "| Math         |\n",
    "| Physics      |\n",
    "| Programming  |\n",
    "+--------------+\n",
    "Examinations table:\n",
    "+------------+--------------+\n",
    "| student_id | subject_name |\n",
    "+------------+--------------+\n",
    "| 1          | Math         |\n",
    "| 1          | Physics      |\n",
    "| 1          | Programming  |\n",
    "| 2          | Programming  |\n",
    "| 1          | Physics      |\n",
    "| 1          | Math         |\n",
    "| 13         | Math         |\n",
    "| 13         | Programming  |\n",
    "| 13         | Physics      |\n",
    "| 2          | Math         |\n",
    "| 1          | Math         |\n",
    "+------------+--------------+\n",
    "Output: \n",
    "+------------+--------------+--------------+----------------+\n",
    "| student_id | student_name | subject_name | attended_exams |\n",
    "+------------+--------------+--------------+----------------+\n",
    "| 1          | Alice        | Math         | 3              |\n",
    "| 1          | Alice        | Physics      | 2              |\n",
    "| 1          | Alice        | Programming  | 1              |\n",
    "| 2          | Bob          | Math         | 1              |\n",
    "| 2          | Bob          | Physics      | 0              |\n",
    "| 2          | Bob          | Programming  | 1              |\n",
    "| 6          | Alex         | Math         | 0              |\n",
    "| 6          | Alex         | Physics      | 0              |\n",
    "| 6          | Alex         | Programming  | 0              |\n",
    "| 13         | John         | Math         | 1              |\n",
    "| 13         | John         | Physics      | 1              |\n",
    "| 13         | John         | Programming  | 1              |\n",
    "+------------+--------------+--------------+----------------+\n",
    "Explanation: \n",
    "The result table should contain all students and all subjects.\n",
    "Alice attended the Math exam 3 times, the Physics exam 2 times, and the Programming exam 1 time.\n",
    "Bob attended the Math exam 1 time, the Programming exam 1 time, and did not attend the Physics exam.\n",
    "Alex did not attend any exams.\n",
    "John attended the Math exam 1 time, the Physics exam 1 time, and the Programming exam 1 time.\n",
    "'''"
   ]
  },
  {
   "cell_type": "code",
   "execution_count": 16,
   "id": "247b0007-fd7b-4e1f-828f-9641e78c89e4",
   "metadata": {},
   "outputs": [],
   "source": [
    "data_students = [\n",
    "(1 ,'Alice'),\n",
    "(2 ,'Bob'  ),\n",
    "(13,'John' ),\n",
    "(6 ,'Alex' )\n",
    "]\n",
    "students = ['student_id','student_name']\n",
    "\n",
    "## Melwin Please Note when ever there is a single data there must be a taling comma \n",
    "data_subject = [\n",
    "('Math',),\n",
    "('Physics',),\n",
    "('Programming',)\n",
    "]\n",
    "\n",
    "subject = ['subject_name']\n",
    "\n",
    "data_examinations = [\n",
    "(1 ,'Math'       ),\n",
    "(1 ,'Physics'    ),\n",
    "(1 ,'Programming'),\n",
    "(2 ,'Programming'),\n",
    "(1 ,'Physics'    ),\n",
    "(1 ,'Math'       ),\n",
    "(13,'Math'       ),\n",
    "(13,'Programming'),\n",
    "(13,'Physics'    ),\n",
    "(2 ,'Math'       ),\n",
    "(1 ,'Math'       ),\n",
    "]\n",
    "\n",
    "examinations = ['student_id','subject_name']"
   ]
  },
  {
   "cell_type": "code",
   "execution_count": 17,
   "id": "6056562f-7a63-4026-b0fe-691054262638",
   "metadata": {},
   "outputs": [],
   "source": [
    "df_students = spark.createDataFrame(data =data_students ,schema = students)\n",
    "df_subject = spark.createDataFrame(data =data_subject ,schema = subject)\n",
    "df_examinations = spark.createDataFrame(data =data_examinations ,schema = examinations)"
   ]
  },
  {
   "cell_type": "code",
   "execution_count": 18,
   "id": "9911fd51-c7cf-4c27-b144-2e8e3b911094",
   "metadata": {},
   "outputs": [],
   "source": [
    "spark.conf.set(\"spark.sql.crossJoin.enabled\", True)"
   ]
  },
  {
   "cell_type": "code",
   "execution_count": 30,
   "id": "cc855153-22a5-49d9-b1aa-bec7eb029f60",
   "metadata": {},
   "outputs": [
    {
     "name": "stderr",
     "output_type": "stream",
     "text": [
      "                                                                                "
     ]
    },
    {
     "name": "stdout",
     "output_type": "stream",
     "text": [
      "+----------+------------+------------+--------------+\n",
      "|student_id|student_name|subject_name|attended_exams|\n",
      "+----------+------------+------------+--------------+\n",
      "|         1|       Alice|        Math|             3|\n",
      "|         1|       Alice|     Physics|             2|\n",
      "|         1|       Alice| Programming|             1|\n",
      "|         2|         Bob|        Math|             1|\n",
      "|         2|         Bob|     Physics|             0|\n",
      "|         2|         Bob| Programming|             1|\n",
      "|         6|        Alex|        Math|             0|\n",
      "|         6|        Alex|     Physics|             0|\n",
      "|         6|        Alex| Programming|             0|\n",
      "|        13|        John|        Math|             1|\n",
      "|        13|        John|     Physics|             1|\n",
      "|        13|        John| Programming|             1|\n",
      "+----------+------------+------------+--------------+\n",
      "\n"
     ]
    }
   ],
   "source": [
    "df_students.alias(\"st\").crossJoin(df_subject.alias(\"su\"))\\\n",
    "                       .join(df_examinations.alias(\"e\"), (F.col(\"st.student_id\") == F.col(\"e.student_id\")) &\n",
    "                                                         (F.col(\"su.subject_name\") == F.col(\"e.subject_name\"))\n",
    "                             , \"left\")\\\n",
    "                       .groupBy(F.col(\"st.student_id\"),F.col(\"st.student_name\"),F.col(\"su.subject_name\"))\\\n",
    "                       .agg(F.count(F.col(\"e.student_id\")).alias(\"attended_exams\"))\\\n",
    "                       .orderBy(F.col(\"st.student_id\"),F.col(\"su.subject_name\"))\\\n",
    "                       .show()"
   ]
  },
  {
   "cell_type": "markdown",
   "id": "ef1de829-04a1-424d-b994-4f6ee32475b7",
   "metadata": {},
   "source": [
    "## SQL Implementation\n",
    "\n",
    "<pre>\n",
    "SELECT Students.student_id, Students.student_name, Subjects.subject_name, COUNT(Examinations.student_id)\n",
    "FROM easy_1280_Students Students \n",
    "JOIN easy_1280_Subjects Subjects on 1=1\n",
    "LEFT JOIN easy_1280_Examinations Examinations ON \n",
    "          Students.student_id = Examinations.student_id \n",
    "      AND Subjects.subject_name = Examinations.subject_name\n",
    "GROUP BY Students.student_id, Students.student_name, Subjects.subject_name\n",
    "ORDER BY Students.student_id, Subjects.subject_name;\n",
    "</pre>"
   ]
  },
  {
   "cell_type": "code",
   "execution_count": null,
   "id": "ed2e030a-bde7-4b9c-b5dc-832ddef5944e",
   "metadata": {},
   "outputs": [],
   "source": []
  },
  {
   "cell_type": "code",
   "execution_count": null,
   "id": "ca09f3ac-b99b-41c1-a624-4e0614cc4ff0",
   "metadata": {},
   "outputs": [],
   "source": []
  }
 ],
 "metadata": {
  "kernelspec": {
   "display_name": "Python 3 (ipykernel)",
   "language": "python",
   "name": "python3"
  },
  "language_info": {
   "codemirror_mode": {
    "name": "ipython",
    "version": 3
   },
   "file_extension": ".py",
   "mimetype": "text/x-python",
   "name": "python",
   "nbconvert_exporter": "python",
   "pygments_lexer": "ipython3",
   "version": "3.12.3"
  }
 },
 "nbformat": 4,
 "nbformat_minor": 5
}
