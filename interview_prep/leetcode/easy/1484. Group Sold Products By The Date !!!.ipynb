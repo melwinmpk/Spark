{
 "cells": [
  {
   "cell_type": "code",
   "execution_count": 1,
   "id": "159c3d71-2a80-43db-9fc0-978066d2eb5b",
   "metadata": {},
   "outputs": [],
   "source": [
    "import findspark\n",
    "findspark.init()"
   ]
  },
  {
   "cell_type": "code",
   "execution_count": 2,
   "id": "d08a7219-e216-48f1-a08b-bbbc26a9e620",
   "metadata": {},
   "outputs": [],
   "source": [
    "from pyspark.sql import SparkSession \n",
    "import pyspark.sql.functions as F"
   ]
  },
  {
   "cell_type": "code",
   "execution_count": 4,
   "id": "edfc23a6-45ce-4137-88c2-e6fb28c1bfa8",
   "metadata": {},
   "outputs": [
    {
     "name": "stderr",
     "output_type": "stream",
     "text": [
      "WARNING: Using incubator modules: jdk.incubator.vector\n",
      "Using Spark's default log4j profile: org/apache/spark/log4j2-defaults.properties\n",
      "25/07/24 01:04:32 WARN Utils: Your hostname, de24, resolves to a loopback address: 127.0.1.1; using 192.168.0.102 instead (on interface enp0s3)\n",
      "25/07/24 01:04:32 WARN Utils: Set SPARK_LOCAL_IP if you need to bind to another address\n",
      "Using Spark's default log4j profile: org/apache/spark/log4j2-defaults.properties\n",
      "Setting default log level to \"WARN\".\n",
      "To adjust logging level use sc.setLogLevel(newLevel). For SparkR, use setLogLevel(newLevel).\n",
      "25/07/24 01:04:34 WARN NativeCodeLoader: Unable to load native-hadoop library for your platform... using builtin-java classes where applicable\n"
     ]
    },
    {
     "data": {
      "text/html": [
       "\n",
       "            <div>\n",
       "                <p><b>SparkSession - in-memory</b></p>\n",
       "                \n",
       "        <div>\n",
       "            <p><b>SparkContext</b></p>\n",
       "\n",
       "            <p><a href=\"http://192.168.0.102:4040\">Spark UI</a></p>\n",
       "\n",
       "            <dl>\n",
       "              <dt>Version</dt>\n",
       "                <dd><code>v4.0.0</code></dd>\n",
       "              <dt>Master</dt>\n",
       "                <dd><code>local[4]</code></dd>\n",
       "              <dt>AppName</dt>\n",
       "                <dd><code>1484</code></dd>\n",
       "            </dl>\n",
       "        </div>\n",
       "        \n",
       "            </div>\n",
       "        "
      ],
      "text/plain": [
       "<pyspark.sql.session.SparkSession at 0x76f971bb4740>"
      ]
     },
     "execution_count": 4,
     "metadata": {},
     "output_type": "execute_result"
    }
   ],
   "source": [
    "spark = SparkSession.builder.master(\"local[4]\").appName(\"1484\").getOrCreate()\n",
    "spark"
   ]
  },
  {
   "cell_type": "code",
   "execution_count": null,
   "id": "1819ef7d-d0ca-4bd3-b42f-1cbf0a65eef0",
   "metadata": {},
   "outputs": [],
   "source": [
    "'''\n",
    "Table Activities:\n",
    "\n",
    "+-------------+---------+\n",
    "| Column Name | Type    |\n",
    "+-------------+---------+\n",
    "| sell_date   | date    |\n",
    "| product     | varchar |\n",
    "+-------------+---------+\n",
    "There is no primary key (column with unique values) for this table. It may contain duplicates.\n",
    "Each row of this table contains the product name and the date it was sold in a market.\n",
    " \n",
    "\n",
    "Write a solution to find for each date the number of different products sold and their names.\n",
    "\n",
    "The sold products names for each date should be sorted lexicographically.\n",
    "\n",
    "Return the result table ordered by sell_date.\n",
    "\n",
    "The result format is in the following example.\n",
    "\n",
    " \n",
    "\n",
    "Example 1:\n",
    "\n",
    "Input: \n",
    "Activities table:\n",
    "+------------+------------+\n",
    "| sell_date  | product     |\n",
    "+------------+------------+\n",
    "| 2020-05-30 | Headphone  |\n",
    "| 2020-06-01 | Pencil     |\n",
    "| 2020-06-02 | Mask       |\n",
    "| 2020-05-30 | Basketball |\n",
    "| 2020-06-01 | Bible      |\n",
    "| 2020-06-02 | Mask       |\n",
    "| 2020-05-30 | T-Shirt    |\n",
    "+------------+------------+\n",
    "Output: \n",
    "+------------+----------+------------------------------+\n",
    "| sell_date  | num_sold | products                     |\n",
    "+------------+----------+------------------------------+\n",
    "| 2020-05-30 | 3        | Basketball,Headphone,T-shirt |\n",
    "| 2020-06-01 | 2        | Bible,Pencil                 |\n",
    "| 2020-06-02 | 1        | Mask                         |\n",
    "+------------+----------+------------------------------+\n",
    "Explanation: \n",
    "For 2020-05-30, Sold items were (Headphone, Basketball, T-shirt), \n",
    "we sort them lexicographically and separate them by a comma.\n",
    "For 2020-06-01, Sold items were (Pencil, Bible), \n",
    "we sort them lexicographically and separate them by a comma.\n",
    "For 2020-06-02, the Sold item is (Mask), we just return it.\n",
    "'''"
   ]
  },
  {
   "cell_type": "code",
   "execution_count": 5,
   "id": "b0afccb1-460b-4463-99e5-adb03509f46b",
   "metadata": {},
   "outputs": [],
   "source": [
    "data = [\n",
    "('2020-05-30','Headphone' ),\n",
    "('2020-06-01','Pencil'    ),\n",
    "('2020-06-02','Mask'      ),\n",
    "('2020-05-30','Basketball'),\n",
    "('2020-06-01','Bible'     ),\n",
    "('2020-06-02','Mask'      ),\n",
    "('2020-05-30','T-Shirt'   )  \n",
    "]\n",
    "schema = ['sell_date','product']"
   ]
  },
  {
   "cell_type": "code",
   "execution_count": 6,
   "id": "10d72912-126e-44ae-84e1-36e62419f496",
   "metadata": {},
   "outputs": [
    {
     "name": "stderr",
     "output_type": "stream",
     "text": [
      "                                                                                "
     ]
    },
    {
     "name": "stdout",
     "output_type": "stream",
     "text": [
      "+----------+----------+\n",
      "| sell_date|   product|\n",
      "+----------+----------+\n",
      "|2020-05-30| Headphone|\n",
      "|2020-06-01|    Pencil|\n",
      "|2020-06-02|      Mask|\n",
      "|2020-05-30|Basketball|\n",
      "|2020-06-01|     Bible|\n",
      "|2020-06-02|      Mask|\n",
      "|2020-05-30|   T-Shirt|\n",
      "+----------+----------+\n",
      "\n"
     ]
    }
   ],
   "source": [
    "df = spark.createDataFrame(data=data, schema=schema)\n",
    "df.show()"
   ]
  },
  {
   "cell_type": "code",
   "execution_count": null,
   "id": "6d2e2529-0629-409a-b6b0-98a3a75152b5",
   "metadata": {},
   "outputs": [],
   "source": []
  },
  {
   "cell_type": "code",
   "execution_count": 12,
   "id": "8310f089-7504-4aa8-89b2-a13a3efd05ba",
   "metadata": {
    "scrolled": true
   },
   "outputs": [
    {
     "name": "stderr",
     "output_type": "stream",
     "text": [
      "[Stage 8:>                                                          (0 + 4) / 4]"
     ]
    },
    {
     "name": "stdout",
     "output_type": "stream",
     "text": [
      "+----------+--------+\n",
      "| sell_date|num_sold|\n",
      "+----------+--------+\n",
      "|2020-05-30|       3|\n",
      "|2020-06-01|       2|\n",
      "|2020-06-02|       1|\n",
      "+----------+--------+\n",
      "\n"
     ]
    },
    {
     "name": "stderr",
     "output_type": "stream",
     "text": [
      "                                                                                "
     ]
    }
   ],
   "source": [
    "df.groupBy(F.col(\"sell_date\"))\\\n",
    "    .agg(\n",
    "            F.countDistinct(F.col(\"product\")).alias(\"num_sold\")\n",
    "        )\\\n",
    "    .show()"
   ]
  },
  {
   "cell_type": "markdown",
   "id": "5aa421db-2009-443d-b724-1b1a8d31d859",
   "metadata": {},
   "source": [
    "## Complete Solution"
   ]
  },
  {
   "cell_type": "code",
   "execution_count": 14,
   "id": "d039b287-1c0d-4d35-91d8-8dbd72b91bf9",
   "metadata": {},
   "outputs": [
    {
     "name": "stdout",
     "output_type": "stream",
     "text": [
      "+----------+--------+----------------------------+\n",
      "|sell_date |num_sold|products                    |\n",
      "+----------+--------+----------------------------+\n",
      "|2020-05-30|3       |Basketball,Headphone,T-Shirt|\n",
      "|2020-06-01|2       |Bible,Pencil                |\n",
      "|2020-06-02|1       |Mask                        |\n",
      "+----------+--------+----------------------------+\n",
      "\n"
     ]
    }
   ],
   "source": [
    "df.groupBy(F.col(\"sell_date\"))\\\n",
    "    .agg(\n",
    "            F.countDistinct(F.col(\"product\")).alias(\"num_sold\"),\n",
    "            F.concat_ws(\",\", F.sort_array(F.collect_set(F.col(\"product\")))).alias(\"products\")\n",
    "        )\\\n",
    "    .show(truncate=False)"
   ]
  },
  {
   "cell_type": "markdown",
   "id": "40a22b50-c396-4d5b-91aa-ef910d8dfdca",
   "metadata": {},
   "source": [
    "## Prtformance POV"
   ]
  },
  {
   "cell_type": "code",
   "execution_count": 18,
   "id": "2cc49a08-f933-4791-b297-c5a9d79c348c",
   "metadata": {},
   "outputs": [
    {
     "name": "stdout",
     "output_type": "stream",
     "text": [
      "+----------+--------+----------------------------+\n",
      "|sell_date |num_sold|products                    |\n",
      "+----------+--------+----------------------------+\n",
      "|2020-05-30|3       |Basketball,Headphone,T-Shirt|\n",
      "|2020-06-01|2       |Bible,Pencil                |\n",
      "|2020-06-02|1       |Mask                        |\n",
      "+----------+--------+----------------------------+\n",
      "\n"
     ]
    }
   ],
   "source": [
    "df.groupBy(F.col(\"sell_date\"))\\\n",
    "    .agg(\n",
    "            F.countDistinct(F.col(\"product\")).alias(\"num_sold\"),\n",
    "            F.concat_ws(\",\", F.sort_array(F.collect_set(F.col(\"product\")))).alias(\"products\")\n",
    "        )\\\n",
    "    .show(truncate=False)"
   ]
  },
  {
   "cell_type": "markdown",
   "id": "19ee5724-8cac-41dd-9420-f3bb0dd76179",
   "metadata": {},
   "source": [
    "## SQL Solution \n",
    "\n",
    "<pre>\n",
    "\n",
    "SELECT  sell_date, count(DISTINCT product) as num_sold, GROUP_CONCAT(DISTINCT product order by product) as product \n",
    "FROM Activities \n",
    "GROUP BY sell_date\n",
    "    \n",
    "</pre>"
   ]
  },
  {
   "cell_type": "code",
   "execution_count": null,
   "id": "2f6067df-7720-44bf-9e0c-68262077f9a2",
   "metadata": {},
   "outputs": [],
   "source": []
  }
 ],
 "metadata": {
  "kernelspec": {
   "display_name": "Python 3 (ipykernel)",
   "language": "python",
   "name": "python3"
  },
  "language_info": {
   "codemirror_mode": {
    "name": "ipython",
    "version": 3
   },
   "file_extension": ".py",
   "mimetype": "text/x-python",
   "name": "python",
   "nbconvert_exporter": "python",
   "pygments_lexer": "ipython3",
   "version": "3.12.3"
  }
 },
 "nbformat": 4,
 "nbformat_minor": 5
}
