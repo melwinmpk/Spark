{
 "cells": [
  {
   "cell_type": "code",
   "execution_count": 1,
   "id": "b4d414b2-364c-436c-ae74-e8ee93f4d1d0",
   "metadata": {},
   "outputs": [
    {
     "name": "stderr",
     "output_type": "stream",
     "text": [
      "WARNING: Using incubator modules: jdk.incubator.vector\n",
      "Using Spark's default log4j profile: org/apache/spark/log4j2-defaults.properties\n",
      "25/07/29 01:34:11 WARN Utils: Your hostname, de24, resolves to a loopback address: 127.0.1.1; using 192.168.0.102 instead (on interface enp0s3)\n",
      "25/07/29 01:34:11 WARN Utils: Set SPARK_LOCAL_IP if you need to bind to another address\n",
      "Using Spark's default log4j profile: org/apache/spark/log4j2-defaults.properties\n",
      "Setting default log level to \"WARN\".\n",
      "To adjust logging level use sc.setLogLevel(newLevel). For SparkR, use setLogLevel(newLevel).\n",
      "25/07/29 01:34:12 WARN NativeCodeLoader: Unable to load native-hadoop library for your platform... using builtin-java classes where applicable\n",
      "25/07/29 01:34:13 WARN Utils: Service 'SparkUI' could not bind on port 4040. Attempting port 4041.\n"
     ]
    },
    {
     "data": {
      "text/html": [
       "\n",
       "            <div>\n",
       "                <p><b>SparkSession - in-memory</b></p>\n",
       "                \n",
       "        <div>\n",
       "            <p><b>SparkContext</b></p>\n",
       "\n",
       "            <p><a href=\"http://192.168.0.102:4041\">Spark UI</a></p>\n",
       "\n",
       "            <dl>\n",
       "              <dt>Version</dt>\n",
       "                <dd><code>v4.0.0</code></dd>\n",
       "              <dt>Master</dt>\n",
       "                <dd><code>local[4]</code></dd>\n",
       "              <dt>AppName</dt>\n",
       "                <dd><code>1731</code></dd>\n",
       "            </dl>\n",
       "        </div>\n",
       "        \n",
       "            </div>\n",
       "        "
      ],
      "text/plain": [
       "<pyspark.sql.session.SparkSession at 0x7b3ac64c3e30>"
      ]
     },
     "execution_count": 1,
     "metadata": {},
     "output_type": "execute_result"
    }
   ],
   "source": [
    "import findspark\n",
    "findspark.init()\n",
    "\n",
    "from pyspark.sql import SparkSession\n",
    "from pyspark.conf import SparkConf\n",
    "import pyspark.sql.functions as F\n",
    "\n",
    "conf = SparkConf().setAppName(\"1731\").setMaster(\"local[4]\")\n",
    "spark = SparkSession.builder.config(conf=conf).getOrCreate()\n",
    "spark"
   ]
  },
  {
   "cell_type": "code",
   "execution_count": null,
   "id": "404300ff-c50a-4441-8587-93668801c969",
   "metadata": {},
   "outputs": [],
   "source": [
    "'''\n",
    "Table: Employees\n",
    "\n",
    "+-------------+----------+\n",
    "| Column Name | Type     |\n",
    "+-------------+----------+\n",
    "| employee_id | int      |\n",
    "| name        | varchar  |\n",
    "| reports_to  | int      |\n",
    "| age         | int      |\n",
    "+-------------+----------+\n",
    "employee_id is the column with unique values for this table.\n",
    "This table contains information about the employees and the id of the manager they report to. \n",
    "Some employees do not report to anyone (reports_to is null). \n",
    " \n",
    "\n",
    "For this problem, we will consider a manager an employee who has at least 1 other employee \n",
    "reporting to them.\n",
    "\n",
    "Write a solution to report the ids and the names of all managers, the number of employees \n",
    "who report directly to them, and the average age of the reports rounded to the nearest integer.\n",
    "\n",
    "Return the result table ordered by employee_id.\n",
    "\n",
    "The result format is in the following example.\n",
    "\n",
    " \n",
    "\n",
    "Example 1:\n",
    "\n",
    "Input: \n",
    "Employees table:\n",
    "+-------------+---------+------------+-----+\n",
    "| employee_id | name    | reports_to | age |\n",
    "+-------------+---------+------------+-----+\n",
    "| 9           | Hercy   | null       | 43  |\n",
    "| 6           | Alice   | 9          | 41  |\n",
    "| 4           | Bob     | 9          | 36  |\n",
    "| 2           | Winston | null       | 37  |\n",
    "+-------------+---------+------------+-----+\n",
    "Output: \n",
    "+-------------+-------+---------------+-------------+\n",
    "| employee_id | name  | reports_count | average_age |\n",
    "+-------------+-------+---------------+-------------+\n",
    "| 9           | Hercy | 2             | 39          |\n",
    "+-------------+-------+---------------+-------------+\n",
    "Explanation: Hercy has 2 people report directly to him, Alice and Bob. \n",
    "Their average age is (41+36)/2 = 38.5, which is 39 after rounding it to the nearest integer.\n",
    "'''"
   ]
  },
  {
   "cell_type": "code",
   "execution_count": 3,
   "id": "849fdc59-8ebe-4a0c-911f-122d62516613",
   "metadata": {},
   "outputs": [],
   "source": [
    "data = [\n",
    "(9,'Hercy'  ,None,43),\n",
    "(6,'Alice'  ,9   ,41),\n",
    "(4,'Bob'    ,9   ,36),\n",
    "(2,'Winston',None,37)    \n",
    "]\n",
    "schema = ['employee_id','name','reports_to','age']"
   ]
  },
  {
   "cell_type": "code",
   "execution_count": 5,
   "id": "f60f9006-bf9e-4e13-8001-3022371f02f4",
   "metadata": {},
   "outputs": [
    {
     "name": "stderr",
     "output_type": "stream",
     "text": [
      "                                                                                "
     ]
    },
    {
     "name": "stdout",
     "output_type": "stream",
     "text": [
      "+-----------+-------+----------+---+\n",
      "|employee_id|   name|reports_to|age|\n",
      "+-----------+-------+----------+---+\n",
      "|          9|  Hercy|      NULL| 43|\n",
      "|          6|  Alice|         9| 41|\n",
      "|          4|    Bob|         9| 36|\n",
      "|          2|Winston|      NULL| 37|\n",
      "+-----------+-------+----------+---+\n",
      "\n"
     ]
    }
   ],
   "source": [
    "df = spark.createDataFrame(data = data, schema = schema)\n",
    "df.show()"
   ]
  },
  {
   "cell_type": "code",
   "execution_count": 9,
   "id": "689955e2-b5e4-42a7-9f8c-e067f96d094d",
   "metadata": {},
   "outputs": [
    {
     "name": "stdout",
     "output_type": "stream",
     "text": [
      "+-----------+-----+-------------+-----------+\n",
      "|employee_id| name|reports_count|average_age|\n",
      "+-----------+-----+-------------+-----------+\n",
      "|          9|Hercy|            2|       39.0|\n",
      "+-----------+-----+-------------+-----------+\n",
      "\n"
     ]
    }
   ],
   "source": [
    "df.alias(\"e\").join(df.alias(\"m\"),\n",
    "                   F.col(\"e.reports_to\") == F.col(\"m.employee_id\"),\n",
    "                   'inner'\n",
    "                  )\\\n",
    "             .groupBy(F.col(\"m.employee_id\"),F.col(\"m.name\"))\\\n",
    "             .agg(F.count(F.col(\"e.employee_id\")).alias(\"reports_count\"),\n",
    "                  F.round(F.avg(F.col(\"e.age\")),0).alias(\"average_age\")\n",
    "                 )\\\n",
    "             .show()"
   ]
  },
  {
   "cell_type": "markdown",
   "id": "1ee557c3-7d68-466e-a84f-02978c8d9e7e",
   "metadata": {},
   "source": [
    "## SQL Solution \n",
    "<pre>\n",
    "SELECT m.employee_id, m.name, COUNT(e.employee_id) as reports_count, ROUND(AVG(e.age),0) as average_age\n",
    "FROM Employees e\n",
    "LEFT JOIN Employees m ON m.employee_id = e.reports_to\n",
    "GROUP BY m.employee_id, m.name\n",
    "</pre>"
   ]
  },
  {
   "cell_type": "code",
   "execution_count": null,
   "id": "2482e2d7-9f60-40a7-9d5d-c3566cba30a7",
   "metadata": {},
   "outputs": [],
   "source": []
  }
 ],
 "metadata": {
  "kernelspec": {
   "display_name": "Python 3 (ipykernel)",
   "language": "python",
   "name": "python3"
  },
  "language_info": {
   "codemirror_mode": {
    "name": "ipython",
    "version": 3
   },
   "file_extension": ".py",
   "mimetype": "text/x-python",
   "name": "python",
   "nbconvert_exporter": "python",
   "pygments_lexer": "ipython3",
   "version": "3.12.3"
  }
 },
 "nbformat": 4,
 "nbformat_minor": 5
}
