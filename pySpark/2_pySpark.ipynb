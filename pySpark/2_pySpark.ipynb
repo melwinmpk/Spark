{
 "cells": [
  {
   "cell_type": "markdown",
   "metadata": {},
   "source": [
    "<h3>Creating the RDD's</h3>"
   ]
  },
  {
   "cell_type": "markdown",
   "metadata": {},
   "source": [
    "<b>There are three ways to create RDDs in Spark</b>\n",
    "<ul>\n",
    "       <li>Parallelizing via collections in driver program.</li>\n",
    "       <li>Creating a dataset in an external storage system (e.g. HDFS, HBase, and Shared FS).</li>\n",
    "       <li>Creating RDD from existing RDDs.</li>\n",
    "</ul>"
   ]
  },
  {
   "cell_type": "markdown",
   "metadata": {},
   "source": [
    "<h3>Parallelizing via collections in driver program</h3>"
   ]
  },
  {
   "cell_type": "code",
   "execution_count": 8,
   "metadata": {},
   "outputs": [],
   "source": [
    "# Packages that must be Imported\n",
    "from pyspark import SparkConf\n",
    "from pyspark import SparkContext\n",
    "from pyspark.sql import SparkSession"
   ]
  },
  {
   "cell_type": "code",
   "execution_count": 3,
   "metadata": {},
   "outputs": [],
   "source": [
    "sparkConf = SparkConf ( ) \\\n",
    " .setAppName (\"WordCount\") \\\n",
    " .setMaster (\"local\") \n",
    "sc = SparkContext (conf=sparkConf)"
   ]
  },
  {
   "cell_type": "code",
   "execution_count": 9,
   "metadata": {},
   "outputs": [],
   "source": [
    "spark = SparkSession.builder\\\n",
    "        .appName(\"WordCount\")\\\n",
    "        .master(\"local[3]\")\\\n",
    "        .getOrCreate()\n",
    "# spark.sparkContext( ) "
   ]
  },
  {
   "cell_type": "code",
   "execution_count": 5,
   "metadata": {},
   "outputs": [
    {
     "name": "stdout",
     "output_type": "stream",
     "text": [
      "[1, 2, 3, 4, 5, 6, 7, 8, 9, 10, 11, 12]\n"
     ]
    }
   ],
   "source": [
    "data = [1,2,3,4,5,6,7,8,9,10,11,12]\n",
    "rdd = sc.parallelize(data)\n",
    "rdd.collect( )\n",
    "print (rdd.take(20))"
   ]
  },
  {
   "cell_type": "markdown",
   "metadata": {},
   "source": [
    "<h3>What is parallelized in spark</h3>\n",
    "<p>Parallelize is a <b>method to create an RDD from an existing collection (For e.g Array)</b>\n",
    "    present in the driver.<br> The elements present in the collection are copied to form a distributed dataset on which we can operate on in parallel.</p>"
   ]
  },
  {
   "cell_type": "markdown",
   "metadata": {},
   "source": [
    "<h3>Create RDD with partition</h3>"
   ]
  },
  {
   "cell_type": "code",
   "execution_count": 10,
   "metadata": {},
   "outputs": [
    {
     "name": "stdout",
     "output_type": "stream",
     "text": [
      "Initial Partition Count:1\n",
      "[1, 2, 3, 4, 5, 6, 7, 8, 9, 10, 11, 12]\n",
      "[[1, 2], [3, 4], [5, 6], [7, 8], [9, 10, 11, 12]]\n",
      "After changing Partition Count:5\n"
     ]
    }
   ],
   "source": [
    "data = [1,2,3,4,5,6,7,8,9,10,11,12]\n",
    "rdd = sc.parallelize(data)\n",
    "print(\"Initial Partition Count:\"+str(rdd.getNumPartitions()))\n",
    "partition_data = [1,2,3,4,5,6,7,8,9,10,11,12]\n",
    "partition_rdd = spark.sparkContext.parallelize(partition_data, 5)\n",
    "print(partition_rdd.collect())\n",
    "print(partition_rdd.glom().collect())\n",
    "print(\"After changing Partition Count:\"+str(partition_rdd.getNumPartitions()))"
   ]
  },
  {
   "cell_type": "markdown",
   "metadata": {},
   "source": [
    "<h3>Create RDD from external text file</h3>"
   ]
  },
  {
   "cell_type": "code",
   "execution_count": 11,
   "metadata": {},
   "outputs": [
    {
     "data": {
      "text/plain": [
       "['id,name,city', '101,saif,mumbai', '102,mitali,pune', '103,ram,balewadi']"
      ]
     },
     "execution_count": 11,
     "metadata": {},
     "output_type": "execute_result"
    }
   ],
   "source": [
    "readFile = sc.textFile(\"file:///home/saif/LFS/datasets/emp.txt\")\n",
    "readFile.collect() "
   ]
  },
  {
   "cell_type": "markdown",
   "metadata": {},
   "source": [
    "<h3>Creating RDD from existing RDD</h3>"
   ]
  },
  {
   "cell_type": "code",
   "execution_count": 12,
   "metadata": {},
   "outputs": [
    {
     "name": "stdout",
     "output_type": "stream",
     "text": [
      "Initial Partition Count:1\n",
      "Re-partition count:4\n",
      "Re-partition count:3\n"
     ]
    }
   ],
   "source": [
    "print(\"Initial Partition Count:\"+str(readFile.getNumPartitions()))\n",
    "repartition_Rdd = readFile.repartition(4)\n",
    "print(\"Re-partition count:\"+str(repartition_Rdd.getNumPartitions()))\n",
    "coalesce_Rdd = readFile.repartition(3)\n",
    "print(\"Re-partition count:\"+str(coalesce_Rdd.getNumPartitions())) "
   ]
  },
  {
   "cell_type": "code",
   "execution_count": null,
   "metadata": {},
   "outputs": [],
   "source": []
  }
 ],
 "metadata": {
  "kernelspec": {
   "display_name": "Python 3",
   "language": "python",
   "name": "python3"
  },
  "language_info": {
   "codemirror_mode": {
    "name": "ipython",
    "version": 3
   },
   "file_extension": ".py",
   "mimetype": "text/x-python",
   "name": "python",
   "nbconvert_exporter": "python",
   "pygments_lexer": "ipython3",
   "version": "3.8.10"
  }
 },
 "nbformat": 4,
 "nbformat_minor": 4
}
