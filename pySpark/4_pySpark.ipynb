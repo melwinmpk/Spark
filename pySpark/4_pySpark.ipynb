{
 "cells": [
  {
   "cell_type": "code",
   "execution_count": 1,
   "metadata": {},
   "outputs": [],
   "source": [
    "from pyspark.sql import SparkSession\n",
    "from pyspark import SparkConf\n",
    "from pyspark import SparkContext\n",
    "from pyspark.sql.functions import col"
   ]
  },
  {
   "cell_type": "code",
   "execution_count": 2,
   "metadata": {},
   "outputs": [],
   "source": [
    "sparkConf =  SparkConf().setAppName(\"Trying\").setMaster(\"local\")\n",
    "sc = SparkContext(conf=sparkConf)"
   ]
  },
  {
   "cell_type": "code",
   "execution_count": 3,
   "metadata": {},
   "outputs": [],
   "source": [
    "spark = SparkSession.builder\\\n",
    "        .appName(\"anyname\")\\\n",
    "        .master(\"local\")\\\n",
    "        .getOrCreate()"
   ]
  },
  {
   "cell_type": "code",
   "execution_count": 4,
   "metadata": {
    "scrolled": true
   },
   "outputs": [
    {
     "name": "stdout",
     "output_type": "stream",
     "text": [
      "+---+--------+-------+\n",
      "|id |name,sal|country|\n",
      "+---+--------+-------+\n",
      "|101|sohail  |1000   |\n",
      "|102|Saif    |2000   |\n",
      "|103|Mitali  |3000   |\n",
      "|104|Manas   |4000   |\n",
      "|105|Ram     |5000   |\n",
      "+---+--------+-------+\n",
      "only showing top 5 rows\n",
      "\n",
      "root\n",
      " |-- id: integer (nullable = true)\n",
      " |-- name,sal: string (nullable = true)\n",
      " |-- country: integer (nullable = true)\n",
      "\n"
     ]
    }
   ],
   "source": [
    "df = spark.read.format('csv')\\\n",
    "            .option('delimiter','|') \\\n",
    "            .option('header', 'True') \\\n",
    "            .option('inferSchema', 'True') \\\n",
    "            .load('C:\\\\Personal\\\\Projects\\\\Spark\\\\dataset\\\\emp_all.txt')\n",
    "            \n",
    "# in windows\n",
    "# .load('C:\\\\Personal\\\\Projects\\\\Spark\\\\dataset\\\\emp_all.txt')\n",
    "# this is in Ubuntu\n",
    "# .load('file:///home/saif/LFS/datasets/emp_all.txt')\n",
    "# for HDFS hdfs://localhost:9000/user/saif/HFS/Output/....\n",
    "# for edge node file:///home/saif/LFS/datasets/emp_all.txt\n",
    "\n",
    "df.show(5,truncate=False)\n",
    "df.printSchema()"
   ]
  },
  {
   "cell_type": "markdown",
   "metadata": {},
   "source": [
    "### filter\n",
    "### where"
   ]
  },
  {
   "cell_type": "code",
   "execution_count": 5,
   "metadata": {
    "scrolled": true
   },
   "outputs": [
    {
     "name": "stdout",
     "output_type": "stream",
     "text": [
      "+---+--------+-------+\n",
      "|id |name,sal|country|\n",
      "+---+--------+-------+\n",
      "|101|sohail  |1000   |\n",
      "+---+--------+-------+\n",
      "\n",
      "+---+--------+-------+\n",
      "|id |name,sal|country|\n",
      "+---+--------+-------+\n",
      "|101|sohail  |1000   |\n",
      "+---+--------+-------+\n",
      "\n"
     ]
    }
   ],
   "source": [
    "df.filter(df.country == 1000).show(truncate=False)\n",
    "\n",
    "# #  # OR\n",
    "\n",
    "# from pyspark.sql.functions import col\n",
    "# df.filter(col(\"country\") == 1000).show(truncate=False) \n",
    "\n",
    "# # OR\n",
    "\n",
    "df.where(df.country == 1000).show(truncate=False)"
   ]
  },
  {
   "cell_type": "code",
   "execution_count": 7,
   "metadata": {},
   "outputs": [],
   "source": [
    "# these are the ways to access the column\n",
    "# df.country   \n",
    "# col('country')  # from pyspark.sql.functions import col\n",
    "# df['country']"
   ]
  },
  {
   "cell_type": "markdown",
   "metadata": {},
   "source": [
    "#### multiple condition"
   ]
  },
  {
   "cell_type": "code",
   "execution_count": 6,
   "metadata": {},
   "outputs": [
    {
     "name": "stdout",
     "output_type": "stream",
     "text": [
      "+---+--------+-------+\n",
      "|id |name,sal|country|\n",
      "+---+--------+-------+\n",
      "|101|sohail  |1000   |\n",
      "+---+--------+-------+\n",
      "\n",
      "+---+--------+-------+\n",
      "|id |name,sal|country|\n",
      "+---+--------+-------+\n",
      "|101|sohail  |1000   |\n",
      "|104|Manas   |4000   |\n",
      "+---+--------+-------+\n",
      "\n",
      "+---+--------+-------+\n",
      "|id |name,sal|country|\n",
      "+---+--------+-------+\n",
      "|102|Saif    |2000   |\n",
      "|103|Mitali  |3000   |\n",
      "|104|Manas   |4000   |\n",
      "|105|Ram     |5000   |\n",
      "|106|Sam     |6000   |\n",
      "+---+--------+-------+\n",
      "\n"
     ]
    }
   ],
   "source": [
    "#AND\n",
    "df.filter((df.country == 1000) & (df.id == 101)).show(truncate=False)\n",
    "\n",
    "#OR\n",
    "df.filter((df.country == 1000) | (df.country == 4000)).show(truncate=False)\n",
    "\n",
    "#NOT \n",
    "df.filter(~(df.country == 1000)).show(truncate=False)"
   ]
  },
  {
   "cell_type": "markdown",
   "metadata": {},
   "source": [
    "###  Filter on an Array column"
   ]
  },
  {
   "cell_type": "code",
   "execution_count": 8,
   "metadata": {
    "scrolled": false
   },
   "outputs": [
    {
     "name": "stdout",
     "output_type": "stream",
     "text": [
      "root\n",
      " |-- dept: string (nullable = true)\n",
      " |-- deptno: long (nullable = true)\n",
      " |-- locationId's: array (nullable = true)\n",
      " |    |-- element: long (containsNull = true)\n",
      "\n",
      "+---------+------+--------------------+\n",
      "|dept     |deptno|locationId's        |\n",
      "+---------+------+--------------------+\n",
      "|Finance  |10    |[1, 2, 3, 4, 5]     |\n",
      "|Marketing|20    |[7, 6, 5, 4, 7]     |\n",
      "|Sales    |30    |[17, 26, 65, 84, 97]|\n",
      "|IT       |40    |[27, 36, 95, 64, 57]|\n",
      "+---------+------+--------------------+\n",
      "\n"
     ]
    }
   ],
   "source": [
    "dept = [(\"Finance\", 10, [1,2,3,4,5]),\n",
    "            (\"Marketing\", 20, [7,6,5,4,7]),\n",
    "            (\"Sales\", 30, [17,26,65,84,97]),\n",
    "            (\"IT\", 40, [27,36,95,64,57])]\n",
    "rdd = sc.parallelize(dept)\n",
    "df = rdd.toDF([\"dept\", \"deptno\", \"locationId's\"])\n",
    "df.printSchema()\n",
    "df.show(truncate=False) "
   ]
  },
  {
   "cell_type": "markdown",
   "metadata": {},
   "source": [
    "### array_contains()"
   ]
  },
  {
   "cell_type": "code",
   "execution_count": 9,
   "metadata": {},
   "outputs": [
    {
     "name": "stdout",
     "output_type": "stream",
     "text": [
      "+----+------+--------------------+\n",
      "|dept|deptno|locationId's        |\n",
      "+----+------+--------------------+\n",
      "|IT  |40    |[27, 36, 95, 64, 57]|\n",
      "+----+------+--------------------+\n",
      "\n"
     ]
    }
   ],
   "source": [
    "from pyspark.sql.functions import array_contains\n",
    "\n",
    "df.filter(array_contains(df[\"locationId's\"], 95)).show(truncate=False) "
   ]
  },
  {
   "cell_type": "markdown",
   "metadata": {},
   "source": [
    "### orderby ( ), sort ( )"
   ]
  },
  {
   "cell_type": "code",
   "execution_count": 10,
   "metadata": {},
   "outputs": [
    {
     "name": "stdout",
     "output_type": "stream",
     "text": [
      "+---------+------+--------------------+\n",
      "|dept     |deptno|locationId's        |\n",
      "+---------+------+--------------------+\n",
      "|Finance  |10    |[1, 2, 3, 4, 5]     |\n",
      "|Marketing|20    |[7, 6, 5, 4, 7]     |\n",
      "|Sales    |30    |[17, 26, 65, 84, 97]|\n",
      "|IT       |40    |[27, 36, 95, 64, 57]|\n",
      "+---------+------+--------------------+\n",
      "\n"
     ]
    }
   ],
   "source": [
    "\n",
    "df.orderBy(\"deptno\", \"dept\").show(truncate=False)\n",
    "# or \n",
    "# df.orderBy(col(\"deptno\"), col(\"dept\")).show(truncate=False) "
   ]
  },
  {
   "cell_type": "code",
   "execution_count": 11,
   "metadata": {},
   "outputs": [
    {
     "name": "stdout",
     "output_type": "stream",
     "text": [
      "+---------+------+--------------------+\n",
      "|dept     |deptno|locationId's        |\n",
      "+---------+------+--------------------+\n",
      "|Finance  |10    |[1, 2, 3, 4, 5]     |\n",
      "|Marketing|20    |[7, 6, 5, 4, 7]     |\n",
      "|Sales    |30    |[17, 26, 65, 84, 97]|\n",
      "|IT       |40    |[27, 36, 95, 64, 57]|\n",
      "+---------+------+--------------------+\n",
      "\n"
     ]
    }
   ],
   "source": [
    "df.sort(df.deptno.asc(), df.dept.desc()).show(truncate=False) "
   ]
  },
  {
   "cell_type": "markdown",
   "metadata": {},
   "source": [
    "### groupBy()"
   ]
  },
  {
   "cell_type": "code",
   "execution_count": 12,
   "metadata": {},
   "outputs": [
    {
     "data": {
      "text/plain": [
       "4"
      ]
     },
     "execution_count": 12,
     "metadata": {},
     "output_type": "execute_result"
    }
   ],
   "source": [
    "df.orderBy(\"deptno\").count()"
   ]
  },
  {
   "cell_type": "markdown",
   "metadata": {},
   "source": [
    "### withColumn()\n",
    "<p>PySpark withColumn ( ) is a transformation function of DataFrame which is used to\n",
    "change or update the value, convert the datatype of an existing DataFrame column,\n",
    "add/create a new column</p>"
   ]
  },
  {
   "cell_type": "code",
   "execution_count": 13,
   "metadata": {},
   "outputs": [
    {
     "name": "stdout",
     "output_type": "stream",
     "text": [
      "+---------+------+--------------------+------+\n",
      "|     dept|deptno|        locationId's|salary|\n",
      "+---------+------+--------------------+------+\n",
      "|  Finance|    10|     [1, 2, 3, 4, 5]|  1000|\n",
      "|Marketing|    20|     [7, 6, 5, 4, 7]|  2000|\n",
      "|    Sales|    30|[17, 26, 65, 84, 97]|  3000|\n",
      "|       IT|    40|[27, 36, 95, 64, 57]|  4000|\n",
      "+---------+------+--------------------+------+\n",
      "\n"
     ]
    }
   ],
   "source": [
    "df2 = df.withColumn(\"salary\", col(\"deptno\")*100) \n",
    "df2.show()"
   ]
  },
  {
   "cell_type": "markdown",
   "metadata": {},
   "source": []
  },
  {
   "cell_type": "markdown",
   "metadata": {},
   "source": [
    "### union(),\n",
    "### unionDF = df.union(df2)\n",
    "### unionDF.show(truncate=False) \n",
    "#### DF union ( ) method merges two DF and returns the new DF with all rows from two DF regardless of duplicate data\n",
    "----\n",
    "###  Merge without Duplicates\n",
    "#### disDF = df.union(df2).distinct()\n",
    "#### disDF.show(truncate=False)\n",
    "----\n",
    "### dropDuplicates()\n",
    "####  df.dropDuplicates()\n",
    "####   df.dropDuplicates([\"department\", \"salary\"])\n",
    "-----\n",
    "### drop\n",
    "#### drop_scol = df.drop(\"salary\")\n",
    "#### drop_mcol = df.drop(\"department\", \"salary\") \n",
    "-----"
   ]
  },
  {
   "cell_type": "markdown",
   "metadata": {},
   "source": [
    "## case – when – others"
   ]
  },
  {
   "cell_type": "markdown",
   "metadata": {},
   "source": [
    "#### Melwin its just like the case in the sql"
   ]
  },
  {
   "cell_type": "code",
   "execution_count": 16,
   "metadata": {},
   "outputs": [
    {
     "name": "stdout",
     "output_type": "stream",
     "text": [
      "+-----+-------+-------------+-----+\n",
      "|dept |cadre  |costToCompany|state|\n",
      "+-----+-------+-------------+-----+\n",
      "|Sales|Trainee|12000        |UK   |\n",
      "|Sales|Lead   |32000        |AUS  |\n",
      "|Sales|Lead   |32000        |NY   |\n",
      "|Sales|Lead   |32000        |IND  |\n",
      "|Sales|Lead   |32000        |AUS  |\n",
      "+-----+-------+-------------+-----+\n",
      "only showing top 5 rows\n",
      "\n"
     ]
    }
   ],
   "source": [
    "df = spark.read.format('csv')\\\n",
    "            .option('delimiter',',') \\\n",
    "            .option('header', 'True') \\\n",
    "            .option('inferSchema', 'True') \\\n",
    "            .load('C:\\\\Personal\\\\Projects\\\\Spark\\\\dataset\\\\sales.txt')\n",
    "df.show(5,truncate=False)"
   ]
  },
  {
   "cell_type": "code",
   "execution_count": 19,
   "metadata": {},
   "outputs": [
    {
     "name": "stdout",
     "output_type": "stream",
     "text": [
      "+-----+-------+-------------+-----+--------+\n",
      "|dept |cadre  |costToCompany|state|low_cost|\n",
      "+-----+-------+-------------+-----+--------+\n",
      "|Sales|Trainee|12000        |UK   |LOW     |\n",
      "|Sales|Lead   |32000        |AUS  |HIGH    |\n",
      "|Sales|Lead   |32000        |NY   |HIGH    |\n",
      "|Sales|Lead   |32000        |IND  |HIGH    |\n",
      "|Sales|Lead   |32000        |AUS  |HIGH    |\n",
      "+-----+-------+-------------+-----+--------+\n",
      "only showing top 5 rows\n",
      "\n"
     ]
    }
   ],
   "source": [
    "from pyspark.sql.functions import when\n",
    "\n",
    "df2 = df.withColumn(\"low_cost\",\n",
    "                   when(df.costToCompany == 12000,\"LOW\")\n",
    "                   .when(df.costToCompany >= 30000,\"HIGH\")\n",
    "                   .otherwise(\"Unknown\"))\n",
    "df2.show(5,truncate=False)"
   ]
  },
  {
   "cell_type": "markdown",
   "metadata": {},
   "source": [
    "#### expr()"
   ]
  },
  {
   "cell_type": "code",
   "execution_count": 22,
   "metadata": {},
   "outputs": [
    {
     "name": "stdout",
     "output_type": "stream",
     "text": [
      "+-----+-------+-------------+-----+--------+\n",
      "|dept |cadre  |costToCompany|state|low_cost|\n",
      "+-----+-------+-------------+-----+--------+\n",
      "|Sales|Trainee|12000        |UK   |LOW     |\n",
      "|Sales|Lead   |32000        |AUS  |HIGH    |\n",
      "|Sales|Lead   |32000        |NY   |HIGH    |\n",
      "|Sales|Lead   |32000        |IND  |HIGH    |\n",
      "|Sales|Lead   |32000        |AUS  |HIGH    |\n",
      "+-----+-------+-------------+-----+--------+\n",
      "only showing top 5 rows\n",
      "\n"
     ]
    }
   ],
   "source": [
    "# previous example\n",
    "from pyspark.sql.functions import expr\n",
    "\n",
    "df2 = df.withColumn(\"low_cost\",\n",
    "                    expr(\"\"\"\n",
    "                        case \n",
    "                            when costToCompany <= 12000 then 'LOW'\n",
    "                            when costToCompany >= 30000 then 'HIGH'\n",
    "                            else 'Unknown'\n",
    "                        end\n",
    "                    \"\"\"))\n",
    "df2.show(5,truncate=False)"
   ]
  },
  {
   "cell_type": "markdown",
   "metadata": {},
   "source": [
    "### Using & and | operator:\n",
    "<pre>\n",
    " Df = df.withColumn(\"New_Gender\",\n",
    " when((col(\"gender\") == \"M\" ) | (col(\"gender\") == \"F\"), \"Available\")\n",
    " .otherwise(\"Not Available\"))\n",
    " Df.show() \n",
    "</pre>"
   ]
  },
  {
   "cell_type": "markdown",
   "metadata": {},
   "source": [
    "### concat()\n",
    "<pre>\n",
    "df2=df.select(concat(\"fname\", lit (\",\"), \"mname\", lit (\",\"), \"lname\")\n",
    ".alias(\"FullName\"),\"dob_year\",\"gender\",\"salary\")\n",
    "df2.show(truncate=False)\n",
    "</pre>\n"
   ]
  },
  {
   "cell_type": "markdown",
   "metadata": {},
   "source": [
    "### concat_ws()\n",
    "<pre>\n",
    "df3 = df.select(concat_ws('_', col(\"fname\"), col(\"fname\"), col(\"lname\"))\n",
    " .alias(\"FullName\"), \"dob_year\", \"gender\", \"salary\")\n",
    " df3.show(truncate=False)\n",
    "</pre>"
   ]
  },
  {
   "cell_type": "code",
   "execution_count": null,
   "metadata": {},
   "outputs": [],
   "source": []
  }
 ],
 "metadata": {
  "kernelspec": {
   "display_name": "Python 3 (ipykernel)",
   "language": "python",
   "name": "python3"
  },
  "language_info": {
   "codemirror_mode": {
    "name": "ipython",
    "version": 3
   },
   "file_extension": ".py",
   "mimetype": "text/x-python",
   "name": "python",
   "nbconvert_exporter": "python",
   "pygments_lexer": "ipython3",
   "version": "3.9.7"
  }
 },
 "nbformat": 4,
 "nbformat_minor": 4
}
