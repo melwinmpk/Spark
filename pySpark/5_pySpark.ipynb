{
 "cells": [
  {
   "cell_type": "code",
   "execution_count": 2,
   "id": "40a56f50",
   "metadata": {},
   "outputs": [],
   "source": [
    "from pyspark import SparkConf\n",
    "from pyspark import SparkContext\n",
    "from pyspark.sql import SparkSession"
   ]
  },
  {
   "cell_type": "code",
   "execution_count": 3,
   "id": "daaa07ea",
   "metadata": {},
   "outputs": [],
   "source": [
    "sparkConf =  SparkConf().setAppName(\"Trying\").setMaster(\"local\")\n",
    "sc = SparkContext(conf=sparkConf)"
   ]
  },
  {
   "cell_type": "code",
   "execution_count": 4,
   "id": "56e8908c",
   "metadata": {},
   "outputs": [],
   "source": [
    "spark = SparkSession.builder\\\n",
    "        .appName('yettodecide')\\\n",
    "        .master('local')\\\n",
    "        .getOrCreate()"
   ]
  },
  {
   "cell_type": "markdown",
   "id": "ebfea502",
   "metadata": {},
   "source": [
    "### Date/Time Functions"
   ]
  },
  {
   "cell_type": "code",
   "execution_count": 3,
   "id": "d59057a1",
   "metadata": {},
   "outputs": [
    {
     "name": "stdout",
     "output_type": "stream",
     "text": [
      "+----------+----------+\n",
      "|  start_dt|    end_dt|\n",
      "+----------+----------+\n",
      "|2021-01-15|2021-02-15|\n",
      "+----------+----------+\n",
      "\n",
      "root\n",
      " |-- start_dt: string (nullable = true)\n",
      " |-- end_dt: string (nullable = true)\n",
      "\n"
     ]
    }
   ],
   "source": [
    "df_1 = spark.createDataFrame([('2021-01-15', '2021-02-15',)], ['start_dt', 'end_dt'])\n",
    "df_1.show()\n",
    "df_1.printSchema()"
   ]
  },
  {
   "cell_type": "code",
   "execution_count": 13,
   "id": "e7c63013",
   "metadata": {},
   "outputs": [
    {
     "name": "stdout",
     "output_type": "stream",
     "text": [
      "+----------+----------+----------+\n",
      "|  start_dt|    end_dt| dt_format|\n",
      "+----------+----------+----------+\n",
      "|2021-01-15|2021-02-15|15/01/2021|\n",
      "+----------+----------+----------+\n",
      "\n",
      "root\n",
      " |-- start_dt: string (nullable = true)\n",
      " |-- end_dt: string (nullable = true)\n",
      " |-- dt_format: string (nullable = true)\n",
      "\n"
     ]
    }
   ],
   "source": [
    "from pyspark.sql.functions import date_format\n",
    "\n",
    "df_2 = df_1.select(\"start_dt\", \"end_dt\", date_format(\"start_dt\",'dd/MM/yyyy').alias(\"dt_format\"))\n",
    "df_2.show()\n",
    "df_2.printSchema()"
   ]
  },
  {
   "cell_type": "code",
   "execution_count": 22,
   "id": "75306aec",
   "metadata": {
    "scrolled": true
   },
   "outputs": [
    {
     "name": "stdout",
     "output_type": "stream",
     "text": [
      "+----------+----------+----------+\n",
      "|  start_dt|    end_dt|    cur_dt|\n",
      "+----------+----------+----------+\n",
      "|2021-01-15|2021-02-15|2022-01-27|\n",
      "+----------+----------+----------+\n",
      "\n",
      "+----------+----------+----------+\n",
      "|  start_dt|    end_dt|add_2_days|\n",
      "+----------+----------+----------+\n",
      "|2021-01-15|2021-02-15|2021-01-17|\n",
      "+----------+----------+----------+\n",
      "\n",
      "+----------+----------+----------+\n",
      "|  start_dt|    end_dt|sub_2_days|\n",
      "+----------+----------+----------+\n",
      "|2021-01-15|2021-02-15|2021-01-13|\n",
      "+----------+----------+----------+\n",
      "\n",
      "+----------+----------+-----------+\n",
      "|  start_dt|    end_dt|sub_2_dates|\n",
      "+----------+----------+-----------+\n",
      "|2021-01-15|2021-02-15|         31|\n",
      "+----------+----------+-----------+\n",
      "\n",
      "+----------+----------+------------+\n",
      "|  start_dt|    end_dt|add_2_months|\n",
      "+----------+----------+------------+\n",
      "|2021-01-15|2021-02-15|  2021-03-15|\n",
      "+----------+----------+------------+\n",
      "\n",
      "+----------+----------+----------+\n",
      "|  start_dt|    end_dt| add_2_Yrs|\n",
      "+----------+----------+----------+\n",
      "|2021-01-15|2021-02-15|2023-01-15|\n",
      "+----------+----------+----------+\n",
      "\n"
     ]
    }
   ],
   "source": [
    "from pyspark.sql.functions import current_date, date_add , date_sub, datediff, add_months\n",
    "\n",
    "df_2.select(\"start_dt\", \"end_dt\", current_date().alias(\"cur_dt\")).show()\n",
    "df_2.select(\"start_dt\", \"end_dt\", date_add(\"start_dt\", 2).alias(\"add_2_days\")).show() \n",
    "df_2.select(\"start_dt\", \"end_dt\", date_sub(\"start_dt\", 2).alias(\"sub_2_days\")).show() \n",
    "df_2.select(\"start_dt\", \"end_dt\", datediff(\"end_dt\", \"start_dt\").alias(\"sub_2_dates\")).show()\n",
    "df_2.select(\"start_dt\", \"end_dt\", add_months(\"start_dt\", 2).alias(\"add_2_months\")).show()\n",
    "df_2.select(\"start_dt\", \"end_dt\", add_months(\"start_dt\", 2 * 12).alias(\"add_2_Yrs\")).show() "
   ]
  },
  {
   "cell_type": "code",
   "execution_count": 39,
   "id": "8fe17d36",
   "metadata": {},
   "outputs": [],
   "source": [
    "from pyspark.sql.functions import year, month, dayofmonth, weekofyear, dayofweek, dayofyear,last_day,months_between,next_day,quarter,trunc"
   ]
  },
  {
   "cell_type": "code",
   "execution_count": 25,
   "id": "e494b181",
   "metadata": {},
   "outputs": [
    {
     "name": "stdout",
     "output_type": "stream",
     "text": [
      "+----------+----------+----+-----+---+------------+-----------+-----------+\n",
      "|  start_dt|    end_dt|Year|Month|Day|Week_of_Year|Day_of_Week|Day_of_Year|\n",
      "+----------+----------+----+-----+---+------------+-----------+-----------+\n",
      "|2021-01-15|2021-02-15|2021|    1| 15|           2|          6|         15|\n",
      "+----------+----------+----+-----+---+------------+-----------+-----------+\n",
      "\n"
     ]
    }
   ],
   "source": [
    "df_2.select(\"start_dt\", \"end_dt\", year(\"start_dt\").alias(\"Year\")\n",
    " , month(\"start_dt\").alias(\"Month\")\n",
    " , dayofmonth(\"start_dt\").alias(\"Day\")\n",
    " , weekofyear(\"start_dt\").alias(\"Week_of_Year\")\n",
    " , dayofweek(\"start_dt\").alias(\"Day_of_Week\")\n",
    " , dayofyear(\"start_dt\").alias(\"Day_of_Year\")).show() "
   ]
  },
  {
   "cell_type": "code",
   "execution_count": 28,
   "id": "68dad5b3",
   "metadata": {},
   "outputs": [
    {
     "name": "stdout",
     "output_type": "stream",
     "text": [
      "+----------+----------+----------+\n",
      "|  start_dt|    end_dt|  Last_Day|\n",
      "+----------+----------+----------+\n",
      "|2021-01-15|2021-02-15|2021-01-31|\n",
      "+----------+----------+----------+\n",
      "\n"
     ]
    }
   ],
   "source": [
    "df_2.select(\"start_dt\", \"end_dt\", last_day(\"start_dt\").alias(\"Last_Day\")).show() "
   ]
  },
  {
   "cell_type": "code",
   "execution_count": 31,
   "id": "0a58200a",
   "metadata": {},
   "outputs": [
    {
     "name": "stdout",
     "output_type": "stream",
     "text": [
      "+----------+----------+------------+\n",
      "|  start_dt|    end_dt|Months_Betwn|\n",
      "+----------+----------+------------+\n",
      "|2021-01-15|2021-02-15|         1.0|\n",
      "+----------+----------+------------+\n",
      "\n"
     ]
    }
   ],
   "source": [
    "df_2.select(\"start_dt\", \"end_dt\",\n",
    " months_between(\"end_dt\", \"start_dt\").alias(\"Months_Betwn\")).show()"
   ]
  },
  {
   "cell_type": "code",
   "execution_count": 34,
   "id": "7f9744e1",
   "metadata": {},
   "outputs": [
    {
     "name": "stdout",
     "output_type": "stream",
     "text": [
      "+----------+----------+-----------+\n",
      "|  start_dt|    end_dt|Next_Monday|\n",
      "+----------+----------+-----------+\n",
      "|2021-01-15|2021-02-15| 2021-01-18|\n",
      "+----------+----------+-----------+\n",
      "\n"
     ]
    }
   ],
   "source": [
    "df_2.select(\"start_dt\", \"end_dt\", next_day(\"start_dt\", \"Mon\").alias(\"Next_Monday\")).show()"
   ]
  },
  {
   "cell_type": "code",
   "execution_count": 37,
   "id": "504a8895",
   "metadata": {},
   "outputs": [
    {
     "name": "stdout",
     "output_type": "stream",
     "text": [
      "+----------+----------+---------------+\n",
      "|  start_dt|    end_dt|Quarter_of_Year|\n",
      "+----------+----------+---------------+\n",
      "|2021-01-15|2021-02-15|              1|\n",
      "+----------+----------+---------------+\n",
      "\n"
     ]
    }
   ],
   "source": [
    "df_2.select(\"start_dt\", \"end_dt\", quarter(\"start_dt\").alias(\"Quarter_of_Year\")).show() "
   ]
  },
  {
   "cell_type": "code",
   "execution_count": 40,
   "id": "d1b84711",
   "metadata": {},
   "outputs": [
    {
     "name": "stdout",
     "output_type": "stream",
     "text": [
      "+----------+----------+----------+-----------+\n",
      "|  start_dt|    end_dt|Trunc_Year|Trunc_Month|\n",
      "+----------+----------+----------+-----------+\n",
      "|2021-01-15|2021-02-15|2021-01-01| 2021-02-01|\n",
      "+----------+----------+----------+-----------+\n",
      "\n"
     ]
    }
   ],
   "source": [
    " ### Truncate Date to Year, Month\n",
    "df_2.select(\"start_dt\", \"end_dt\", trunc(\"start_dt\", \"year\").alias(\"Trunc_Year\"),\n",
    "trunc(\"end_dt\", \"month\").alias(\"Trunc_Month\")).show()    "
   ]
  },
  {
   "cell_type": "markdown",
   "id": "27dca9d4",
   "metadata": {},
   "source": [
    "## Aggregate Functions"
   ]
  },
  {
   "cell_type": "code",
   "execution_count": 42,
   "id": "b68463a3",
   "metadata": {},
   "outputs": [
    {
     "data": {
      "text/plain": [
       "[Row(start_dt='2021-01-15')]"
      ]
     },
     "execution_count": 42,
     "metadata": {},
     "output_type": "execute_result"
    }
   ],
   "source": [
    "df_2.select(df_2[\"start_dt\"]).collect()"
   ]
  },
  {
   "cell_type": "markdown",
   "id": "19859895",
   "metadata": {},
   "source": [
    "#### approx_count_distinct()\n",
    " function returns the count of distinct items in a group<br>\n",
    "approxDistinctCount = agg_df.select(approx_count_distinct(\"salary\")) <br>\n",
    "approxDistinctCount.show() "
   ]
  },
  {
   "cell_type": "markdown",
   "id": "74283adc",
   "metadata": {},
   "source": [
    "#### avg (average)\n",
    "avgSal = agg_df.select(avg(\"salary\"))  #  sum, min, max <br>\n",
    "avgSal.show() "
   ]
  },
  {
   "cell_type": "markdown",
   "id": "3c0ba202",
   "metadata": {},
   "source": [
    "### collect_list\n",
    "function returns all values from an input column with duplicates <br>\n",
    "agg_df.select(collect_list(\"salary\")).show(truncate=False)  <br>\n",
    "\n",
    "----\n",
    "\n",
    "### collect_set\n",
    "collect_set ( ) function returns all values from an input column with NO duplicate\n",
    "values.<br>\n",
    "\n",
    "agg_df.select(collect_set(\"salary\")).show(truncate=False) \n",
    "\n",
    "----\n",
    "\n",
    "### countDistinct\n",
    "countDistinct ( ) function returns the number of distinct elements in a columns. \n",
    "\n",
    "df2 = agg_df.select(countDistinct(\"department\", \"salary\"))\n",
    "df2.show(truncate=False) \n",
    "\n",
    "----\n",
    "\n",
    "### count\n",
    "cnt = agg_df.count()<br>\n",
    "print(cnt) \n",
    "\n",
    "----\n",
    "\n",
    "###  first/last\n",
    "\n",
    "\n",
    "agg_df.select(first(\"salary\")).show(truncate=False)<br>\n",
    "agg_df.select(last(\"salary\")).show(truncate=False) \n",
    "\n",
    "----\n",
    "\n",
    "### sumDistinct\n",
    "\n",
    "agg_df.select(sumDistinct(\"salary\")).show(truncate=False)\n",
    "\n",
    "\n"
   ]
  },
  {
   "cell_type": "markdown",
   "id": "15b44c8f",
   "metadata": {},
   "source": [
    "## Windows Function\n",
    "\n",
    "<ul>\n",
    "    <li>ranking functions</li>\n",
    "    <li>analytic functions</li>\n",
    "    <li>aggregate functions</li>\n",
    "</ul>"
   ]
  },
  {
   "cell_type": "markdown",
   "id": "6d19b927",
   "metadata": {},
   "source": [
    "<pre>\n",
    "    windowSpec = Window.partitionBy(\"department\").orderBy(\"salary\") \n",
    "</pre>"
   ]
  },
  {
   "cell_type": "code",
   "execution_count": 19,
   "id": "23502e90",
   "metadata": {},
   "outputs": [
    {
     "name": "stdout",
     "output_type": "stream",
     "text": [
      "root\n",
      " |-- employee_name: string (nullable = true)\n",
      " |-- department: string (nullable = true)\n",
      " |-- salary: long (nullable = true)\n",
      "\n",
      "+-------------+----------+------+\n",
      "|employee_name|department|salary|\n",
      "+-------------+----------+------+\n",
      "|James        |Sales     |3000  |\n",
      "|Michael      |Sales     |4600  |\n",
      "|Robert       |Sales     |4100  |\n",
      "|Maria        |Finance   |3000  |\n",
      "|James        |Sales     |3000  |\n",
      "|Scott        |Finance   |3300  |\n",
      "|Jen          |Finance   |3900  |\n",
      "|Jeff         |Marketing |3000  |\n",
      "|Kumar        |Marketing |2000  |\n",
      "|Saif         |Sales     |4100  |\n",
      "+-------------+----------+------+\n",
      "\n"
     ]
    }
   ],
   "source": [
    "simpleData = ((\"James\", \"Sales\", 3000), \\\n",
    "    (\"Michael\", \"Sales\", 4600),  \\\n",
    "    (\"Robert\", \"Sales\", 4100),   \\\n",
    "    (\"Maria\", \"Finance\", 3000),  \\\n",
    "    (\"James\", \"Sales\", 3000),    \\\n",
    "    (\"Scott\", \"Finance\", 3300),  \\\n",
    "    (\"Jen\", \"Finance\", 3900),    \\\n",
    "    (\"Jeff\", \"Marketing\", 3000), \\\n",
    "    (\"Kumar\", \"Marketing\", 2000),\\\n",
    "    (\"Saif\", \"Sales\", 4100) \\\n",
    "  )\n",
    " \n",
    "columns= [\"employee_name\", \"department\", \"salary\"]\n",
    "df = spark.createDataFrame(data = simpleData, schema = columns)\n",
    "df.printSchema()\n",
    "df.show(truncate=False)"
   ]
  },
  {
   "cell_type": "code",
   "execution_count": 22,
   "id": "94023d72",
   "metadata": {},
   "outputs": [],
   "source": [
    "from pyspark.sql.window import Window\n",
    "\n",
    "windowSpec = Window.partitionBy(\"department\").orderBy(\"salary\")"
   ]
  },
  {
   "cell_type": "code",
   "execution_count": 23,
   "id": "c72d97d4",
   "metadata": {},
   "outputs": [
    {
     "name": "stdout",
     "output_type": "stream",
     "text": [
      "+-------------+----------+------+----------+\n",
      "|employee_name|department|salary|row_number|\n",
      "+-------------+----------+------+----------+\n",
      "|James        |Sales     |3000  |1         |\n",
      "|James        |Sales     |3000  |2         |\n",
      "|Robert       |Sales     |4100  |3         |\n",
      "|Saif         |Sales     |4100  |4         |\n",
      "|Michael      |Sales     |4600  |5         |\n",
      "|Maria        |Finance   |3000  |1         |\n",
      "|Scott        |Finance   |3300  |2         |\n",
      "|Jen          |Finance   |3900  |3         |\n",
      "|Kumar        |Marketing |2000  |1         |\n",
      "|Jeff         |Marketing |3000  |2         |\n",
      "+-------------+----------+------+----------+\n",
      "\n"
     ]
    }
   ],
   "source": [
    "# row_number\n",
    "\n",
    "from pyspark.sql.functions import row_number\n",
    "\n",
    "df.withColumn(\"row_number\", row_number().over(windowSpec)).show(truncate=False) "
   ]
  },
  {
   "cell_type": "code",
   "execution_count": 26,
   "id": "52f9ce62",
   "metadata": {},
   "outputs": [
    {
     "name": "stdout",
     "output_type": "stream",
     "text": [
      "+-------------+----------+------+----+\n",
      "|employee_name|department|salary|rank|\n",
      "+-------------+----------+------+----+\n",
      "|        James|     Sales|  3000|   1|\n",
      "|        James|     Sales|  3000|   1|\n",
      "|       Robert|     Sales|  4100|   3|\n",
      "|         Saif|     Sales|  4100|   3|\n",
      "|      Michael|     Sales|  4600|   5|\n",
      "|        Maria|   Finance|  3000|   1|\n",
      "|        Scott|   Finance|  3300|   2|\n",
      "|          Jen|   Finance|  3900|   3|\n",
      "|        Kumar| Marketing|  2000|   1|\n",
      "|         Jeff| Marketing|  3000|   2|\n",
      "+-------------+----------+------+----+\n",
      "\n"
     ]
    }
   ],
   "source": [
    "# rank\n",
    "from pyspark.sql.functions import rank\n",
    "\n",
    "df.withColumn(\"rank\", rank().over(windowSpec)).show()"
   ]
  },
  {
   "cell_type": "code",
   "execution_count": 28,
   "id": "6f9a67fb",
   "metadata": {},
   "outputs": [
    {
     "name": "stdout",
     "output_type": "stream",
     "text": [
      "+-------------+----------+------+----------+\n",
      "|employee_name|department|salary|dense_rank|\n",
      "+-------------+----------+------+----------+\n",
      "|        James|     Sales|  3000|         1|\n",
      "|        James|     Sales|  3000|         1|\n",
      "|       Robert|     Sales|  4100|         2|\n",
      "|         Saif|     Sales|  4100|         2|\n",
      "|      Michael|     Sales|  4600|         3|\n",
      "|        Maria|   Finance|  3000|         1|\n",
      "|        Scott|   Finance|  3300|         2|\n",
      "|          Jen|   Finance|  3900|         3|\n",
      "|        Kumar| Marketing|  2000|         1|\n",
      "|         Jeff| Marketing|  3000|         2|\n",
      "+-------------+----------+------+----------+\n",
      "\n"
     ]
    }
   ],
   "source": [
    "# dense_rank\n",
    "from pyspark.sql.functions import dense_rank\n",
    "\n",
    "df.withColumn(\"dense_rank\", dense_rank().over(windowSpec)).show()"
   ]
  },
  {
   "cell_type": "code",
   "execution_count": 29,
   "id": "6218c53a",
   "metadata": {},
   "outputs": [
    {
     "name": "stdout",
     "output_type": "stream",
     "text": [
      "+-------------+----------+------+-----+\n",
      "|employee_name|department|salary|ntile|\n",
      "+-------------+----------+------+-----+\n",
      "|        James|     Sales|  3000|    1|\n",
      "|        James|     Sales|  3000|    1|\n",
      "|       Robert|     Sales|  4100|    1|\n",
      "|         Saif|     Sales|  4100|    2|\n",
      "|      Michael|     Sales|  4600|    2|\n",
      "|        Maria|   Finance|  3000|    1|\n",
      "|        Scott|   Finance|  3300|    1|\n",
      "|          Jen|   Finance|  3900|    2|\n",
      "|        Kumar| Marketing|  2000|    1|\n",
      "|         Jeff| Marketing|  3000|    2|\n",
      "+-------------+----------+------+-----+\n",
      "\n"
     ]
    }
   ],
   "source": [
    "# ntile\n",
    "from pyspark.sql.functions import ntile\n",
    "\n",
    "\n",
    "df.withColumn(\"ntile\", ntile(2).over(windowSpec)).show()"
   ]
  },
  {
   "cell_type": "code",
   "execution_count": 31,
   "id": "49b5658c",
   "metadata": {},
   "outputs": [
    {
     "name": "stdout",
     "output_type": "stream",
     "text": [
      "+-------------+----------+------+----+\n",
      "|employee_name|department|salary| lag|\n",
      "+-------------+----------+------+----+\n",
      "|        James|     Sales|  3000|null|\n",
      "|        James|     Sales|  3000|null|\n",
      "|       Robert|     Sales|  4100|3000|\n",
      "|         Saif|     Sales|  4100|3000|\n",
      "|      Michael|     Sales|  4600|4100|\n",
      "|        Maria|   Finance|  3000|null|\n",
      "|        Scott|   Finance|  3300|null|\n",
      "|          Jen|   Finance|  3900|3000|\n",
      "|        Kumar| Marketing|  2000|null|\n",
      "|         Jeff| Marketing|  3000|null|\n",
      "+-------------+----------+------+----+\n",
      "\n",
      "+-------------+----------+------+----+\n",
      "|employee_name|department|salary|lead|\n",
      "+-------------+----------+------+----+\n",
      "|        James|     Sales|  3000|4100|\n",
      "|        James|     Sales|  3000|4100|\n",
      "|       Robert|     Sales|  4100|4600|\n",
      "|         Saif|     Sales|  4100|null|\n",
      "|      Michael|     Sales|  4600|null|\n",
      "|        Maria|   Finance|  3000|3900|\n",
      "|        Scott|   Finance|  3300|null|\n",
      "|          Jen|   Finance|  3900|null|\n",
      "|        Kumar| Marketing|  2000|null|\n",
      "|         Jeff| Marketing|  3000|null|\n",
      "+-------------+----------+------+----+\n",
      "\n"
     ]
    }
   ],
   "source": [
    "#lag\n",
    "from pyspark.sql.functions import lag,lead\n",
    "\n",
    "df.withColumn(\"lag\", lag(\"salary\", 2).over(windowSpec)).show()\n",
    "df.withColumn(\"lead\", lead(\"salary\", 2).over(windowSpec)).show()"
   ]
  },
  {
   "cell_type": "markdown",
   "id": "0b8cb3cd",
   "metadata": {},
   "source": [
    "## Window Aggregate Functions"
   ]
  },
  {
   "cell_type": "code",
   "execution_count": 36,
   "id": "52f2d57b",
   "metadata": {},
   "outputs": [
    {
     "name": "stdout",
     "output_type": "stream",
     "text": [
      "+----------+------+-----+----+----+\n",
      "|department|   avg|  sum| min| max|\n",
      "+----------+------+-----+----+----+\n",
      "|     Sales|3760.0|18800|3000|4600|\n",
      "|   Finance|3400.0|10200|3000|3900|\n",
      "| Marketing|2500.0| 5000|2000|3000|\n",
      "+----------+------+-----+----+----+\n",
      "\n"
     ]
    }
   ],
   "source": [
    "from pyspark.sql.window import Window\n",
    "from pyspark.sql.functions import avg,col,sum,min,max\n",
    "\n",
    "windowSpecAgg = Window.partitionBy(\"department\")\n",
    "\n",
    "df.withColumn(\"row\", row_number().over(windowSpec)) \\\n",
    " .withColumn(\"avg\", avg(col(\"salary\")).over(windowSpecAgg)) \\\n",
    " .withColumn(\"sum\", sum(col(\"salary\")).over(windowSpecAgg)) \\\n",
    " .withColumn(\"min\", min(col(\"salary\")).over(windowSpecAgg)) \\\n",
    " .withColumn(\"max\", max(col(\"salary\")).over(windowSpecAgg)) \\\n",
    " .where(col(\"row\") == 1).select(\"department\", \"avg\", \"sum\", \"min\", \"max\") \\\n",
    " .show() "
   ]
  },
  {
   "cell_type": "code",
   "execution_count": 38,
   "id": "5b1a3461",
   "metadata": {},
   "outputs": [],
   "source": [
    "lst = ['a','b','c','d','e','f','g','h']"
   ]
  },
  {
   "cell_type": "code",
   "execution_count": 39,
   "id": "8403df65",
   "metadata": {},
   "outputs": [
    {
     "data": {
      "text/plain": [
       "6720"
      ]
     },
     "execution_count": 39,
     "metadata": {},
     "output_type": "execute_result"
    }
   ],
   "source": [
    "8*7*6*5*4\n",
    "\n"
   ]
  },
  {
   "cell_type": "code",
   "execution_count": 40,
   "id": "ae43fcc5",
   "metadata": {},
   "outputs": [],
   "source": []
  },
  {
   "cell_type": "code",
   "execution_count": 57,
   "id": "f1e6ad23",
   "metadata": {},
   "outputs": [
    {
     "name": "stdout",
     "output_type": "stream",
     "text": [
      "['fbhce', 'hgedf', 'chgde', 'facgd', 'fcdha', 'cgafd', 'cadfg', 'cegbh', 'gdbfe', 'cbhfe', 'dcgha', 'aehgb', 'gbcfd', 'cbdge', 'ehafc', 'gdbce', 'fdhag', 'cefab', 'dgfhc', 'fcbed', 'fcbgd', 'fcaeg', 'gfedc', 'abhfg', 'cegfa', 'gaefd', 'cdfbh', 'adcbf', 'dgafc', 'gabfe', 'decbg', 'ehfda', 'ecfdg', 'caebh', 'cegda', 'dceab', 'dgfha', 'gaheb', 'faebg', 'hbfec', 'bhegf', 'abfde', 'chdfe', 'cdafh', 'cefbd', 'gaebh', 'hdgab', 'fhaeg', 'cahge', 'hbcef', 'fhcgd', 'deahc', 'febcd', 'ebhgf', 'edgfb', 'gfaeb', 'gbdec', 'efcgb', 'gaehf', 'dacfg', 'gchfa', 'hdabg', 'fhacd', 'hcaed', 'fcdhe', 'ahgec', 'dfcga', 'fbged', 'dhfga', 'dgcae', 'bfdec', 'gfheb', 'gdhfa', 'fbdeg', 'egdcb', 'cfdge', 'fehda', 'edacb', 'fechb', 'ecahf', 'fgbhc', 'fadhc', 'hacbf', 'fdhga', 'egahb', 'dcabf', 'egfhd', 'fedga', 'cfheg', 'bhecd', 'cebgh', 'dhgeb', 'afceb', 'gefbd', 'defbh', 'eafgb', 'hdfga', 'fghbd', 'abfec', 'hcgbd', 'degbf', 'dhaeg', 'eagfc', 'fbhgc', 'faebh', 'hbecg', 'fgcab', 'ehgfa', 'defhg', 'bghfd', 'hegfc', 'dcgfh', 'afhec', 'bhfce', 'fhcad', 'afdeg', 'dahec', 'ghace', 'cadeg', 'cgdhb', 'fedab', 'fcdbg', 'gaedh', 'ehfac', 'efach', 'hfgce', 'fhadb', 'hacde', 'ahebf', 'beghf', 'edfhc', 'ehdcb', 'behfc', 'acbfe', 'bcehd', 'defgb', 'ecbfh', 'cdagh', 'decfh', 'ahcgf', 'ahgde', 'egafc', 'ecdhg', 'bfhde', 'heacg', 'adgbc', 'hacgb', 'cdgfa', 'gebcd', 'gdbcf', 'cfbge', 'dcgef', 'eachb', 'edfcb', 'eghad', 'hedcb', 'cbhgd', 'gdbec', 'dbhcg', 'fbgce', 'fgeha', 'adhec', 'fedac', 'gehdc', 'fechg', 'fgdbh', 'bdhce', 'fdbeg', 'faehb', 'gcaef', 'gfcea', 'cfbhg', 'dfbcg', 'fecah', 'chgdb', 'gebfc', 'fdbhe', 'haegb', 'efdbh', 'bhfcd', 'fcgbd', 'fcahd', 'defbc', 'dfahc', 'cgebf', 'hfacb', 'cehda', 'fbhed', 'ehdcf', 'dbhgf', 'adfeg', 'hfcdg', 'afegh', 'befgc', 'ebfhg', 'hdebg', 'adhcb', 'degac', 'dhcfg', 'edhfa', 'egfah', 'fdceg', 'gaech', 'hefdg', 'dhefg', 'cadhe', 'cehfb', 'bcehf', 'cfghe', 'bgehc', 'febcg', 'hbdce', 'dfgha', 'gfchb', 'gbhce', 'hdafg', 'dehca', 'eahdf', 'geacf', 'fghec', 'abgfh', 'hacdf', 'eagbh', 'fhega', 'gdeah', 'gfdhe', 'efdgb', 'dcgeh', 'fadcg', 'gecdb', 'cadhf', 'degbc', 'dfbhe', 'gfcae', 'fabgh', 'dhfea', 'aebgc', 'bgfhe', 'dcgbe', 'cdgef', 'ehgfb', 'hgfde', 'cefah', 'gdhca', 'dafeg', 'haefb', 'hedcg', 'gdceb', 'egfch', 'aefhc', 'bfchg', 'gcadh', 'dagbh', 'aegcf', 'begfd', 'gehfb', 'hgefa', 'fhbdg', 'afchd', 'dcbhe', 'chbgd', 'abcdh', 'gabfh', 'afehc', 'daech', 'eghfd', 'ahdgb', 'hgdeb', 'daghc', 'dgcbf', 'cghed', 'aegdc', 'ehdaf', 'efabh', 'fchgd', 'fahed', 'bedhc', 'afecg', 'cgahe', 'ghecd', 'eahbg', 'cebdg', 'cghab', 'aecfg', 'cedga', 'fgdah', 'cadbf', 'cafhg', 'eacfh', 'dgfca', 'gacfb', 'fhgec', 'cgefb', 'hfceb', 'caedf', 'hdcge', 'dcgea', 'bcfdh', 'cafbd', 'dghbf', 'gdfeb', 'cdbge', 'dfghb', 'dhgae', 'bhdfe', 'bdecf', 'edgfa', 'fdbhg', 'gebch', 'ecafg', 'edhcf', 'eghbc', 'dgfac', 'fdheg', 'fgbhe', 'adgeb', 'dbhec', 'bcedf', 'befhg', 'edgha', 'ghbdc', 'fgace', 'fadec', 'dgaec', 'acdbf', 'dhfce', 'agehf', 'cgade', 'egacd', 'hcedb', 'gacfd', 'gdcab', 'cadgf', 'gadfh', 'debhf', 'ebcdg', 'daebg', 'haedb', 'eahdc', 'afhdg', 'feacd', 'gfeha', 'bdgch', 'gfadb', 'cfead', 'egacf', 'ghcaf', 'hbfeg', 'eaghd', 'adefc', 'adehc', 'ahbgd', 'echfa', 'cbfed', 'begch', 'fdcbg', 'hdcbg', 'debcg', 'hfabc', 'dbfgc', 'dgcah', 'gcbef', 'agbch', 'chgaf', 'gfbch', 'hfdcb', 'hfacg', 'fcdbe', 'cdfge', 'egdca', 'gahde', 'cabdh', 'hfaeg', 'gceha', 'hdcfe', 'gdbhe', 'hfdge', 'deghb', 'ehgbc', 'dhfeb', 'gfdae', 'adbgc', 'dfgbh', 'dhfab', 'dchag', 'fcdge', 'ahecf', 'gcedb', 'ecdab', 'dagcf', 'acfdh', 'bdegh', 'fgdbc', 'acdfb', 'dache', 'fhged', 'achfd', 'fcgdh', 'acedg', 'fehbc', 'chaed', 'dhaef', 'gfhab', 'agchd', 'hfdab', 'ghcdb', 'edhga', 'hdebc', 'ehfgd', 'gefcb', 'dhgbc', 'hdegc', 'fcgad', 'bdefh', 'cadbe', 'gefbc', 'hgade', 'hacbe', 'hefbc', 'begdc', 'gfech', 'caegb', 'gadcb', 'adcbg', 'fcegb', 'bfcgh', 'hgfda', 'gecdf', 'afgbc', 'hefbd', 'cfhad', 'bdefc', 'dhcef', 'fbchg', 'dhega', 'aebhg', 'dhgab', 'aegbd', 'ebhcd', 'fgedc', 'bcedh', 'dachg', 'cbheg', 'hdebf', 'daceg', 'eacdg', 'hfceg', 'befhd', 'bgefc', 'fehbg', 'ehdga', 'hcbdg', 'dhfbc', 'agehc', 'fgchd', 'cfged', 'bfgch', 'gfach', 'dfheb', 'egcdf', 'chgda', 'eadhc', 'bhegd', 'cabeh', 'hcbeg', 'fhgeb', 'bhgde', 'bcgfh', 'aegbc', 'bhdef', 'ehcad', 'ahcbf', 'fgebh', 'adfcb', 'abfgd', 'adcbh', 'ghfad', 'dgcfa', 'dghfb', 'efdcb', 'bcdhf', 'defgc', 'hdcfb', 'gabhd', 'gfbcd', 'cebhg', 'abfgc', 'dagfe', 'echad', 'hadgc', 'acbed', 'ghdcf', 'bghec', 'ahceb', 'dhgec', 'dbfeg', 'bhgce', 'fdhbe', 'edcfg', 'fgdha', 'edcaf', 'behdg', 'afcbg', 'hgbed', 'acbhd', 'efbcg', 'aegfh', 'bdfcg', 'dhecf', 'hfgdc', 'efbhd', 'abhge', 'hbefg', 'efadh', 'acbgh', 'gehbf', 'gcbed', 'ecgad', 'dcegb', 'abdcf', 'aghfd', 'ahdcf', 'fgahe', 'acdge', 'hfeag', 'dghae', 'cghbe', 'hebdf', 'dghef', 'hdefc', 'adhbe', 'fhgde', 'bechf', 'degfh', 'behgd', 'hfgdb', 'caehd', 'dgbfh', 'fecdg', 'dhcfb', 'cfbgh', 'ghacd', 'bcedg', 'gedch', 'dhgaf', 'fbcgh', 'gcabf', 'hgeaf', 'cdgfh', 'dbgfe', 'hedbf', 'dcfab', 'dghab', 'fehdg', 'gfbhc', 'bdfgc', 'fdagb', 'cbghd', 'gadeh', 'fghde', 'aehgf', 'defag', 'egabc', 'dcfha', 'fgced', 'cdfeb', 'fegdb', 'hegcd', 'dagfc', 'acghb', 'fhbcd', 'cedhf', 'gacdb', 'cdbeh', 'geadb', 'hgfca', 'fabhd', 'daehc', 'abdfg', 'hdacb', 'cegad', 'chfea', 'ehcfb', 'hbdcf', 'egadb', 'deafc', 'acdeb', 'dehfb', 'adcbe', 'ghefa', 'dehbf', 'hegca', 'ebcdh', 'bfhgd', 'hdfcb', 'ahedg', 'defha', 'dfbce', 'hdcga', 'eagfh', 'efcbh', 'heagb', 'cbdhf', 'acdhe', 'dfceh', 'edfgc', 'febhg', 'efhbg', 'bfhge', 'ahgcb', 'aefhd', 'hgefd', 'gadhb', 'fhegd', 'ehadb', 'dacef', 'achfe', 'fdegh', 'fegda', 'cgdaf', 'bdgce', 'fegha', 'adgeh', 'fchag', 'ghadb', 'bedhg', 'gdhbe', 'eghab', 'bfehc', 'ghfed', 'cabfg', 'cbefd', 'ghcda', 'dafbc', 'fdgce', 'dgacf', 'hgfea', 'fgdae', 'fghce', 'fchde', 'gdeca', 'fdcha', 'fbdec', 'cefga', 'hfeda', 'cadbh', 'gcebf', 'fgdcb', 'gabhf', 'bhcdf', 'ebdcg', 'caegf', 'dbceh', 'gbcef', 'gadce', 'gcafd', 'hdaeg', 'dhbge', 'bcgeh', 'gfdab', 'chdgf', 'dfhab', 'dfcea', 'gfaec', 'gfahd', 'haceg', 'dfgca', 'egfbd', 'dfbec', 'abfhg', 'faceg', 'efcab', 'dghaf', 'ahdcb', 'gcdhb', 'aedgh', 'cahdb', 'chgdf', 'gdcbh', 'agdch', 'bgfce', 'adhfg', 'adebf', 'gfhbd', 'fdche', 'fdahc', 'bhfeg', 'edahc', 'edhbg', 'cehbf', 'cfage', 'dfcah', 'dfcbh', 'gbfdc', 'fdcab', 'gdebh', 'ghecb', 'dcbgh', 'ebhdc', 'agdfe', 'cfbdh', 'gacbd', 'ceabh', 'hbgce', 'eabgd', 'fcgab', 'fdacg', 'abfhe', 'agcfh', 'fcdag', 'ecfdb', 'dfhgb', 'ghabc', 'bhdce', 'ahbgc', 'dehbg', 'gfadc', 'dahbf', 'gcfbh', 'gfhad', 'dagbc', 'dcgab', 'ahedb', 'hcabd', 'agdfh', 'cbhfd', 'fegab', 'cabde', 'fedhc', 'gcfda', 'egchf', 'bechg', 'edbch', 'bdehf', 'aebdc', 'gabfc', 'ahbce', 'abdgc', 'daheb', 'aefcb', 'ahfce', 'hface', 'edbhg', 'cfdha', 'dhebc', 'fdhec', 'eafhc', 'fcaeh', 'ghafd', 'dcbfg', 'aebdg', 'daefg', 'fabhe', 'afebd', 'gachb', 'adfch', 'efdac', 'agfdh', 'fdeac', 'cbfdg', 'fdage', 'eafhb', 'fbgdc', 'gbfde', 'hegfa', 'fecbd', 'ghaed', 'egdfa', 'ached', 'aegfc', 'aghcb', 'dafhc', 'defhb', 'fehdb', 'hgefb', 'efhbd', 'efadc', 'fcehd', 'cahbe', 'ecdbg', 'chdea', 'agcdf', 'abfed', 'hgdac', 'dfeca', 'eghfb', 'headb', 'adfhe', 'fhbeg', 'ghdca', 'caegd', 'aehcf', 'headc', 'aeghc', 'ebhfd', 'eahdg', 'hdfeg', 'bedgh', 'fcgeh', 'gchdb', 'hecag', 'bdgeh', 'gfbhd', 'bhedf', 'fdhcg', 'geahc', 'dcheb', 'edgbh', 'ebgcd', 'fedcg', 'hdeca', 'efahc', 'afehg', 'hacgd', 'cdbef', 'acehd', 'cfgeh', 'edhca', 'cahdf', 'hcgdf', 'gedab', 'hegbd', 'fhgce', 'ghdfa', 'cdafb', 'cheab', 'fadhe', 'dbcfh', 'hafed', 'feghd', 'hafce', 'cdfea', 'aedhg', 'ghdaf', 'hbcdf', 'bgcde', 'fbcdg', 'cagde', 'gecbh', 'ghbfd', 'adhbg', 'eafcb', 'degcf', 'fbdhc', 'hcaeb', 'heacd', 'bdhfe', 'gaecb', 'ahgcd', 'gcahb', 'adbeg', 'hgceb', 'cdbhf', 'cgbdh', 'dgafh', 'cdfeh', 'efghd', 'cgaef', 'edagh', 'edhbf', 'eafgd', 'dfabe', 'dchfb', 'gebdh', 'ahefd', 'dahbe', 'dgabf', 'dcaeb', 'febdh', 'chdag', 'gafec', 'fbcde', 'abfce', 'adebh', 'befcd', 'fcadb', 'ghcad', 'ghaec', 'acfbg', 'gefbh', 'acfed', 'fhcbe', 'cabhg', 'hcefb', 'bcdef', 'ecadb', 'befdg', 'haecd', 'fbegc', 'cdehb', 'aghde', 'gabde', 'bghfe', 'fbecg', 'efagd', 'habcg', 'abchg', 'gadec', 'edcgb', 'aefch', 'gecfd', 'chgab', 'fcbdh', 'hcaef', 'fgceb', 'gecfh', 'ebfcg', 'gahfe', 'cbfgh', 'hefbg', 'cfagd', 'acebh', 'afhgd', 'cgbed', 'hadcf', 'dgbhc', 'adcgb', 'dbfce', 'hcfae', 'fheda', 'dehab', 'agchf', 'fehca', 'eadhb', 'gehcb', 'agbdc', 'gfehb', 'cfehd', 'cdega', 'edfha', 'afdcb', 'eahfg', 'haecf', 'ehfcg', 'ghbfe', 'dfcgh', 'dageh', 'fagdh', 'fabeg', 'dhafc', 'hcfbd', 'hedgf', 'hdacg', 'efcah', 'dghcf', 'gbfed', 'cfghd', 'acfbe', 'fgabh', 'hfage', 'decaf', 'hcdeb', 'cehag', 'cdehf', 'acbde', 'cehaf', 'dbchf', 'achgb', 'fbhcg', 'fbhde', 'fgcbe', 'ahged', 'dcgbh', 'gdbfh', 'hebfg', 'hfegc', 'bgehf', 'cedag', 'gehfa', 'feabh', 'befgh', 'gahcf', 'fhacb', 'fecbh', 'bgehd', 'gdbch', 'fhgbd', 'dcahg', 'gcehb', 'egcab', 'dgbch', 'gdfae', 'cgdbh', 'acdbg', 'fcehg', 'cghaf', 'bcfeg', 'efagh', 'dgcbe', 'fabgd', 'ebfch', 'egfbh', 'gface', 'efadb', 'dacge', 'efcdb', 'fdhce', 'fabec', 'fdbcg', 'caehf', 'fdcah', 'hcfgd', 'cbdhg', 'abehd', 'fgcae', 'edach', 'afegc', 'hbecd', 'hecfb', 'faegh', 'dehgb', 'fgbhd', 'gafeh', 'gfdbc', 'bdhec', 'bghcf', 'gceda', 'fcdeb', 'chgfe', 'chgfd', 'bcfgd', 'fcbhe', 'ahgdc', 'bcdgh', 'fbhec', 'cafgb', 'cfbdg', 'eahfc', 'fcadh', 'gfdhb', 'agdbe', 'egfcb', 'gahbf', 'fhdec', 'adfhb', 'agefc', 'cheag', 'egfcd', 'adbfc', 'gcfbe', 'gdhaf', 'cfhbg', 'daecb', 'fgeab', 'hfcae', 'cgdef', 'fbghd', 'ecbfd', 'agdce', 'gebhd', 'dcgeb', 'cgfhb', 'hgecd', 'afhbd', 'cghad', 'hgdbe', 'bchdf', 'dbcgf', 'ehbfc', 'agfhe', 'echaf', 'edfag', 'fcdah', 'dhbce', 'dabce', 'cfgda', 'gdcha', 'cbegd', 'fegbd', 'dhgef', 'hagfc', 'dcefb', 'dfgcb', 'chfad', 'fedbc', 'adhcg', 'gbdch', 'hefga', 'agdeh', 'eadbf', 'abghf', 'fhead', 'cfhgd', 'afehb', 'gacfe', 'hcdag', 'fheab', 'dbfcg', 'eabfd', 'edchf', 'hgfec', 'chfbg', 'caghe', 'hacfb', 'dbegh', 'hceda', 'dahfe', 'afcbd', 'feadb', 'hedfc', 'fabhg', 'dhcaf', 'gfhea', 'dcbhg', 'acgdh', 'cfhbd', 'hcaeg', 'eghaf', 'gecad', 'egfha', 'edfch', 'ahfgd', 'hgdaf', 'bcehg', 'fahce', 'bchfd', 'gbfeh', 'hdfca', 'cgdab', 'ehgab', 'cbgeh', 'cgfde', 'bhecf', 'cbdef', 'dgebf', 'gbehf', 'ehacb', 'habgf', 'ahebg', 'bhfge', 'chdfa', 'dcfeb', 'fcghb', 'dhcbg', 'agdcb', 'cfgab', 'fgcde', 'cdbhe', 'dchea', 'hdgec', 'ecfad', 'gdahc', 'fgebc', 'cgadh', 'hfcga', 'egbfh', 'hfdae', 'fageb', 'agfce', 'fhebg', 'dcage', 'edcgh', 'ahfdc', 'fegdc', 'fgbch', 'eahfd', 'cdfah', 'ehfdb', 'gdcaf', 'caefh', 'cfdea', 'hbced', 'cadgb', 'dbghe', 'fdeca', 'dgeha', 'edfac', 'ghaef', 'dhafg', 'efdha', 'caghd', 'afbhd', 'hbcgf', 'acbhg', 'gbfhd', 'hcfag', 'fdbch', 'dabfe', 'eagcd', 'gdhfc', 'gaebd', 'begfh', 'cbhgf', 'ehdag', 'agbec', 'ahgef', 'becdg', 'ecagf', 'hbdfc', 'hdfac', 'cgbhf', 'hfead', 'edahf', 'hegdf', 'cdhfb', 'eahgc', 'hegaf', 'ghfce', 'fhcdg', 'gfdcb', 'aehbf', 'ebhcf', 'egbcd', 'acedh', 'efdgh', 'bgdhf', 'bedcg', 'cfdae', 'egdcf', 'dfbeg', 'dbgfc', 'gcdbh', 'gcaeb', 'gabec', 'daefh', 'gache', 'gdfab', 'dgeab', 'chgad', 'dhabc', 'agdbf', 'fcdgh', 'adgce', 'fgdeh', 'adecb', 'dechg', 'chagd', 'fgecd', 'feacb', 'becfh', 'fcaeb', 'gfced', 'gfcdh', 'acbfd', 'cfaed', 'fagbd', 'ehbdf', 'gbhdc', 'cfgad', 'cegfb', 'adchg', 'adche', 'hdgcb', 'dhgcf', 'cdehg', 'edgac', 'dgabe', 'gcfed', 'gfade', 'fdgae', 'afdgh', 'fhecb', 'dcgfa', 'afdch', 'chadf', 'bghfc', 'aghdf', 'aghfe', 'fcgha', 'hfbcg', 'ahefc', 'hfdea', 'abheg', 'eafdh', 'dbefg', 'gbedc', 'efhag', 'gcbhe', 'habed', 'efdbg', 'cfdbg', 'aghed', 'gefhd', 'haefc', 'fgcad', 'fhebc', 'bgcdf', 'geabf', 'fcagb', 'ehbdg', 'hefca', 'gehdb', 'hbgfd', 'fcedh', 'hfagc', 'fdhca', 'chfed', 'dghac', 'hfdbe', 'cbhge', 'fhbec', 'aghfb', 'cgahb', 'dhcfa', 'fgeca', 'fgedb', 'gfhce', 'ghcae', 'fdegc', 'hecbd', 'gebdc', 'achbf', 'fbhge', 'cdghf', 'dhacb', 'gehca', 'adhfb', 'ecfah', 'abchd', 'bchde', 'hcebd', 'dhage', 'gadbf', 'cgbef', 'eagdc', 'bfdhc', 'abgef', 'fchbg', 'ehacd', 'fdagh', 'bfgcd', 'adhbc', 'bfdhe', 'fchge', 'cfdbe', 'bfchd', 'eacbg', 'abhgf', 'geadf', 'cdgaf', 'dgefb', 'echdg', 'deahb', 'cdgeb', 'aehbc', 'dgefc', 'cdahe', 'dcaeg', 'hgdcb', 'hbfcd', 'bgefh', 'cdeab', 'cagdb', 'dbhge', 'ghfae', 'hdfae', 'dfegc', 'ehbcf', 'gfhae', 'dceaf', 'hgafb', 'becfd', 'dhbcf', 'dahfg', 'bhedg', 'bgcfe', 'efgda', 'efhbc', 'egcfd', 'dgace', 'aebhc', 'abhfc', 'cfeda', 'fcbdg', 'dfbgc', 'eadfc', 'dhebf', 'abdhe', 'defgh', 'acfeb', 'dabhe', 'dfceg', 'ecdgh', 'dfegh', 'chbgf', 'daegf', 'habcd', 'beghd', 'adcfe', 'hedaf', 'dbcge', 'dhcag', 'bfhdc', 'hfgbc', 'agecf', 'ecdbf', 'gbdhf', 'eachf', 'gaced', 'befdh', 'facgb', 'fdehc', 'egchd', 'dacfe', 'afgbh', 'abcdg', 'chfda', 'acebg', 'hedab', 'abcge', 'ebcdf', 'bcgef', 'cbehg', 'chfeg', 'dahfc', 'hfdag', 'cedgf', 'bghce', 'haegc', 'adcgf', 'hfgcd', 'eacdf', 'adegf', 'cbehd', 'fehbd', 'efcdh', 'eahgb', 'ceafb', 'acdgh', 'dgeaf', 'dgeca', 'fbdce', 'efcda', 'hbefc', 'gceab', 'chfgd', 'agdfc', 'chbef', 'dgecb', 'chabf', 'ahcgb', 'cbdhe', 'hcdfb', 'eadbg', 'egfdh', 'fahbe', 'acbhe', 'cebfh', 'cfdag', 'fhdag', 'gecha', 'gbfhe', 'hceag', 'hgadc', 'dahcb', 'fehcg', 'dcebf', 'dhgce', 'ghfde', 'hbfgc', 'bcghf', 'gdfhc', 'geafb', 'cdeha', 'edcbf', 'afghe', 'dafhg', 'hfcgd', 'fgbeh', 'deghc', 'hgfab', 'aegdf', 'bfhec', 'fhaec', 'gdheb', 'bfhcg', 'deacf', 'hbedf', 'cfaeh', 'efhgb', 'cdage', 'edbgc', 'dfeac', 'daehf', 'gchad', 'edhag', 'hafec', 'debgf', 'ahbfd', 'dafec', 'ahcbg', 'ecbfg', 'gbcdf', 'eghcd', 'dgche', 'eagbc', 'cfgea', 'agcbd', 'cfdgb', 'bdgec', 'fghad', 'ehabd', 'edgbc', 'dfghe', 'hdcae', 'dghcb', 'aefdb', 'gafhb', 'ehfcb', 'dfhge', 'dhbfc', 'cdefa', 'afhcd', 'ghabe', 'dhfbe', 'ghedb', 'aefbg', 'gefhb', 'gabeh', 'dcfgb', 'ahgdb', 'adfhg', 'ahdgc', 'ghacf', 'gaehb', 'bdghe', 'cbhdg', 'adefg', 'agfhb', 'bhfdc', 'afebh', 'ahfcd', 'bcfhg', 'aedcf', 'decfa', 'gedha', 'ecagh', 'adfge', 'fabhc', 'gdeaf', 'fhecd', 'ecgfd', 'ebcfg', 'ghadf', 'faged', 'efbdh', 'cdhfg', 'adbec', 'gaebf', 'fadgb', 'egbhc', 'acdhg', 'fahgd', 'fcdgb', 'fgcea', 'hgcea', 'cghbf', 'hadbc', 'aedcg', 'fgdab', 'dehfa', 'eahcd', 'bdfce', 'cehdf', 'cdaef', 'bgedc', 'fgahd', 'ahfde', 'defcb', 'chdfg', 'hdceg', 'gbech', 'dhbfg', 'hebfd', 'fcgda', 'dafeh', 'dabgh', 'eghbf', 'fadcb', 'efacg', 'eafdb', 'gdhea', 'fhcab', 'bfged', 'gfacd', 'ehdac', 'aehcd', 'gebdf', 'hgdef', 'hbdec', 'edbhc', 'haceb', 'fdabg', 'hacgf', 'faghe', 'dcheg', 'aefbd', 'gcdfe', 'hdafe', 'aedcb', 'deafb', 'gcafh', 'decab', 'hfebg', 'fadce', 'gcefb', 'afgbe', 'dfaec', 'hadce', 'fgadb', 'hdcab', 'hgedb', 'facdb', 'egahd', 'adbfg', 'bgdfe', 'hgcfe', 'hacbd', 'fecdh', 'fgdac', 'cgdbe', 'bcdeg', 'ghebd', 'gdehb', 'hcdfe', 'hcafg', 'aefcg', 'ahecb', 'hbdfe', 'dcfbh', 'fhbgd', 'ebcgf', 'dgbhf', 'gahed', 'edchg', 'acegb', 'edgab', 'edbfc', 'hefcb', 'bcgdh', 'ehcgd', 'hdcbe', 'cgdfa', 'heagf', 'cfebh', 'fhcgb', 'dgbfe', 'hcadg', 'hfgbd', 'gbdfh', 'gedfh', 'hbgcf', 'bghde', 'cfbgd', 'daecf', 'dghea', 'hgcfb', 'gfcbd', 'achfb', 'ehfbc', 'efdca', 'hgbec', 'daegb', 'adgbf', 'cbefg', 'cbgfe', 'aecdh', 'abcfe', 'dabge', 'cfegh', 'hagcd', 'bfhce', 'fdahb', 'gedhc', 'fhbce', 'dgefa', 'fadeh', 'fdeag', 'hcbgd', 'bdghc', 'gfceb', 'cbgfh', 'ecgah', 'ehgcd', 'faegd', 'gdchf', 'fcedg', 'haegf', 'decha', 'gcbdf', 'afedb', 'fcedb', 'edbgh', 'dbche', 'haebd', 'gcbde', 'gdabh', 'gchab', 'ehfbg', 'deafg', 'chfgb', 'ghfea', 'aegdb', 'agheb', 'hegab', 'fhbgc', 'gaceh', 'gdfhb', 'egcfb', 'edafb', 'fcadg', 'dcbfh', 'echag', 'hafgd', 'fecgh', 'caedg', 'fgcdb', 'eachg', 'bhfdg', 'ecfha', 'cfebg', 'bgfec', 'heafg', 'cghde', 'fgdec', 'ecdhf', 'gfchd', 'dhecg', 'cfadb', 'fhbde', 'ahfbe', 'hafbg', 'aecfh', 'dcfah', 'hafdc', 'edcbh', 'aedbh', 'hbcfe', 'hcegd', 'afdbh', 'hcbfe', 'adhge', 'ebdgc', 'efhdg', 'fcbhd', 'abdhc', 'egcdb', 'afdge', 'cbhed', 'hecab', 'hafde', 'dheca', 'hafgc', 'afdec', 'hegad', 'acfgh', 'gedcb', 'afbeh', 'habde', 'degca', 'hgfeb', 'dachf', 'chdfb', 'agcfb', 'fhdab', 'gadbe', 'dhgbe', 'dcegh', 'fhgae', 'chagb', 'dchbg', 'dhcae', 'gefda', 'hgdce', 'degha', 'aedgb', 'cedfg', 'gcdbf', 'aehdg', 'aegbf', 'afdeb', 'fcghd', 'chdef', 'bchdg', 'gheaf', 'hedga', 'ehdca', 'deacb', 'edgcf', 'hfedg', 'ecgda', 'bdceg', 'fcdea', 'bfecd', 'hdgfa', 'ecdfa', 'eahcf', 'egdfb', 'hbfdg', 'fahbc', 'abgdh', 'cbdfh', 'bhced', 'efgbd', 'gabdf', 'dagch', 'ehcfa', 'fcbgh', 'hgfcb', 'fgabc', 'gehbc', 'cdbfh', 'ehgfc', 'fdecb', 'geafd', 'hefdb', 'bghed', 'acgdf', 'acgbd', 'eaghc', 'ghbcf', 'egabh', 'afecb', 'aebdf', 'hafcd', 'gcfeb', 'bhcfd', 'gdeac', 'ehbgf', 'chdaf', 'gahdf', 'ghdbe', 'dhefc', 'ahdfc', 'edgah', 'ecfga', 'daehb', 'fheca', 'adhcf', 'cgabh', 'afdgc', 'bedfh', 'caedb', 'ghfbe', 'cbdeh', 'cfhge', 'hacfg', 'geafh', 'eahgd', 'chage', 'dfabh', 'hefgc', 'dhgca', 'dgfae', 'bhdcf', 'dcega', 'afbgc', 'aedbf', 'bfcde', 'gfeab', 'gabfd', 'bcdge', 'egcda', 'cdhef', 'hcgbf', 'gfecd', 'agehb', 'befdc', 'egbfd', 'bchef', 'gfhec', 'gfdca', 'cdahf', 'edhac', 'fdhgb', 'bgchf', 'hfcag', 'eghbd', 'cfabh', 'hfecd', 'bcefg', 'ahcdb', 'aegfb', 'fcgah', 'fceab', 'fhegc', 'cehgd', 'chead', 'fecgd', 'gcdea', 'fgabe', 'afheb', 'dgceh', 'adbef', 'fageh', 'fgcah', 'echbf', 'cbedh', 'gdech', 'eadgf', 'fdbeh', 'fahcg', 'cgbfd', 'fdbhc', 'dfecg', 'bhceg', 'hfacd', 'ehfbd', 'hdeac', 'bhfgc', 'fcheb', 'hcfga', 'aghcd', 'gdhcf', 'gafeb', 'bgdhc', 'abehf', 'agdcf', 'dgfcb', 'cdhea', 'bfegh', 'cbgde', 'cgfed', 'aedfb', 'cdfhg', 'adefb', 'eahdb', 'fgeac', 'efgcb', 'dagce', 'gdafb', 'bfdeh', 'hgfad', 'hbefd', 'efgdc', 'dcfbe', 'ebdcf', 'aghbe', 'gbdfe', 'gbfcd', 'fachd', 'dgbfc', 'cehgf', 'dgfeh', 'habdc', 'achde', 'hdgbc', 'hedgb', 'gbchf', 'gbdcf', 'gdhbf', 'cbgdf', 'ghdbc', 'dgafb', 'faegc', 'dabfh', 'gahdb', 'adfbc', 'efdhb', 'cahef', 'hbfge', 'geabc', 'abghe', 'eafgh', 'fcdbh', 'fcbde', 'dcehf', 'hfdeb', 'edcag', 'chegd', 'cehgb', 'chfge', 'dfeab', 'fhced', 'hacge', 'fdaeh', 'fcdga', 'febhd', 'fchga', 'ghceb', 'ceghd', 'eahfb', 'fbhcd', 'ebchd', 'hdgbf', 'ebgdf', 'ehcbg', 'adfec', 'ecfgd', 'gcdhf', 'cdagb', 'ecbhf', 'dhecb', 'gdhbc', 'afgch', 'dgfch', 'hdgea', 'chfeb', 'fahge', 'dgeah', 'hcbfd', 'dbech', 'eagdb', 'cedbf', 'hcgab', 'gfcbh', 'cfaeg', 'abcef', 'gbhcf', 'dfebh', 'acghf', 'cgeda', 'gfceh', 'ehdbg', 'aegch', 'gafhd', 'dghfc', 'hcbfg', 'fceda', 'dfegb', 'ahdge', 'edfbh', 'hdegf', 'edcfa', 'haefd', 'gbhfd', 'gcaeh', 'hfcbd', 'ahdbe', 'hgacd', 'hdgfb', 'bdfhg', 'cbged', 'hcgfd', 'gechd', 'gfeac', 'edcha', 'cdeaf', 'bfdhg', 'cfgbh', 'cfhgb', 'cabgd', 'dgabc', 'cbgdh', 'ecdbh', 'egbdh', 'dgfea', 'gabcd', 'gfdbe', 'ceagb', 'afhgb', 'faedh', 'acbgf', 'cdhgf', 'hagbc', 'dheag', 'gcdaf', 'debgh', 'ahecd', 'dfebc', 'aeghd', 'hcfde', 'gadhe', 'gbecd', 'gcfae', 'gaedc', 'efchb', 'hcfad', 'dbgcf', 'fcebd', 'hfgad', 'cehbg', 'deabg', 'edfgh', 'hdfgb', 'fhecg', 'efhgd', 'adgfh', 'gahfc', 'chegb', 'hebcd', 'gbefd', 'chged', 'hdbce', 'bhecg', 'faedb', 'hcedg', 'fbedg', 'fbgch', 'ghdbf', 'ghcfd', 'faghd', 'agcef', 'ghbcd', 'gedfa', 'ebghf', 'dfgch', 'efgbc', 'feagc', 'dfcbe', 'ebfdh', 'fhacg', 'dafeb', 'egcbh', 'cbfhd', 'hecdg', 'headg', 'hcgaf', 'dgfec', 'faheb', 'abced', 'ebgdh', 'fgbdh', 'edcab', 'abdch', 'hagde', 'cdfhb', 'dgech', 'aefbh', 'eacgf', 'hegdc', 'hbegd', 'bdhgf', 'egacb', 'edbfg', 'aehdc', 'fhgbc', 'hcabf', 'fgcbd', 'gdcfb', 'hdbcg', 'dhgea', 'fgead', 'acbfg', 'abedc', 'dacfh', 'cadhb', 'hgdfa', 'cdhbe', 'cagbh', 'dcgbf', 'hdgac', 'dhcea', 'dagfh', 'cfdhg', 'bfegd', 'fhcbg', 'gheda', 'cdgbh', 'gcefa', 'echgd', 'egdbc', 'fecda', 'gdcfe', 'gdchb', 'gcabh', 'bhdec', 'afche', 'cedfa', 'bgchd', 'hgdfc', 'gecaf', 'ecbhd', 'hcefa', 'ecfbh', 'ecafd', 'dgbec', 'fgcha', 'acedf', 'adhgc', 'ahcde', 'gafed', 'fcbeg', 'cgedb', 'cadeb', 'dcbeg', 'hfbgd', 'ehfcd', 'dghfe', 'fhdeb', 'egach', 'ahdbf', 'gbfec', 'fgehd', 'adfeb', 'efdbc', 'fachb', 'bhdfc', 'fbhgd', 'defca', 'egdha', 'gedca', 'adbge', 'cdhag', 'dfgac', 'feahc', 'fdgch', 'ecfgh', 'hbgde', 'hfeca', 'ecdfh', 'hcage', 'efcdg', 'aecdb', 'gfeda', 'hdagf', 'agfhc', 'gcbeh', 'gaefh', 'echgf', 'fehgc', 'cebhd', 'dhagf', 'eadcg', 'bgfed', 'gcadf', 'ghefb', 'cfehg', 'gfbce', 'ghbec', 'hfgea', 'cfdgh', 'adfbh', 'fedbg', 'bdegc', 'agbfc', 'cgaeb', 'fahde', 'gchbf', 'acbeh', 'ahegb', 'edabf', 'egcbd', 'gdaeh', 'gcdha', 'bfgdh', 'fdghc', 'hafeb', 'afhed', 'dfech', 'fegad', 'bgfdc', 'feahg', 'fdgac', 'gedbf', 'dbheg', 'egadf', 'ebdhf', 'ehafb', 'bdcfe', 'hcabe', 'hdbfc', 'fgcda', 'dahcf', 'ahfeb', 'fbedh', 'gdhae', 'acdhb', 'bdegf', 'fgdeb', 'ebdfg', 'cdgbe', 'debfg', 'ecfhd', 'fhgad', 'fahdc', 'dchaf', 'aecdf', 'gehfc', 'chfga', 'chgbe', 'dfbhg', 'efgch', 'dhfag', 'adech', 'agcbe', 'hdcfg', 'feahb', 'hebcg', 'egbch', 'aefgb', 'afbhg', 'afedh', 'hgdfb', 'adbcg', 'cdebg', 'bfghd', 'hadeb', 'adchb', 'fedch', 'edbgf', 'afdce', 'gdfeh', 'dbehg', 'cfbhe', 'dfbhc', 'fdcbh', 'cdagf', 'aehfb', 'chfdb', 'dafbg', 'cgahd', 'hgbce', 'fcdae', 'dhfeg', 'fdchb', 'haecg', 'fcgae', 'bdech', 'cefda', 'gcehd', 'dabcg', 'aehdf', 'bdfge', 'ehcga', 'bfdge', 'dfhgc', 'ehagf', 'cdhgb', 'eagfb', 'dchbf', 'eagfd', 'dchfa', 'ehcda', 'gcdfa', 'gcahf', 'adegc', 'dechb', 'fbgec', 'ehdgb', 'cbghf', 'cadfb', 'fahec', 'aedbg', 'fdach', 'abfdh', 'dfbeh', 'caedh', 'chdga', 'egdhf', 'hacdb', 'fhbcg', 'afcbh', 'ecbdf', 'hgdea', 'cabgf', 'hdcaf', 'egbfc', 'cfdab', 'abdhg', 'dbhfe', 'cgfeh', 'dhcab', 'fehgd', 'efhca', 'ehdfb', 'cfagh', 'hfdga', 'adcgh', 'aeghb', 'debfh', 'acdeg', 'eadcb', 'aebfd', 'faecg', 'hfeac', 'eghda', 'edafc', 'hafbc', 'ghbed', 'gfcah', 'dbehc', 'ahcfd', 'dgcfh', 'cbgfd', 'afceg', 'hbdfg', 'hfgeb', 'cfhab', 'eafdc', 'gehda', 'edhgb', 'haebg', 'gdfcb', 'eacfb', 'ghbce', 'gadfe', 'fbdgh', 'ghebc', 'gacbf', 'bfehd', 'edcfh', 'aedch', 'beghc', 'cehbd', 'cegfd', 'dceha', 'hegcb', 'behgf', 'hagdc', 'gahfb', 'hgdca', 'cebgf', 'cfgdh', 'cheaf', 'ceabf', 'efcad', 'dbceg', 'cdbfg', 'hbdge', 'dchga', 'dfahb', 'cafdh', 'abcde', 'ahbcf', 'dahfb', 'aecgd', 'bgcfh', 'ahdbc', 'bhfde', 'bhfcg', 'abfge', 'hfgec', 'ebfcd', 'dfhcg', 'faebd', 'dafch', 'dhabf', 'hgbfd', 'ghedf', 'chafe', 'cgheb', 'hfbdc', 'gfehd', 'fegdh', 'fdehg', 'heafb', 'dfega', 'fdhea', 'ebhcg', 'gdefb', 'egfda', 'cdfha', 'ghdae', 'dcfhe', 'edbfh', 'acdbe', 'ecbdg', 'hagce', 'ebfhc', 'edhfc', 'hdfcg', 'fhgea', 'afhgc', 'cfhea', 'gedcf', 'dfeah', 'cdfbe', 'efbhg', 'fhabg', 'eabfg', 'hfcbg', 'dahge', 'hcagd', 'aedgf', 'bhefd', 'ghedc', 'fdgeh', 'bfhcd', 'gchdf', 'gecah', 'geabh', 'fdgbe', 'cdaeh', 'gcfdh', 'fedbh', 'dgahe', 'chgae', 'adhgb', 'adfcg', 'hdage', 'hefdc', 'bcghe', 'cgead', 'gcfhb', 'deagh', 'fdcga', 'adehb', 'abhcg', 'ehfga', 'bfdch', 'acgfd', 'ecghf', 'dhcbe', 'daecg', 'ehbcd', 'aedgc', 'fbcgd', 'hfabe', 'fhegb', 'hdabc', 'ghcef', 'gadfb', 'ghabd', 'chdbg', 'fahcb', 'cfabd', 'hcdef', 'gbhed', 'fhdae', 'cfghb', 'hegbc', 'hegda', 'gdfbc', 'eafbd', 'dcgaf', 'fbdgc', 'fabcg', 'gfbdc', 'acdgf', 'fhbge', 'ghdfb', 'aefgd', 'ceafg', 'hbdeg', 'fadhb', 'dgfce', 'ahbef', 'fgehb', 'gefac', 'dfbch', 'hgeac', 'ghfcb', 'adgec', 'cefdg', 'gcabd', 'cebdh', 'bgfeh', 'cgaeh', 'gcdeh', 'gfdeb', 'acfgd', 'dahef', 'dhbgf', 'gdacf', 'heabg', 'ahbgf', 'cfdhb', 'afcgb', 'dhgbf', 'gdefc', 'hgcaf', 'haecb', 'afhdc', 'geacd', 'ehdcg', 'gcheb', 'dcfae', 'fceag', 'gfdce', 'hacfd', 'afcbe', 'ehgdb', 'cfahe', 'ahcdg', 'ahdec', 'faehc', 'agfhd', 'acfdb', 'acefd', 'dgafe', 'dafgb', 'ehfag', 'gdcef', 'hbgfe', 'ecgbh', 'fadhg', 'dcfeh', 'cadfh', 'gcdah', 'cgefh', 'dhaec', 'ghabf', 'edghb', 'aebcd', 'bgdce', 'ceagf', 'dhfge', 'cfheb', 'ghacb', 'hdcbf', 'hcbdf', 'acefb', 'eadfg', 'fdacb', 'cafeb', 'behcd', 'agcbf', 'chgfa', 'cagfb', 'hbcde', 'cebhf', 'fehad', 'egcfa', 'ceahb', 'agbde', 'ahfdg', 'dbefc', 'abdfe', 'gahdc', 'ecgfh', 'efdch', 'cfhdg', 'gcdef', 'gfdah', 'cebdf', 'afgec', 'fdcgh', 'cdeag', 'eafcg', 'gfebc', 'daghb', 'egfad', 'ahdfe', 'bhdcg', 'ceadg', 'bfcgd', 'abhdc', 'fhcea', 'dfaeg', 'feacg', 'cahfd', 'fdaeb', 'gacdf', 'bdgcf', 'gabed', 'decbf', 'gfbdh', 'fhedc', 'fecbg', 'decag', 'adbfe', 'gbedh', 'fegch', 'dabch', 'bdgfh', 'defcg', 'aegcb', 'egfhb', 'cghfa', 'eabhf', 'bhcfg', 'fedhb', 'cdfgb', 'fdahg', 'fchad', 'egfbc', 'debfc', 'fdhae', 'geadc', 'fhcag', 'afbge', 'fdhbc', 'dcfea', 'chgfb', 'hdaeb', 'dcebg', 'acghe', 'gefah', 'bcdfg', 'fahgb', 'fhdac', 'eabcg', 'hfbdg', 'cgeah', 'fhcda', 'fhabe', 'fhgda', 'cfbed', 'gdehf', 'dcgfb', 'abgfd', 'hdbfg', 'cgeha', 'bchfe', 'gcdhe', 'gfdec', 'adehf', 'ahbge', 'cabhe', 'fghea', 'cdgae', 'gfhac', 'daegh', 'fabdg', 'agfde', 'fgdhe', 'fegcb', 'ceadh', 'fheac', 'dgcfb', 'degbh', 'cadef', 'gahcd', 'gbecf', 'hcafe', 'fbgeh', 'agebf', 'aedhf', 'deagc', 'chaeg', 'dgfhb', 'dcafh', 'cfehb', 'cdegb', 'hgced', 'hcebf', 'gafcb', 'dhbgc', 'fdgab', 'hfabg', 'bhfed', 'dcgfe', 'chfae', 'bhcef', 'fcdhg', 'ghdef', 'eghcb', 'cgeaf', 'bfghe', 'gdhac', 'dgaeh', 'edabh', 'gabhc', 'hdgfe', 'hbcfd', 'gechf', 'hagbd', 'ecghb', 'cghfb', 'bechd', 'fdceb', 'hcdeg', 'agedf', 'ghcfa', 'gehab', 'ehafg', 'hfagd', 'fcabe', 'efchd', 'bfehg', 'fghcd', 'dhefb', 'hdecg', 'hcgeb', 'agced', 'hdfea', 'efcbd', 'gcfde', 'agdeb', 'hadcb', 'hegfd', 'gfedh', 'chdeg', 'ahdce', 'ebdhg', 'efagc', 'chfbe', 'ecfab', 'bdghf', 'cfahd', 'bfhdg', 'achbg', 'ehdab', 'fdaec', 'afgeh', 'behcf', 'ahfbg', 'cfgbe', 'acgbe', 'cdbgf', 'eghcf', 'ceagd', 'bgcef', 'eafch', 'gcehf', 'bdcfg', 'fdgah', 'ghced', 'fgdhc', 'ghdec', 'hbceg', 'bhgec', 'febdg', 'aebch', 'bchgd', 'facge', 'dcafb', 'bfdcg', 'cbefh', 'ecdaf', 'hgeda', 'efhgc', 'cdegh', 'gdebc', 'ahfbd', 'hgdec', 'chgef', 'efgad', 'hgaec', 'agdfb', 'gafhc', 'fdhab', 'ahebc', 'dahbc', 'ehbfd', 'ebdfc', 'gceaf', 'ghdab', 'fgacb', 'fagcd', 'habce', 'hcefd', 'faheg', 'fabcd', 'hdbgf', 'hafeg', 'cgedh', 'eafbg', 'cgbhe', 'dhfcb', 'acbdg', 'hedgc', 'ecbhg', 'edcga', 'gfdha', 'cebfg', 'ehdfc', 'afgdc', 'hfcde', 'ecfhg', 'hdgeb', 'cfdah', 'efghc', 'acged', 'ghdea', 'hgadf', 'fgaec', 'fcbhg', 'fhbdc', 'gcdeb', 'acgfe', 'fhabc', 'becdh', 'facgh', 'bcdgf', 'bhcge', 'ehgac', 'bdfec', 'adfbe', 'hgdbf', 'hegfb', 'bfegc', 'fghac', 'fhgac', 'acghd', 'cagbd', 'afced', 'cehdg', 'dcfga', 'cgdeh', 'fabde', 'chdbe', 'acheg', 'dgcea', 'cefbg', 'agfcb', 'fechd', 'edcgf', 'gdefa', 'gefab', 'faegb', 'dghfa', 'dgbce', 'aeghf', 'hbcgd', 'gebfd', 'bdehg', 'caegh', 'gdafe', 'dchgb', 'habgd', 'hedbc', 'dfcab', 'chega', 'fcegd', 'ebgch', 'hdace', 'degcb', 'adecg', 'gbdeh', 'bgdch', 'afgde', 'faehg', 'gdaef', 'cghfe', 'efgdb', 'decah', 'hfbce', 'gcbhf', 'echdb', 'gfahe', 'fdghe', 'gacde', 'dgcha', 'abfhc', 'dghca', 'chfde', 'hgfbe', 'cafhe', 'cfgdb', 'fgech', 'ecabg', 'hcdae', 'egdch', 'ahdeg', 'fhdbc', 'acfdg', 'hgfbd', 'hdafc', 'hcbde', 'cgefd', 'dfabg', 'dfcae', 'cefha', 'ahbdc', 'efahg', 'fgdca', 'hegcf', 'dhgfc', 'fadgh', 'fadge', 'cgfdh', 'efghb', 'bgdeh', 'ceagh', 'fgceh', 'feach', 'ghefc', 'heabf', 'bhgcd', 'hdefb', 'aegcd', 'fdcea', 'gdfec', 'efcgd', 'cahed', 'gbfce', 'eafhd', 'bdcgf', 'heafd', 'cahgf', 'ghfac', 'bdhfc', 'fghbe', 'cabdg', 'dchbe', 'gafbc', 'hbecf', 'dbhce', 'gcbdh', 'acfhg', 'hfcea', 'egdab', 'abfch', 'ebfhd', 'dechf', 'achdg', 'fgdbe', 'fhgdc', 'hdfeb', 'hagdf', 'dfheg', 'dbhfg', 'edghf', 'hfade', 'gdfac', 'fedag', 'gadef', 'dhbec', 'agbeh', 'bhcde', 'cbfde', 'cfgae', 'hbdgf', 'ehgdf', 'abhef', 'hecfd', 'dahgf', 'acefg', 'hfgac', 'chdge', 'fgehc', 'eabhg', 'egahc', 'chbde', 'fdeha', 'ecafb', 'ceafd', 'aedhc', 'ebhgd', 'gbcfe', 'ahcge', 'fgeda', 'hgfce', 'aghce', 'acebd', 'fgadc', 'egbdf', 'ehfad', 'dabgc', 'gfbeh', 'ahgfd', 'gbdfc', 'gbhfe', 'ghfca', 'aehgc', 'dabfg', 'fbdch', 'bdcfh', 'acgfb', 'hdecf', 'efhcd', 'ceghf', 'dcfeg', 'afdgb', 'hcfdb', 'hdagc', 'gefch', 'dagcb', 'gbhdf', 'cfdga', 'gfcdb', 'efbdc', 'ehfdc', 'gfdeh', 'fahbd', 'afcgh', 'daefc', 'hfgde', 'hefag', 'ahedc', 'dagbe', 'febgh', 'bedfc', 'dfehc', 'cafbe', 'gdbeh', 'edfbc', 'gdfah', 'acgeh', 'bdceh', 'ebdgf', 'egchb', 'gcbfe', 'feadh', 'hadfc', 'ahdfg', 'agfed', 'fhdcb', 'aehfg', 'bcdeh', 'gcaed', 'cfdbh', 'cdabf', 'adchf', 'befch', 'egafh', 'abhde', 'chedf', 'habec', 'cfbeg', 'fhgdb', 'hebgf', 'dceag', 'edhgc', 'facdh', 'abhec', 'acdfh', 'acgeb', 'gehaf', 'defhc', 'bfgdc', 'gcade', 'adgbh', 'echbg', 'bgcdh', 'fcdeh', 'gechb', 'ahdcg', 'ghcab', 'eabdg', 'ahedf', 'gfacb', 'ghafc', 'ecfdh', 'dfaeh', 'dhgfe', 'ghdfe', 'gadcf', 'egcdh', 'hcgfa', 'gecfb', 'eabfc', 'hfbde', 'hagdb', 'hcbge', 'hfbge', 'cghea', 'cehfa', 'afchg', 'gafdh', 'fcdhb', 'hfegb', 'fbedc', 'gcdfb', 'acfhb', 'ecbgf', 'fhdcg', 'hacbg', 'adfce', 'adefh', 'agehd', 'gcfhe', 'ehbgc', 'hafdb', 'chbfe', 'fcaed', 'becgf', 'hdgfc', 'ehgda', 'egbhd', 'geahf', 'gefca', 'gdfbh', 'febgd', 'dhbcg', 'gcfhd', 'egdfh', 'dfceb', 'dgfhe', 'ecagd', 'hecgb', 'geafc', 'hfedc', 'geadh', 'hdegb', 'fbhdg', 'feagb', 'efdah', 'dbgec', 'cahde', 'eahgf', 'chefb', 'hgabc', 'fdgha', 'agcdh', 'ghfab', 'ghecf', 'cgbhd', 'dcehg', 'dahgb', 'agdhc', 'cbegf', 'fdghb', 'afdcg', 'dhabg', 'defah', 'efgha', 'gchaf', 'hfcad', 'hefda', 'gfedb', 'gabce', 'echfd', 'cfhde', 'edcfb', 'fegac', 'ehcdf', 'dfahe', 'dbhef', 'cbfgd', 'fgaeh', 'feadg', 'gachd', 'hgbef', 'fdgca', 'fhgab', 'ehgca', 'gdahb', 'hadfb', 'cgfbe', 'hgcbe', 'gabhe', 'cedaf', 'gbche', 'gbfdh', 'ebgdc', 'fghcb', 'becgh', 'hdbfe', 'hgafe', 'ecdgf', 'chfdg', 'cdfag', 'gcedf', 'cgadf', 'ecdhb', 'acbdf', 'ecfbd', 'fhebd', 'cdgea', 'bhfgd', 'cgaed', 'adhgf', 'hgbcf', 'fcebh', 'hfbgc', 'cafbg', 'dchfe', 'eadgh', 'fdcgb', 'cahfg', 'fcheg', 'dfgab', 'cafed', 'fcgeb', 'cahfb', 'geabd', 'hcbgf', 'afhce', 'gcead', 'cahbd', 'fcage', 'hgbde', 'gfebd', 'ahfgc', 'gdfca', 'fcbge', 'cagdf', 'edbhf', 'dacfb', 'cdbfe', 'cdfae', 'abceh', 'ecfhb', 'hfdac', 'daebh', 'eadbc', 'afcdg', 'bfceg', 'edgcb', 'dbgch', 'fhceb', 'cfahg', 'hedfa', 'aghec', 'gedah', 'fhgca', 'bgedh', 'aefgh', 'acehb', 'hcgbe', 'edgca', 'cabhd', 'ecfag', 'ehabc', 'aecbg', 'agedc', 'eacbd', 'ahfdb', 'fdcae', 'bcdfh', 'cabfh', 'egafb', 'dhafb', 'dfcge', 'fdaeg', 'acefh', 'afbgh', 'efdag', 'cdfga', 'dfgea', 'dhfac', 'chefd', 'dgchf', 'hcfbe', 'gaceb', 'dchgf', 'gehcf', 'agdhe', 'gaehd', 'hcafb', 'chgeb', 'hdega', 'achgf', 'hgcbd', 'fgdea', 'ehcdg', 'agfeh', 'fhcae', 'ahgbf', 'cdebh', 'gecbf', 'cbdfg', 'bhgcf', 'dgcfe', 'afged', 'adfgc', 'acfhe', 'dchge', 'gdhce', 'cgfhe', 'agbhe', 'cafdb', 'bfhed', 'bcfhd', 'cabfe', 'chafg', 'chabg', 'cgfea', 'fbghe', 'fecdb', 'eacdh', 'fheag', 'ehgad', 'aecgf', 'decbh', 'behgc', 'hcagb', 'cagfd', 'edgch', 'hadef', 'ehcbf', 'facde', 'ebcfd', 'gedbh', 'debcf', 'hdcag', 'chefg', 'fchab', 'cdgah', 'edfca', 'fhcga', 'cgehd', 'hfdcg', 'cbegh', 'bgdcf', 'gecdh', 'dbgce', 'fgcbh', 'fedca', 'feabd', 'efhga', 'eghca', 'cgdeb', 'bfche', 'ehgcb', 'hcfed', 'hadfe', 'ecadh', 'adfgh', 'dghce', 'fedhg', 'gdcea', 'fgche', 'eaghb', 'fahcd', 'abgeh', 'dbfch', 'dcafe', 'cgabe', 'gdbhf', 'egcbf', 'bdfch', 'gecab', 'efgbh', 'fhdbg', 'bdfgh', 'ahgfc', 'aefbc', 'fahdb', 'afhge', 'ehgfd', 'behdc', 'hcgfb', 'edfhg', 'decga', 'acegd', 'cahgd', 'cfhag', 'fbheg', 'decgb', 'dcfbg', 'fhcdb', 'dbgef', 'bfhgc', 'ghdfc', 'cfeag', 'ehfgb', 'cgfha', 'cbhdf', 'eadhg', 'cghae', 'ecghd', 'fbcdh', 'hfdbc', 'cgdfb', 'ghebf', 'hadgf', 'chgbf', 'bhgdc', 'cfhdb', 'cabgh', 'edgfh', 'debhc', 'dehaf', 'hedfg', 'chdab', 'fdech', 'aechf', 'dgcab', 'gchef', 'dhaeb', 'cgfah', 'cfdeg', 'dhcga', 'gdecb', 'hcdga', 'hdacf', 'haebc', 'agefb', 'ecgab', 'abhdf', 'dagec', 'hadeg', 'cabfd', 'eabdc', 'gecbd', 'cdfgh', 'hfgca', 'hbgec', 'afcde', 'ahgeb', 'eabfh', 'cdgeh', 'gfcde', 'debch', 'aehcb', 'egafd', 'fbehd', 'abecf', 'gcbfd', 'dgeac', 'fgahb', 'caebg', 'hgefc', 'gcdab', 'gecda', 'ghafe', 'dabef', 'begdf', 'dcebh', 'bhdgc', 'edgaf', 'chbge', 'chbfg', 'hgcef', 'dehcg', 'cegdb', 'daghe', 'hagfd', 'hefad', 'eacgh', 'gabch', 'eacgb', 'cbhde', 'ecahg', 'cdahb', 'bdecg', 'fchgb', 'dabhc', 'gdahe', 'gcahd', 'dhceb', 'deabc', 'dafge', 'abceg', 'dhafe', 'dfebg', 'egfdb', 'ahbdf', 'deafh', 'gafde', 'fahgc', 'daceh', 'cgdhf', 'fcega', 'echgb', 'fagec', 'abdgf', 'aefdg', 'gchda', 'geahb', 'hfaec', 'adghb', 'fdecg', 'aefdh', 'aechd', 'febch', 'cabdf', 'gchbe', 'hfaed', 'defch', 'cgeab', 'ebhdg', 'bfcdh', 'dfacb', 'cehfg', 'cdeah', 'abefg', 'fbgcd', 'fgdce', 'egdaf', 'dceah', 'bched', 'cdfeg', 'ahbfe', 'ecdfb', 'gdhec', 'hcfea', 'cdfab', 'fgade', 'cbedf', 'ehgbd', 'dafbh', 'hbgdf', 'cfgha', 'dcahf', 'bhcdg', 'fcgdb', 'bfecg', 'hfebd', 'chefa', 'cedab', 'ahfgb', 'abegd', 'gchfb', 'cagfh', 'ebdfh', 'cbdgh', 'dbhgc', 'gfbhe', 'deabh', 'fcabg', 'facdg', 'acgfh', 'abfdg', 'dface', 'cfgeb', 'dfehb', 'hfced', 'hgcde', 'ehagc', 'gabcf', 'fbehc', 'dcfgh', 'gcedh', 'dgebc', 'cgdah', 'ehacf', 'hgcad', 'acbdh', 'feagd', 'fgbde', 'aghcf', 'gfhda', 'gafdb', 'eahbc', 'eahbd', 'fdebg', 'dhagb', 'fagde', 'cfadh', 'fbdhe', 'gafdc', 'fedgh', 'efcag', 'bhcgd', 'cefhg', 'ehcab', 'edhab', 'cefhb', 'behcg', 'ahefg', 'agbhd', 'heagd', 'gedhb', 'efahd', 'cdefh', 'agbce', 'eabcf', 'echda', 'adgcb', 'fegbh', 'fdagc', 'fhage', 'fecha', 'afbdc', 'hfebc', 'afheg', 'debgc', 'adceg', 'hacfe', 'ehcbd', 'fgheb', 'hgafc', 'gdabe', 'hceab', 'eghdf', 'gafbh', 'adbch', 'acbeg', 'dfhea', 'afedc', 'abedg', 'ecdag', 'afceh', 'dgacb', 'hdfbc', 'gdceh', 'fbehg', 'cafgh', 'achgd', 'gbdef', 'cgedf', 'faedg', 'abgdc', 'dheab', 'ahgbc', 'chabe', 'cagdh', 'ehdgc', 'gaecf', 'ehdfa', 'hbgfc', 'aegbh', 'hcafd', 'hcdea', 'gbhcd', 'gehcd', 'edcbg', 'afcge', 'ecgfb', 'edhgf', 'fhagd', 'bcghd', 'cageh', 'abgdf', 'dehcb', 'edahb', 'bghcd', 'fcabd', 'hgcdb', 'edafh', 'gcfbd', 'becgd', 'bdchg', 'ecfbg', 'bgfhc', 'hdbef', 'adebg', 'dhfcg', 'edafg', 'bhefc', 'dcfag', 'bdfhc', 'ehgbf', 'ehcag', 'hebdg', 'adgfc', 'dcehb', 'aebgf', 'aebcf', 'dfecb', 'acgdb', 'afdeh', 'hcfda', 'ecfgb', 'ghcfb', 'aecgh', 'abcfg', 'ahbde', 'gahbd', 'befhc', 'cahfe', 'habdf', 'efcga', 'dbegc', 'efhab', 'hgfed', 'gdahf', 'fegcd', 'hdgcf', 'ahegc', 'gefad', 'ghcde', 'efabc', 'dcfge', 'chdbf', 'cedha', 'dafhe', 'cdfbg', 'hfegd', 'fache', 'chegf', 'agbdh', 'hafge', 'fdgec', 'hdbcf', 'afgcb', 'gfhbe', 'afghc', 'ehbfg', 'bgdhe', 'fhagb', 'gfbed', 'aecbf', 'hcdbf', 'fghab', 'hdbgc', 'hcfbg', 'fdehb', 'ahcfg', 'bcgfd', 'dhagc', 'bgefd', 'fhace', 'efadg', 'gcfdb', 'fedah', 'hcfdg', 'cgebd', 'ahdgf', 'fagdc', 'chade', 'ecdgb', 'gahef', 'eagcb', 'hdcfa', 'dhbeg', 'bdchf', 'achef', 'ebghc', 'bgech', 'cefhd', 'cghdf', 'gdfch', 'fghdb', 'fecad', 'egdah', 'hafcg', 'egfca', 'ceabd', 'degch', 'dehcf', 'haedc', 'bedfg', 'hcdge', 'bchgf', 'egfab', 'edgfc', 'bcfge', 'ecbgd', 'cfabg', 'dbchg', 'hcfeg', 'dfaeb', 'efcbg', 'caehg', 'ceahd', 'gdabf', 'hgaef', 'eabcd', 'gdhfb', 'abdfc', 'cfhae', 'adghe', 'hbedg', 'hdefa', 'aefgc', 'cbedg', 'dcbhf', 'gedhf', 'hbfde', 'chbdg', 'begcd', 'ahfge', 'bedch', 'egadh', 'ahfeg', 'bdfhe', 'dehgf', 'fchbd', 'dcfhg', 'cbfge', 'haged', 'egbcf', 'dfhce', 'fchbe', 'ecabh', 'dfcha', 'bedgc', 'bdhfg', 'ahegf', 'hcdab', 'agbfh', 'gcahe', 'gfbde', 'hgdae', 'dafhb', 'hcgea', 'fhagc', 'hadge', 'acfge', 'hcegb', 'gfdhc', 'gchbd', 'cghbd', 'abgcf', 'ahcbd', 'aecdg', 'cfdhe', 'acbgd', 'aehfd', 'gfbec', 'fadeg', 'cedah', 'dhfae', 'cegab', 'ecfda', 'eacdb', 'fhdge', 'hcgfe', 'fchae', 'aehcg', 'dbghf', 'fcdab', 'adheg', 'hdgca', 'cgfdb', 'bcheg', 'bhegc', 'cgfad', 'acgde', 'abdfh', 'adhfe', 'hagfb', 'bhedc', 'dbehf', 'chdgb', 'ghdac', 'cgehb', 'adgfe', 'cehad', 'dbfge', 'gbefh', 'cdabh', 'gfcad', 'dcghe', 'gedfb', 'decfg', 'ehbgd', 'cgfhd', 'ghbdf', 'fchdb', 'fehgb', 'dbefh', 'fdhcb']\n"
     ]
    }
   ],
   "source": [
    "import random\n",
    "lst = ['a','b','c','d','e','f','g','h']\n",
    "result = []\n",
    "i=0\n",
    "not_changed = 0\n",
    "while i <= 6720:\n",
    "    pattern_len = 0\n",
    "    pattern = ''\n",
    "    while pattern_len < 5:\n",
    "        index = random.choice(lst)\n",
    "        \n",
    "        if ('b' in pattern) and (index == 'a'):\n",
    "            pattern_len = 0\n",
    "            pattern = ''\n",
    "            continue\n",
    "            \n",
    "        if index not in pattern:\n",
    "            pattern_len+=1\n",
    "            pattern+=index       \n",
    "            \n",
    "    if pattern not in result:\n",
    "        i+=1\n",
    "        result.append(pattern)\n",
    "    \n",
    "print(result)      "
   ]
  },
  {
   "cell_type": "code",
   "execution_count": 55,
   "id": "8bb3988e",
   "metadata": {},
   "outputs": [
    {
     "data": {
      "text/plain": [
       "3921"
      ]
     },
     "execution_count": 55,
     "metadata": {},
     "output_type": "execute_result"
    }
   ],
   "source": [
    "len(result)"
   ]
  },
  {
   "cell_type": "code",
   "execution_count": null,
   "id": "7c710d45",
   "metadata": {},
   "outputs": [],
   "source": [
    "lst = ['a','b','c','d','e','f','g','h']\n",
    "result = []\n",
    "i=0\n",
    "while i <= 6720:\n",
    "    j = 0\n",
    "    pattern = ''\n",
    "    index = random.choice(lst)\n",
    "    while j <= 5:\n",
    "        \n",
    "        if 'b' in pattern and index == 'a':\n",
    "            j = 0\n",
    "            pattern = ''\n",
    "            continue\n",
    "            \n",
    "        if index not in pattern:\n",
    "            j+=1\n",
    "            pattern +=str(index)\n",
    "            \n",
    "            \n",
    "    if pattern not in result:\n",
    "        i+=1\n",
    "        result.append(pattern)\n",
    "                \n",
    "print(result) "
   ]
  }
 ],
 "metadata": {
  "kernelspec": {
   "display_name": "Python 3 (ipykernel)",
   "language": "python",
   "name": "python3"
  },
  "language_info": {
   "codemirror_mode": {
    "name": "ipython",
    "version": 3
   },
   "file_extension": ".py",
   "mimetype": "text/x-python",
   "name": "python",
   "nbconvert_exporter": "python",
   "pygments_lexer": "ipython3",
   "version": "3.9.7"
  }
 },
 "nbformat": 4,
 "nbformat_minor": 5
}
