{
 "cells": [
  {
   "cell_type": "code",
   "execution_count": 2,
   "id": "3a712e48-86c1-4ef6-855c-bafd2e9cea11",
   "metadata": {},
   "outputs": [
    {
     "name": "stdout",
     "output_type": "stream",
     "text": [
      "Collecting findspark\n",
      "  Downloading findspark-2.0.1-py2.py3-none-any.whl (4.4 kB)\n",
      "Installing collected packages: findspark\n",
      "Successfully installed findspark-2.0.1\n"
     ]
    }
   ],
   "source": [
    "!pip install findspark"
   ]
  },
  {
   "cell_type": "code",
   "execution_count": 3,
   "id": "644208af-0306-4b4f-b71e-dc4c24a12382",
   "metadata": {},
   "outputs": [],
   "source": [
    "import findspark"
   ]
  },
  {
   "cell_type": "code",
   "execution_count": 4,
   "id": "7a7941de-968d-4c9f-8aec-4e1b57b5b3ad",
   "metadata": {},
   "outputs": [],
   "source": [
    "findspark.init()"
   ]
  },
  {
   "cell_type": "code",
   "execution_count": 5,
   "id": "f0c84e7a-e2d6-41fd-a03a-a3e0fdbab8d5",
   "metadata": {},
   "outputs": [],
   "source": [
    "import pyspark"
   ]
  },
  {
   "cell_type": "code",
   "execution_count": 6,
   "id": "43db847d-0891-46d3-8a1a-58c923e3e81f",
   "metadata": {},
   "outputs": [],
   "source": [
    "from pyspark.sql import SparkSession "
   ]
  },
  {
   "cell_type": "code",
   "execution_count": 31,
   "id": "f52a30e0-a00a-4f38-82fa-757ec320fa67",
   "metadata": {},
   "outputs": [],
   "source": [
    "from pyspark.sql.functions import date_format,col, countDistinct, count_distinct"
   ]
  },
  {
   "cell_type": "code",
   "execution_count": 7,
   "id": "b944ca59-ca7f-4f87-a451-c15eef0180c0",
   "metadata": {},
   "outputs": [
    {
     "name": "stderr",
     "output_type": "stream",
     "text": [
      "WARNING: Using incubator modules: jdk.incubator.vector\n",
      "Using Spark's default log4j profile: org/apache/spark/log4j2-defaults.properties\n",
      "25/07/19 12:32:36 WARN Utils: Your hostname, de-VirtualBox, resolves to a loopback address: 127.0.1.1; using 10.0.2.15 instead (on interface enp0s3)\n",
      "25/07/19 12:32:36 WARN Utils: Set SPARK_LOCAL_IP if you need to bind to another address\n",
      "Using Spark's default log4j profile: org/apache/spark/log4j2-defaults.properties\n",
      "Setting default log level to \"WARN\".\n",
      "To adjust logging level use sc.setLogLevel(newLevel). For SparkR, use setLogLevel(newLevel).\n",
      "25/07/19 12:32:38 WARN NativeCodeLoader: Unable to load native-hadoop library for your platform... using builtin-java classes where applicable\n"
     ]
    }
   ],
   "source": [
    "spark = SparkSession.builder.appName('finderApp').getOrCreate()"
   ]
  },
  {
   "cell_type": "code",
   "execution_count": 8,
   "id": "0c23ffb4-b5df-4fa2-b3a2-432e6d54888f",
   "metadata": {},
   "outputs": [
    {
     "data": {
      "text/html": [
       "\n",
       "            <div>\n",
       "                <p><b>SparkSession - in-memory</b></p>\n",
       "                \n",
       "        <div>\n",
       "            <p><b>SparkContext</b></p>\n",
       "\n",
       "            <p><a href=\"http://10.0.2.15:4040\">Spark UI</a></p>\n",
       "\n",
       "            <dl>\n",
       "              <dt>Version</dt>\n",
       "                <dd><code>v4.0.0</code></dd>\n",
       "              <dt>Master</dt>\n",
       "                <dd><code>local[*]</code></dd>\n",
       "              <dt>AppName</dt>\n",
       "                <dd><code>finderApp</code></dd>\n",
       "            </dl>\n",
       "        </div>\n",
       "        \n",
       "            </div>\n",
       "        "
      ],
      "text/plain": [
       "<pyspark.sql.session.SparkSession at 0x71c527fd8400>"
      ]
     },
     "execution_count": 8,
     "metadata": {},
     "output_type": "execute_result"
    }
   ],
   "source": [
    "spark"
   ]
  },
  {
   "cell_type": "code",
   "execution_count": 13,
   "id": "fe656858-bc5e-4bcc-88c4-f5dd35dc686a",
   "metadata": {},
   "outputs": [],
   "source": [
    "data = {\n",
    "(1,1,'2019-07-20','open_session'),\n",
    "(1,1,'2019-07-20','scroll_down'),\n",
    "(1,1,'2019-07-20','end_session'),\n",
    "(2,4,'2019-07-20','open_session'),\n",
    "(2,4,'2019-07-21','send_message'),\n",
    "(2,4,'2019-07-21','end_session'),\n",
    "(3,2,'2019-07-21','open_session'),\n",
    "(3,2,'2019-07-21','send_message'),\n",
    "(3,2,'2019-07-21','end_session'),\n",
    "(4,3,'2019-06-25','open_session'),\n",
    "(4,3,'2019-06-25','end_session')\n",
    "}\n",
    "\n",
    "schema = [\"user_id\",\"session_id\",\"activity_date\",\"activity_type\"]\n",
    "df_raw = spark.createDataFrame(data = data,schema = schema)\n",
    "df1 = df_raw.select(\"user_id\",\"session_id\",date_format(\"activity_date\",'yyyy-MM-dd').alias(\"activity_date\"), \"activity_type\")"
   ]
  },
  {
   "cell_type": "code",
   "execution_count": 16,
   "id": "668d1f27-000e-4453-b235-b6e2275aa31d",
   "metadata": {},
   "outputs": [
    {
     "name": "stdout",
     "output_type": "stream",
     "text": [
      "+-------+----------+-------------+-------------+\n",
      "|user_id|session_id|activity_date|activity_type|\n",
      "+-------+----------+-------------+-------------+\n",
      "|1      |1         |2019-07-20   |end_session  |\n",
      "|1      |1         |2019-07-20   |scroll_down  |\n",
      "|3      |2         |2019-07-21   |open_session |\n",
      "|4      |3         |2019-06-25   |end_session  |\n",
      "|2      |4         |2019-07-20   |open_session |\n",
      "|3      |2         |2019-07-21   |end_session  |\n",
      "|2      |4         |2019-07-21   |send_message |\n",
      "|2      |4         |2019-07-21   |end_session  |\n",
      "|3      |2         |2019-07-21   |send_message |\n",
      "|1      |1         |2019-07-20   |open_session |\n",
      "|4      |3         |2019-06-25   |open_session |\n",
      "+-------+----------+-------------+-------------+\n",
      "\n"
     ]
    }
   ],
   "source": [
    "df1.show(truncate=False)"
   ]
  },
  {
   "cell_type": "code",
   "execution_count": 29,
   "id": "86f1c629-d8b0-455f-8455-f6e7c51b59ab",
   "metadata": {},
   "outputs": [
    {
     "ename": "IndentationError",
     "evalue": "unexpected indent (1889680727.py, line 3)",
     "output_type": "error",
     "traceback": [
      "\u001b[0;36m  Cell \u001b[0;32mIn[29], line 3\u001b[0;36m\u001b[0m\n\u001b[0;31m    .groupby(col(\"activity_date\")).agg(countDistinct(\"user_id\")).alias(\"distinct_user_count\").show(truncate=False)\u001b[0m\n\u001b[0m    ^\u001b[0m\n\u001b[0;31mIndentationError\u001b[0m\u001b[0;31m:\u001b[0m unexpected indent\n"
     ]
    }
   ],
   "source": [
    "df1.where( (col(\"activity_date\") >= '2019-06-28') & (col(\"activity_date\") <= '2019-07-27'))\\\n",
    "    .select(col(\"activity_date\"), col(\"user_id\"))\\\n",
    "    .groupby(col(\"activity_date\")).agg(countDistinct(\"user_id\")).alias(\"distinct_user_count\").show(truncate=False)"
   ]
  },
  {
   "cell_type": "code",
   "execution_count": 38,
   "id": "2e8e255d-6c3a-4038-8a4e-5b39843c8e29",
   "metadata": {},
   "outputs": [
    {
     "name": "stdout",
     "output_type": "stream",
     "text": [
      "+-------------+-----------------------+\n",
      "|activity_date|count(DISTINCT user_id)|\n",
      "+-------------+-----------------------+\n",
      "|2019-07-21   |2                      |\n",
      "|2019-07-20   |2                      |\n",
      "+-------------+-----------------------+\n",
      "\n"
     ]
    }
   ],
   "source": [
    "df1.where( (col(\"activity_date\") >= '2019-06-28') & (col(\"activity_date\") <= '2019-07-27'))\\\n",
    "    .groupby(col(\"activity_date\"))\\\n",
    "    .agg(countDistinct(col(\"user_id\"))).alias(\"distinct_user_count\").show(truncate=False)"
   ]
  },
  {
   "cell_type": "markdown",
   "id": "69dca7ed-d8dc-40b3-927c-6acab3478e8d",
   "metadata": {},
   "source": [
    "## SQL Solution\n",
    "\n",
    "<pre>\n",
    "SELECT activity_date, count(DISTINCT user_id )\n",
    "FROM Activity\n",
    "WHERE activity_date BETWEEN ADDDATE('2019-07-27' INTERVAL -29 DAY) AND '2019-07-27'\n",
    "GROUP BY activity_date;\n",
    "</pre>"
   ]
  },
  {
   "cell_type": "code",
   "execution_count": null,
   "id": "2cabad03-17f5-4cf0-ad2e-7b4575f839aa",
   "metadata": {},
   "outputs": [],
   "source": []
  },
  {
   "cell_type": "code",
   "execution_count": null,
   "id": "95b769d8-6d8e-4164-bd81-c4e0e3f7aaef",
   "metadata": {},
   "outputs": [],
   "source": []
  },
  {
   "cell_type": "code",
   "execution_count": null,
   "id": "5bafa599-462c-4bcf-bf3e-a3ec817dad0e",
   "metadata": {},
   "outputs": [],
   "source": []
  },
  {
   "cell_type": "code",
   "execution_count": null,
   "id": "51026501-a016-44ce-bfc3-abbc642139fe",
   "metadata": {},
   "outputs": [],
   "source": []
  },
  {
   "cell_type": "code",
   "execution_count": null,
   "id": "0ef132a4-7c96-4f22-90fc-6dc193b5c69a",
   "metadata": {},
   "outputs": [],
   "source": []
  },
  {
   "cell_type": "code",
   "execution_count": null,
   "id": "f8032f9f-11d9-4739-ad27-d20918b74e2f",
   "metadata": {},
   "outputs": [],
   "source": []
  }
 ],
 "metadata": {
  "kernelspec": {
   "display_name": "Python 3 (ipykernel)",
   "language": "python",
   "name": "python3"
  },
  "language_info": {
   "codemirror_mode": {
    "name": "ipython",
    "version": 3
   },
   "file_extension": ".py",
   "mimetype": "text/x-python",
   "name": "python",
   "nbconvert_exporter": "python",
   "pygments_lexer": "ipython3",
   "version": "3.10.12"
  }
 },
 "nbformat": 4,
 "nbformat_minor": 5
}
